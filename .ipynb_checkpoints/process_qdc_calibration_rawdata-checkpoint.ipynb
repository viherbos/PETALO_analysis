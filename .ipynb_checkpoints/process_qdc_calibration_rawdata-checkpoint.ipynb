{
 "cells": [
  {
   "cell_type": "code",
   "execution_count": 1,
   "id": "41371f22",
   "metadata": {},
   "outputs": [],
   "source": [
    "import matplotlib.pylab as plt\n",
    "%matplotlib inline\n",
    "\n",
    "import pandas as pd\n",
    "import tables as tb\n",
    "import numpy  as np\n",
    "from glob import glob\n",
    "from datetime        import datetime"
   ]
  },
  {
   "cell_type": "code",
   "execution_count": 2,
   "id": "9b30021f",
   "metadata": {},
   "outputs": [],
   "source": [
    "def get_files(run):\n",
    "    folder = f'/analysis/{run}/hdf5/data/*h5'\n",
    "    files = glob(folder)\n",
    "    files.sort()\n",
    "    return files"
   ]
  },
  {
   "cell_type": "code",
   "execution_count": 3,
   "id": "43d3ce77",
   "metadata": {},
   "outputs": [],
   "source": [
    "def get_run_control(files):\n",
    "    dfs = []\n",
    "\n",
    "    for i, fname in enumerate(files):\n",
    "        df_tmp = pd.read_hdf(fname, 'dateEvents')\n",
    "        df_tmp['fileno'] = i\n",
    "        dfs.append(df_tmp)\n",
    "    df = pd.concat(dfs)\n",
    "    df['diff'] = df.run_control.diff().fillna(0)\n",
    "    return df"
   ]
  },
  {
   "cell_type": "code",
   "execution_count": 4,
   "id": "c8f5e617",
   "metadata": {},
   "outputs": [],
   "source": [
    "def filter_df_evts(df, evt_start, evt_end):\n",
    "    evt_filter = (df.evt_number >= evt_start) & (df.evt_number < evt_end)\n",
    "    df_filtered = df[evt_filter]\n",
    "    return df_filtered"
   ]
  },
  {
   "cell_type": "code",
   "execution_count": 5,
   "id": "9b3a3215",
   "metadata": {},
   "outputs": [],
   "source": [
    "def compute_limit_evts_based_on_run_control(df_run):\n",
    "    limits = df_run[df_run['diff'] != 0]\n",
    "    \n",
    "    start_evts = []\n",
    "    end_evts   = []\n",
    "    files1     = []\n",
    "    files2     = []\n",
    "\n",
    "    previous_start = 0\n",
    "    previous_end   = 0\n",
    "    file1 = 0\n",
    "    file2 = 0\n",
    "\n",
    "    for _, row in limits.iterrows():\n",
    "        file1 = file2\n",
    "        file2 = row.fileno\n",
    "        start_evts.append(previous_start)\n",
    "        end_evts  .append(row.evt_number)\n",
    "        files1    .append(file1)\n",
    "        files2    .append(file2)\n",
    "        previous_start = row.evt_number\n",
    "\n",
    "\n",
    "    start_evts.append(previous_start)\n",
    "    end_evts  .append(df_run.evt_number.values[-1])\n",
    "    files1    .append(row.fileno)\n",
    "    files2    .append(df_run.fileno    .values[-1])\n",
    "\n",
    "    # [start, end)\n",
    "    df_limits = pd.DataFrame({'start'  : start_evts,\n",
    "                              'end'    : end_evts,\n",
    "                              'file1' : files1,\n",
    "                              'file2' : files2})\n",
    "    return df_limits"
   ]
  },
  {
   "cell_type": "code",
   "execution_count": 6,
   "id": "36c1df0d",
   "metadata": {},
   "outputs": [],
   "source": [
    "def process_df_to_assign_tpulse_delays(files, limits, configs):\n",
    "    results = []\n",
    "    tofpet_evts = []\n",
    "    current_file1 = -1\n",
    "    df = pd.DataFrame()\n",
    "\n",
    "    for iteration, limit in limits.iterrows():\n",
    "        #print(iteration)\n",
    "        file1 = int(limit.file1)\n",
    "        file2 = int(limit.file2)\n",
    "\n",
    "        if file1 != current_file1:\n",
    "            df = pd.read_hdf(files[file1], 'data')\n",
    "            current_file1 = file1\n",
    "\n",
    "        df_filtered = filter_df_evts(df, limit.start, limit.end)\n",
    "\n",
    "        if file1 != file2:\n",
    "            df2          = pd.read_hdf(files[file2], 'data')\n",
    "            df2_filtered = filter_df_evts(df2, limit.start, limit.end)\n",
    "            df_filtered  = pd.concat([df_filtered, df2_filtered])\n",
    "\n",
    "            # Update file1\n",
    "            df = df2\n",
    "            current_file1 = file2\n",
    "\n",
    "        tofpet_evts.append(df_filtered.shape[0])\n",
    "        \n",
    "        #df_filtered['tpulse'] = configs[iteration]\n",
    "        df_filtered = df_filtered.copy()\n",
    "        df_filtered.loc[df_filtered.index, 'tpulse'] = configs[iteration]\n",
    "        results.append(df_filtered)\n",
    "\n",
    "    return pd.concat(results), tofpet_evts"
   ]
  },
  {
   "cell_type": "markdown",
   "id": "79d29d88",
   "metadata": {},
   "source": [
    "# TPULSE QDC"
   ]
  },
  {
   "cell_type": "code",
   "execution_count": 7,
   "id": "ae4c5bfe",
   "metadata": {},
   "outputs": [],
   "source": [
    "run_number = 10746\n",
    "run_number = 10772\n",
    "run_number = 10874 #high gain\n",
    "run_number = 10881 # high gain, ch 5, imirror 26\n",
    "run_number = 10882 # high gain, ch 5, imirror 23\n",
    "run_number = 10883 # high gain, ch 5, imirror 29\n",
    "run_number = 10884 # high gain, ch 5, imirror 29, gq2 = 1\n",
    "run_number = 10885 # high gain, ch 5, imirror 26, gq2 = 1\n",
    "run_number = 10886 # high gain, ch 5, imirror 26, rev12 3.65\n",
    "run_number = 10887 # high gain, ch 5, imirror 26, rev12 1.00\n",
    "run_number = 10888 # high gain, all ch, imirror 26, rev12 3.65\n",
    "run_number = 10894 # imirror 23, ch 0 asic0, 49V\n",
    "run_number = 10895 # imirror 23, ch 5 asic0, 49V, incorrect intg_w\n",
    "run_number = 10896 # imirror 23, ch 5 asic0, 49V, intw_g 0-127\n",
    "run_number = 10897 # imirror 23, ch 5 asic0, 0V, intw_g 0-127"
   ]
  },
  {
   "cell_type": "code",
   "execution_count": 10,
   "id": "95324e49",
   "metadata": {},
   "outputs": [
    {
     "data": {
      "text/plain": [
       "['/analysis/10897/hdf5/data/run_10897_0000_trigger1_waveforms.h5']"
      ]
     },
     "execution_count": 10,
     "metadata": {},
     "output_type": "execute_result"
    }
   ],
   "source": [
    "files = get_files(run_number)\n",
    "files"
   ]
  },
  {
   "cell_type": "code",
   "execution_count": 11,
   "id": "ce17a860",
   "metadata": {},
   "outputs": [],
   "source": [
    "df_run = get_run_control(files)"
   ]
  },
  {
   "cell_type": "code",
   "execution_count": 12,
   "id": "00e3a11a",
   "metadata": {},
   "outputs": [
    {
     "data": {
      "text/html": [
       "<div>\n",
       "<style scoped>\n",
       "    .dataframe tbody tr th:only-of-type {\n",
       "        vertical-align: middle;\n",
       "    }\n",
       "\n",
       "    .dataframe tbody tr th {\n",
       "        vertical-align: top;\n",
       "    }\n",
       "\n",
       "    .dataframe thead th {\n",
       "        text-align: right;\n",
       "    }\n",
       "</style>\n",
       "<table border=\"1\" class=\"dataframe\">\n",
       "  <thead>\n",
       "    <tr style=\"text-align: right;\">\n",
       "      <th></th>\n",
       "      <th>start</th>\n",
       "      <th>end</th>\n",
       "      <th>file1</th>\n",
       "      <th>file2</th>\n",
       "    </tr>\n",
       "  </thead>\n",
       "  <tbody>\n",
       "    <tr>\n",
       "      <th>0</th>\n",
       "      <td>0.0</td>\n",
       "      <td>953.0</td>\n",
       "      <td>0.0</td>\n",
       "      <td>0.0</td>\n",
       "    </tr>\n",
       "    <tr>\n",
       "      <th>1</th>\n",
       "      <td>953.0</td>\n",
       "      <td>1427.0</td>\n",
       "      <td>0.0</td>\n",
       "      <td>0.0</td>\n",
       "    </tr>\n",
       "    <tr>\n",
       "      <th>2</th>\n",
       "      <td>1427.0</td>\n",
       "      <td>1901.0</td>\n",
       "      <td>0.0</td>\n",
       "      <td>0.0</td>\n",
       "    </tr>\n",
       "    <tr>\n",
       "      <th>3</th>\n",
       "      <td>1901.0</td>\n",
       "      <td>2375.0</td>\n",
       "      <td>0.0</td>\n",
       "      <td>0.0</td>\n",
       "    </tr>\n",
       "    <tr>\n",
       "      <th>4</th>\n",
       "      <td>2375.0</td>\n",
       "      <td>2849.0</td>\n",
       "      <td>0.0</td>\n",
       "      <td>0.0</td>\n",
       "    </tr>\n",
       "  </tbody>\n",
       "</table>\n",
       "</div>"
      ],
      "text/plain": [
       "    start     end  file1  file2\n",
       "0     0.0   953.0    0.0    0.0\n",
       "1   953.0  1427.0    0.0    0.0\n",
       "2  1427.0  1901.0    0.0    0.0\n",
       "3  1901.0  2375.0    0.0    0.0\n",
       "4  2375.0  2849.0    0.0    0.0"
      ]
     },
     "execution_count": 12,
     "metadata": {},
     "output_type": "execute_result"
    }
   ],
   "source": [
    "limits = compute_limit_evts_based_on_run_control(df_run)\n",
    "limits.head()"
   ]
  },
  {
   "cell_type": "code",
   "execution_count": 13,
   "id": "f14ee498",
   "metadata": {},
   "outputs": [],
   "source": [
    "configs = np.tile(np.arange(0, 300, 10), 64)"
   ]
  },
  {
   "cell_type": "code",
   "execution_count": 14,
   "id": "052856cd",
   "metadata": {},
   "outputs": [],
   "source": [
    "df_data, tofpet_evts = process_df_to_assign_tpulse_delays(files, limits, configs)"
   ]
  },
  {
   "cell_type": "code",
   "execution_count": 15,
   "id": "04c69725",
   "metadata": {},
   "outputs": [
    {
     "name": "stdout",
     "output_type": "stream",
     "text": [
      "0: 0\n",
      "1: 0\n",
      "2: 0\n",
      "3: 0\n",
      "4: 0\n",
      "5: 30\n",
      "6: 0\n",
      "7: 0\n",
      "8: 0\n",
      "9: 0\n",
      "10: 0\n",
      "11: 0\n",
      "12: 0\n",
      "13: 0\n",
      "14: 0\n",
      "15: 0\n",
      "16: 0\n",
      "17: 0\n",
      "18: 0\n",
      "19: 0\n",
      "20: 0\n",
      "21: 0\n",
      "22: 0\n",
      "23: 0\n",
      "24: 0\n",
      "25: 0\n",
      "26: 0\n",
      "27: 0\n",
      "28: 0\n",
      "29: 0\n",
      "30: 0\n",
      "31: 0\n",
      "32: 0\n",
      "33: 0\n",
      "34: 0\n",
      "35: 0\n",
      "36: 0\n",
      "37: 0\n",
      "38: 0\n",
      "39: 0\n",
      "40: 0\n",
      "41: 0\n",
      "42: 0\n",
      "43: 0\n",
      "44: 0\n",
      "45: 0\n",
      "46: 0\n",
      "47: 0\n",
      "48: 0\n",
      "49: 0\n",
      "50: 0\n",
      "51: 0\n",
      "52: 0\n",
      "53: 0\n",
      "54: 0\n",
      "55: 0\n",
      "56: 0\n",
      "57: 0\n",
      "58: 0\n",
      "59: 0\n",
      "60: 0\n",
      "61: 0\n",
      "62: 0\n",
      "63: 0\n"
     ]
    }
   ],
   "source": [
    "for channel in range(64):\n",
    "    n_phases = df_data[(df_data.channel_id == channel) & (df_data.tofpet_id == 0)].tpulse.unique().shape[0]\n",
    "    print(f\"{channel}: {n_phases}\")\n",
    "    \n",
    "    df_filtered = df_data[(df_data.channel_id == channel) & (df_data.tofpet_id == 0)]\n",
    "    df_filtered.to_hdf('10897_qdc_ch5_asic0_49v.h5', mode='a', key=f'ch{channel}', format='table')"
   ]
  },
  {
   "cell_type": "code",
   "execution_count": null,
   "id": "02efbf7e",
   "metadata": {},
   "outputs": [],
   "source": []
  }
 ],
 "metadata": {
  "kernelspec": {
   "display_name": "Python 3",
   "language": "python",
   "name": "python3"
  },
  "language_info": {
   "codemirror_mode": {
    "name": "ipython",
    "version": 3
   },
   "file_extension": ".py",
   "mimetype": "text/x-python",
   "name": "python",
   "nbconvert_exporter": "python",
   "pygments_lexer": "ipython3",
   "version": "3.8.5"
  }
 },
 "nbformat": 4,
 "nbformat_minor": 5
}
