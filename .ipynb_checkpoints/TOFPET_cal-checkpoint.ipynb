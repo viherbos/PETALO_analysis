{
 "cells": [
  {
   "cell_type": "code",
   "execution_count": 4,
   "metadata": {},
   "outputs": [],
   "source": [
    "import numpy as np\n",
    "import scipy as sp\n",
    "import pandas as pd\n",
    "import matplotlib.pyplot as plt\n",
    "import TOFPET_cal_lib as TPcal\n",
    "\n",
    "%matplotlib nbagg\n",
    "%load_ext autoreload\n",
    "%autoreload 2"
   ]
  },
  {
   "cell_type": "code",
   "execution_count": 15,
   "metadata": {},
   "outputs": [
    {
     "name": "stdout",
     "output_type": "stream",
     "text": [
      "['/ch0', '/ch1', '/ch10', '/ch11', '/ch12', '/ch13', '/ch14', '/ch15', '/ch16', '/ch17', '/ch18', '/ch19', '/ch2', '/ch20', '/ch21', '/ch22', '/ch23', '/ch24', '/ch25', '/ch26', '/ch27', '/ch28', '/ch29', '/ch3', '/ch30', '/ch31', '/ch32', '/ch33', '/ch34', '/ch35', '/ch36', '/ch37', '/ch38', '/ch39', '/ch4', '/ch40', '/ch41', '/ch42', '/ch43', '/ch44', '/ch45', '/ch46', '/ch47', '/ch48', '/ch49', '/ch5', '/ch50', '/ch51', '/ch52', '/ch53', '/ch54', '/ch55', '/ch56', '/ch57', '/ch58', '/ch59', '/ch6', '/ch60', '/ch61', '/ch62', '/ch63', '/ch7', '/ch8', '/ch9']\n"
     ]
    }
   ],
   "source": [
    "filename = \"/home/viherbos/DATA_daq/calibration_tpulse_allch_cold.h5\"\n",
    "with pd.HDFStore(filename) as hdf:\n",
    "    print(hdf.keys())"
   ]
  },
  {
   "cell_type": "markdown",
   "metadata": {},
   "source": [
    "# DATA SELECTION"
   ]
  },
  {
   "cell_type": "code",
   "execution_count": 18,
   "metadata": {},
   "outputs": [],
   "source": [
    "channel = 0\n",
    "tac     = 0\n",
    "data = pd.read_hdf(filename,key='ch'+str(channel))\n",
    "data = data[data['tac_id']==tac]"
   ]
  },
  {
   "cell_type": "markdown",
   "metadata": {},
   "source": [
    "# GAUSSIAN FITTING OF INITIAL DATA"
   ]
  },
  {
   "cell_type": "code",
   "execution_count": null,
   "metadata": {},
   "outputs": [],
   "source": []
  }
 ],
 "metadata": {
  "kernelspec": {
   "display_name": "Python 3",
   "language": "python",
   "name": "python3"
  },
  "language_info": {
   "codemirror_mode": {
    "name": "ipython",
    "version": 3
   },
   "file_extension": ".py",
   "mimetype": "text/x-python",
   "name": "python",
   "nbconvert_exporter": "python",
   "pygments_lexer": "ipython3",
   "version": "3.8.5"
  }
 },
 "nbformat": 4,
 "nbformat_minor": 4
}
