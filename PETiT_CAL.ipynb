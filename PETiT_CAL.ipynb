{
 "cells": [
  {
   "cell_type": "code",
   "execution_count": 1,
   "id": "d2bf9ffa",
   "metadata": {},
   "outputs": [],
   "source": [
    "import numpy as np\n",
    "import scipy as sp\n",
    "import pandas as pd\n",
    "import matplotlib.pyplot as plt\n",
    "import TOFPET_cal_lib as TPcal\n",
    "\n",
    "%matplotlib nbagg\n",
    "%load_ext autoreload\n",
    "%autoreload 2"
   ]
  },
  {
   "cell_type": "code",
   "execution_count": 2,
   "id": "1b46be4e",
   "metadata": {},
   "outputs": [],
   "source": [
    "run = 10897\n",
    "asic = 0\n",
    "path      = \"/home/vherrero/CALIBRATION_FILES/\"\n",
    "#path_data = \"/analysis/\" + str(run) + \"/hdf5/data/\"\n",
    "path_data = \"/home/vherrero/CALIBRATION_FILES/\""
   ]
  },
  {
   "cell_type": "markdown",
   "id": "58d66804",
   "metadata": {},
   "source": [
    "# THRESHOLDS CALIBRATION"
   ]
  },
  {
   "cell_type": "code",
   "execution_count": null,
   "id": "de03d90e",
   "metadata": {},
   "outputs": [],
   "source": [
    "thr = 'vth_t1'"
   ]
  },
  {
   "cell_type": "code",
   "execution_count": null,
   "id": "8ae19355",
   "metadata": {},
   "outputs": [],
   "source": [
    "filename = path + \"data/asic0_t1_lsb58_baseline30.h5\"\n",
    "with pd.HDFStore(filename) as hdf:\n",
    "    channels = hdf.keys()\n",
    "    print(channels)"
   ]
  },
  {
   "cell_type": "code",
   "execution_count": null,
   "id": "1ec73160",
   "metadata": {},
   "outputs": [],
   "source": [
    "data = pd.read_hdf(filename,key='data')\n",
    "\n",
    "fig, axs = plt.subplots(8,8)\n",
    "res = []\n",
    "\n",
    "for i in range(0,8):\n",
    "    for j in range(0,8):\n",
    "        if data[data['channel_id']==i*8+j].size == 0:\n",
    "            pass\n",
    "        else: \n",
    "            sol,fit=TPcal.Tn_fit(data,i*8+j,thr,min_count=1,plot=True,axis=axs[i,j])\n",
    "            print(sol)\n",
    "            res.append([i*8+j,sol,fit.coeff[0],fit.coeff[2]])\n",
    "\n",
    "df_thr1 = pd.DataFrame(res,columns=['channel_id','thr_t1','slope','mu'])"
   ]
  },
  {
   "cell_type": "code",
   "execution_count": null,
   "id": "e044ffc6",
   "metadata": {},
   "outputs": [],
   "source": [
    "thr = 'vth_t2'"
   ]
  },
  {
   "cell_type": "code",
   "execution_count": null,
   "id": "37867e08",
   "metadata": {},
   "outputs": [],
   "source": [
    "filename = path + \"data/asic0_t2_lsb58_baseline30.h5\"\n",
    "with pd.HDFStore(filename) as hdf:\n",
    "    channels = hdf.keys()\n",
    "    print(channels)"
   ]
  },
  {
   "cell_type": "code",
   "execution_count": null,
   "id": "96afecdf",
   "metadata": {},
   "outputs": [],
   "source": [
    "data = pd.read_hdf(filename,key='data')\n",
    "\n",
    "fig, axs = plt.subplots(8,8)\n",
    "res = []\n",
    "\n",
    "for i in range(0,8):\n",
    "    for j in range(0,8):\n",
    "        if data[data['channel_id']==i*8+j].size == 0:\n",
    "            pass\n",
    "        else: \n",
    "            sol,fit=TPcal.Tn_fit(data,i*8+j,thr,min_count=1,plot=True,axis=axs[i,j])\n",
    "            print(sol)\n",
    "            res.append([i*8+j,sol,fit.coeff[0],fit.coeff[2]])\n",
    "\n",
    "df_thr2 = pd.DataFrame(res,columns=['channel_id','thr_t2','slope','mu'])"
   ]
  },
  {
   "cell_type": "markdown",
   "id": "684b90b4",
   "metadata": {},
   "source": [
    "# Be Careful : Don't Overwrite Calibration Files\n",
    "storage = pd.HDFStore(path + '/asic0_thresholds_cal_49v.h5','w',complib=\"zlib\",complevel=4)\n",
    "storage.put('thr1',df_thr1,index=False,format='table',data_columns=True)\n",
    "storage.put('thr2',df_thr2,index=False,format='table',data_columns=True)\n",
    "#storage.put('efine',df_qfine,index=False,format='table',data_columns=True)\n",
    "storage.close()"
   ]
  },
  {
   "cell_type": "markdown",
   "id": "4e848eec",
   "metadata": {},
   "source": [
    "## Threshold computation Example"
   ]
  },
  {
   "cell_type": "code",
   "execution_count": null,
   "id": "9a863146",
   "metadata": {},
   "outputs": [],
   "source": [
    "data = pd.read_hdf(filename,key='data')\n",
    "fig, axs = plt.subplots(1)\n",
    "sol=TPcal.Tn_fit(data,49,'vth_t1',min_count=1,plot=True,axis=axs)\n",
    "#axs.plot(np.arange(0,62),TPcal.saturation(np.arange(0,62),18,3.6,34,2E6))\n",
    "print(sol)"
   ]
  },
  {
   "cell_type": "markdown",
   "id": "0ccfdc24",
   "metadata": {},
   "source": [
    "## Read calibration data"
   ]
  },
  {
   "cell_type": "code",
   "execution_count": null,
   "id": "9bb45a2d",
   "metadata": {},
   "outputs": [],
   "source": [
    "filename = path +\"/asic0_thresholds_cal_49v.h5\"\n",
    "with pd.HDFStore(filename) as hdf:\n",
    "    channels = hdf.keys()\n",
    "    print(channels)\n",
    "    print(hdf.thr2[hdf.thr2['channel_id']==20])"
   ]
  }
 ],
 "metadata": {
  "kernelspec": {
   "display_name": "Python 3",
   "language": "python",
   "name": "python3"
  },
  "language_info": {
   "codemirror_mode": {
    "name": "ipython",
    "version": 3
   },
   "file_extension": ".py",
   "mimetype": "text/x-python",
   "name": "python",
   "nbconvert_exporter": "python",
   "pygments_lexer": "ipython3",
   "version": "3.8.5"
  }
 },
 "nbformat": 4,
 "nbformat_minor": 5
}
