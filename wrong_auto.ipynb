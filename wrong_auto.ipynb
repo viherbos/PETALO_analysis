{
 "cells": [
  {
   "cell_type": "code",
   "execution_count": 46,
   "id": "3195c124",
   "metadata": {},
   "outputs": [
    {
     "name": "stdout",
     "output_type": "stream",
     "text": [
      "The autoreload extension is already loaded. To reload it, use:\n",
      "  %reload_ext autoreload\n"
     ]
    }
   ],
   "source": [
    "import numpy as np\n",
    "import scipy as sp\n",
    "import pandas as pd\n",
    "import matplotlib.pyplot as plt\n",
    "from scipy import signal\n",
    "from scipy.optimize import curve_fit\n",
    "from scipy.optimize import least_squares\n",
    "\n",
    "import TOFPET_ToT_lib as tot\n",
    "from scipy import interpolate\n",
    "import time\n",
    "import build_data_df_mine as bd\n",
    "from functools import partial\n",
    "import multiprocessing as mp\n",
    "\n",
    "%matplotlib nbagg\n",
    "%load_ext autoreload\n",
    "%autoreload 2"
   ]
  },
  {
   "cell_type": "markdown",
   "id": "ab33864c",
   "metadata": {},
   "source": [
    "# Compute Energy Spectrum approximation based on ToT addition. \n",
    "### (Filtered events, see process_energy_ToT function)"
   ]
  },
  {
   "cell_type": "code",
   "execution_count": 2,
   "id": "b267dda0",
   "metadata": {},
   "outputs": [],
   "source": [
    "run_number = 11309\n",
    "n_files = 20\n",
    "conversion_table = \"ToT_PE_conversion12d_high.h5\"\n",
    "path_image_out   = \"/home/vherrero/RESULTS/images/\"\n",
    "path_preprocessed = \"/home/vherrero/PROCESSED_FILES/\"\n",
    "file_preprocessed = path_preprocessed + \"run_\" + str(run_number) + \"_zones_preprocess.h5\""
   ]
  },
  {
   "cell_type": "code",
   "execution_count": 3,
   "id": "bb674193",
   "metadata": {},
   "outputs": [
    {
     "name": "stdout",
     "output_type": "stream",
     "text": [
      "File 0 | Chunk /data_0\n",
      "File 2 | Chunk /data_0\n",
      "File 1 | Chunk /data_0\n",
      "File 7 | Chunk /data_0\n",
      "File 15 | Chunk /data_0\n",
      "File 18 | Chunk /data_0\n",
      "File 12 | Chunk /data_0File 14 | Chunk /data_0\n",
      "\n",
      "File 9 | Chunk /data_0\n",
      "File 11 | Chunk /data_0\n",
      "File 19 | Chunk /data_0\n",
      "File 6 | Chunk /data_0\n",
      "File 5 | Chunk /data_0\n",
      "File 13 | Chunk /data_0\n",
      "File 4 | Chunk /data_0\n",
      "File 16 | Chunk /data_0\n",
      "File 8 | Chunk /data_0\n",
      "File 10 | Chunk /data_0\n",
      "File 17 | Chunk /data_0\n",
      "File 3 | Chunk /data_0\n"
     ]
    },
    {
     "name": "stderr",
     "output_type": "stream",
     "text": [
      "/volumedisk0/home/vherrero/PETALO_analysis/TOFPET_ToT_lib.py:120: SettingWithCopyWarning: \n",
      "A value is trying to be set on a copy of a slice from a DataFrame.\n",
      "Try using .loc[row_indexer,col_indexer] = value instead\n",
      "\n",
      "See the caveats in the documentation: https://pandas.pydata.org/pandas-docs/stable/user_guide/indexing.html#returning-a-view-versus-a-copy\n",
      "  data_f0['intg_w_ToT'] = data_f0.loc[:,'t2'] - data_f0.loc[:,'t1']\n",
      "/volumedisk0/home/vherrero/PETALO_analysis/TOFPET_ToT_lib.py:120: SettingWithCopyWarning: \n",
      "A value is trying to be set on a copy of a slice from a DataFrame.\n",
      "Try using .loc[row_indexer,col_indexer] = value instead\n",
      "\n",
      "See the caveats in the documentation: https://pandas.pydata.org/pandas-docs/stable/user_guide/indexing.html#returning-a-view-versus-a-copy\n",
      "  data_f0['intg_w_ToT'] = data_f0.loc[:,'t2'] - data_f0.loc[:,'t1']\n",
      "/volumedisk0/home/vherrero/PETALO_analysis/TOFPET_ToT_lib.py:120: SettingWithCopyWarning: \n",
      "A value is trying to be set on a copy of a slice from a DataFrame.\n",
      "Try using .loc[row_indexer,col_indexer] = value instead\n",
      "\n",
      "See the caveats in the documentation: https://pandas.pydata.org/pandas-docs/stable/user_guide/indexing.html#returning-a-view-versus-a-copy\n",
      "  data_f0['intg_w_ToT'] = data_f0.loc[:,'t2'] - data_f0.loc[:,'t1']\n",
      "/volumedisk0/home/vherrero/PETALO_analysis/TOFPET_ToT_lib.py:120: SettingWithCopyWarning: \n",
      "A value is trying to be set on a copy of a slice from a DataFrame.\n",
      "Try using .loc[row_indexer,col_indexer] = value instead\n",
      "\n",
      "See the caveats in the documentation: https://pandas.pydata.org/pandas-docs/stable/user_guide/indexing.html#returning-a-view-versus-a-copy\n",
      "  data_f0['intg_w_ToT'] = data_f0.loc[:,'t2'] - data_f0.loc[:,'t1']\n",
      "/volumedisk0/home/vherrero/PETALO_analysis/TOFPET_ToT_lib.py:120: SettingWithCopyWarning: \n",
      "A value is trying to be set on a copy of a slice from a DataFrame.\n",
      "Try using .loc[row_indexer,col_indexer] = value instead\n",
      "\n",
      "See the caveats in the documentation: https://pandas.pydata.org/pandas-docs/stable/user_guide/indexing.html#returning-a-view-versus-a-copy\n",
      "  data_f0['intg_w_ToT'] = data_f0.loc[:,'t2'] - data_f0.loc[:,'t1']\n",
      "/volumedisk0/home/vherrero/PETALO_analysis/TOFPET_ToT_lib.py:120: SettingWithCopyWarning: \n",
      "A value is trying to be set on a copy of a slice from a DataFrame.\n",
      "Try using .loc[row_indexer,col_indexer] = value instead\n",
      "\n",
      "See the caveats in the documentation: https://pandas.pydata.org/pandas-docs/stable/user_guide/indexing.html#returning-a-view-versus-a-copy\n",
      "  data_f0['intg_w_ToT'] = data_f0.loc[:,'t2'] - data_f0.loc[:,'t1']\n",
      "/volumedisk0/home/vherrero/PETALO_analysis/TOFPET_ToT_lib.py:120: SettingWithCopyWarning: \n",
      "A value is trying to be set on a copy of a slice from a DataFrame.\n",
      "Try using .loc[row_indexer,col_indexer] = value instead\n",
      "\n",
      "See the caveats in the documentation: https://pandas.pydata.org/pandas-docs/stable/user_guide/indexing.html#returning-a-view-versus-a-copy\n",
      "  data_f0['intg_w_ToT'] = data_f0.loc[:,'t2'] - data_f0.loc[:,'t1']\n",
      "/volumedisk0/home/vherrero/PETALO_analysis/TOFPET_ToT_lib.py:120: SettingWithCopyWarning: \n",
      "A value is trying to be set on a copy of a slice from a DataFrame.\n",
      "Try using .loc[row_indexer,col_indexer] = value instead\n",
      "\n",
      "See the caveats in the documentation: https://pandas.pydata.org/pandas-docs/stable/user_guide/indexing.html#returning-a-view-versus-a-copy\n",
      "  data_f0['intg_w_ToT'] = data_f0.loc[:,'t2'] - data_f0.loc[:,'t1']\n",
      "/volumedisk0/home/vherrero/PETALO_analysis/TOFPET_ToT_lib.py:120: SettingWithCopyWarning: \n",
      "A value is trying to be set on a copy of a slice from a DataFrame.\n",
      "Try using .loc[row_indexer,col_indexer] = value instead\n",
      "\n",
      "See the caveats in the documentation: https://pandas.pydata.org/pandas-docs/stable/user_guide/indexing.html#returning-a-view-versus-a-copy\n",
      "  data_f0['intg_w_ToT'] = data_f0.loc[:,'t2'] - data_f0.loc[:,'t1']\n",
      "/volumedisk0/home/vherrero/PETALO_analysis/TOFPET_ToT_lib.py:120: SettingWithCopyWarning: \n",
      "A value is trying to be set on a copy of a slice from a DataFrame.\n",
      "Try using .loc[row_indexer,col_indexer] = value instead\n",
      "\n",
      "See the caveats in the documentation: https://pandas.pydata.org/pandas-docs/stable/user_guide/indexing.html#returning-a-view-versus-a-copy\n",
      "  data_f0['intg_w_ToT'] = data_f0.loc[:,'t2'] - data_f0.loc[:,'t1']\n",
      "/volumedisk0/home/vherrero/PETALO_analysis/TOFPET_ToT_lib.py:120: SettingWithCopyWarning: \n",
      "A value is trying to be set on a copy of a slice from a DataFrame.\n",
      "Try using .loc[row_indexer,col_indexer] = value instead\n",
      "\n",
      "See the caveats in the documentation: https://pandas.pydata.org/pandas-docs/stable/user_guide/indexing.html#returning-a-view-versus-a-copy\n",
      "  data_f0['intg_w_ToT'] = data_f0.loc[:,'t2'] - data_f0.loc[:,'t1']\n",
      "/volumedisk0/home/vherrero/PETALO_analysis/TOFPET_ToT_lib.py:120: SettingWithCopyWarning: \n",
      "A value is trying to be set on a copy of a slice from a DataFrame.\n",
      "Try using .loc[row_indexer,col_indexer] = value instead\n",
      "\n",
      "See the caveats in the documentation: https://pandas.pydata.org/pandas-docs/stable/user_guide/indexing.html#returning-a-view-versus-a-copy\n",
      "  data_f0['intg_w_ToT'] = data_f0.loc[:,'t2'] - data_f0.loc[:,'t1']\n",
      "/volumedisk0/home/vherrero/PETALO_analysis/TOFPET_ToT_lib.py:120: SettingWithCopyWarning: \n",
      "A value is trying to be set on a copy of a slice from a DataFrame.\n",
      "Try using .loc[row_indexer,col_indexer] = value instead\n",
      "\n",
      "See the caveats in the documentation: https://pandas.pydata.org/pandas-docs/stable/user_guide/indexing.html#returning-a-view-versus-a-copy\n",
      "  data_f0['intg_w_ToT'] = data_f0.loc[:,'t2'] - data_f0.loc[:,'t1']\n",
      "/volumedisk0/home/vherrero/PETALO_analysis/TOFPET_ToT_lib.py:120: SettingWithCopyWarning: \n",
      "A value is trying to be set on a copy of a slice from a DataFrame.\n",
      "Try using .loc[row_indexer,col_indexer] = value instead\n",
      "\n",
      "See the caveats in the documentation: https://pandas.pydata.org/pandas-docs/stable/user_guide/indexing.html#returning-a-view-versus-a-copy\n",
      "  data_f0['intg_w_ToT'] = data_f0.loc[:,'t2'] - data_f0.loc[:,'t1']\n",
      "/volumedisk0/home/vherrero/PETALO_analysis/TOFPET_ToT_lib.py:120: SettingWithCopyWarning: \n",
      "A value is trying to be set on a copy of a slice from a DataFrame.\n",
      "Try using .loc[row_indexer,col_indexer] = value instead\n",
      "\n",
      "See the caveats in the documentation: https://pandas.pydata.org/pandas-docs/stable/user_guide/indexing.html#returning-a-view-versus-a-copy\n",
      "  data_f0['intg_w_ToT'] = data_f0.loc[:,'t2'] - data_f0.loc[:,'t1']\n",
      "/volumedisk0/home/vherrero/PETALO_analysis/TOFPET_ToT_lib.py:120: SettingWithCopyWarning: \n",
      "A value is trying to be set on a copy of a slice from a DataFrame.\n",
      "Try using .loc[row_indexer,col_indexer] = value instead\n",
      "\n",
      "See the caveats in the documentation: https://pandas.pydata.org/pandas-docs/stable/user_guide/indexing.html#returning-a-view-versus-a-copy\n",
      "  data_f0['intg_w_ToT'] = data_f0.loc[:,'t2'] - data_f0.loc[:,'t1']\n",
      "/volumedisk0/home/vherrero/PETALO_analysis/TOFPET_ToT_lib.py:120: SettingWithCopyWarning: \n",
      "A value is trying to be set on a copy of a slice from a DataFrame.\n",
      "Try using .loc[row_indexer,col_indexer] = value instead\n",
      "\n",
      "See the caveats in the documentation: https://pandas.pydata.org/pandas-docs/stable/user_guide/indexing.html#returning-a-view-versus-a-copy\n",
      "  data_f0['intg_w_ToT'] = data_f0.loc[:,'t2'] - data_f0.loc[:,'t1']\n",
      "/volumedisk0/home/vherrero/PETALO_analysis/TOFPET_ToT_lib.py:120: SettingWithCopyWarning: \n",
      "A value is trying to be set on a copy of a slice from a DataFrame.\n",
      "Try using .loc[row_indexer,col_indexer] = value instead\n",
      "\n",
      "See the caveats in the documentation: https://pandas.pydata.org/pandas-docs/stable/user_guide/indexing.html#returning-a-view-versus-a-copy\n",
      "  data_f0['intg_w_ToT'] = data_f0.loc[:,'t2'] - data_f0.loc[:,'t1']\n",
      "/volumedisk0/home/vherrero/PETALO_analysis/TOFPET_ToT_lib.py:120: SettingWithCopyWarning: \n",
      "A value is trying to be set on a copy of a slice from a DataFrame.\n",
      "Try using .loc[row_indexer,col_indexer] = value instead\n",
      "\n",
      "See the caveats in the documentation: https://pandas.pydata.org/pandas-docs/stable/user_guide/indexing.html#returning-a-view-versus-a-copy\n",
      "  data_f0['intg_w_ToT'] = data_f0.loc[:,'t2'] - data_f0.loc[:,'t1']\n",
      "/volumedisk0/home/vherrero/PETALO_analysis/TOFPET_ToT_lib.py:120: SettingWithCopyWarning: \n",
      "A value is trying to be set on a copy of a slice from a DataFrame.\n",
      "Try using .loc[row_indexer,col_indexer] = value instead\n",
      "\n",
      "See the caveats in the documentation: https://pandas.pydata.org/pandas-docs/stable/user_guide/indexing.html#returning-a-view-versus-a-copy\n",
      "  data_f0['intg_w_ToT'] = data_f0.loc[:,'t2'] - data_f0.loc[:,'t1']\n"
     ]
    },
    {
     "name": "stderr",
     "output_type": "stream",
     "text": [
      "/volumedisk0/home/vherrero/PETALO_analysis/TOFPET_ToT_lib.py:128: UserWarning: Boolean Series key will be reindexed to match DataFrame index.\n",
      "  data_f1 = data_f0[sel]\n",
      "/volumedisk0/home/vherrero/PETALO_analysis/TOFPET_ToT_lib.py:128: UserWarning: Boolean Series key will be reindexed to match DataFrame index.\n",
      "  data_f1 = data_f0[sel]\n"
     ]
    },
    {
     "name": "stdout",
     "output_type": "stream",
     "text": [
      "File 0 | Chunk /data_1\n"
     ]
    },
    {
     "name": "stderr",
     "output_type": "stream",
     "text": [
      "/volumedisk0/home/vherrero/PETALO_analysis/TOFPET_ToT_lib.py:128: UserWarning: Boolean Series key will be reindexed to match DataFrame index.\n",
      "  data_f1 = data_f0[sel]\n",
      "/volumedisk0/home/vherrero/PETALO_analysis/TOFPET_ToT_lib.py:128: UserWarning: Boolean Series key will be reindexed to match DataFrame index.\n",
      "  data_f1 = data_f0[sel]\n",
      "/volumedisk0/home/vherrero/PETALO_analysis/TOFPET_ToT_lib.py:128: UserWarning: Boolean Series key will be reindexed to match DataFrame index.\n",
      "  data_f1 = data_f0[sel]\n",
      "/volumedisk0/home/vherrero/PETALO_analysis/TOFPET_ToT_lib.py:128: UserWarning: Boolean Series key will be reindexed to match DataFrame index.\n",
      "  data_f1 = data_f0[sel]\n",
      "/volumedisk0/home/vherrero/PETALO_analysis/TOFPET_ToT_lib.py:128: UserWarning: Boolean Series key will be reindexed to match DataFrame index.\n",
      "  data_f1 = data_f0[sel]\n",
      "/volumedisk0/home/vherrero/PETALO_analysis/TOFPET_ToT_lib.py:128: UserWarning: Boolean Series key will be reindexed to match DataFrame index.\n",
      "  data_f1 = data_f0[sel]\n",
      "/volumedisk0/home/vherrero/PETALO_analysis/TOFPET_ToT_lib.py:128: UserWarning: Boolean Series key will be reindexed to match DataFrame index.\n",
      "  data_f1 = data_f0[sel]\n",
      "/volumedisk0/home/vherrero/PETALO_analysis/TOFPET_ToT_lib.py:128: UserWarning: Boolean Series key will be reindexed to match DataFrame index.\n",
      "  data_f1 = data_f0[sel]\n"
     ]
    },
    {
     "name": "stdout",
     "output_type": "stream",
     "text": [
      "File 2 | Chunk /data_1\n"
     ]
    },
    {
     "name": "stderr",
     "output_type": "stream",
     "text": [
      "/volumedisk0/home/vherrero/PETALO_analysis/TOFPET_ToT_lib.py:128: UserWarning: Boolean Series key will be reindexed to match DataFrame index.\n",
      "  data_f1 = data_f0[sel]\n"
     ]
    },
    {
     "name": "stdout",
     "output_type": "stream",
     "text": [
      "File 9 | Chunk /data_1\n"
     ]
    },
    {
     "name": "stderr",
     "output_type": "stream",
     "text": [
      "/volumedisk0/home/vherrero/PETALO_analysis/TOFPET_ToT_lib.py:128: UserWarning: Boolean Series key will be reindexed to match DataFrame index.\n",
      "  data_f1 = data_f0[sel]\n"
     ]
    },
    {
     "name": "stdout",
     "output_type": "stream",
     "text": [
      "File 7 | Chunk /data_1\n"
     ]
    },
    {
     "name": "stderr",
     "output_type": "stream",
     "text": [
      "/volumedisk0/home/vherrero/PETALO_analysis/TOFPET_ToT_lib.py:128: UserWarning: Boolean Series key will be reindexed to match DataFrame index.\n",
      "  data_f1 = data_f0[sel]\n"
     ]
    },
    {
     "name": "stdout",
     "output_type": "stream",
     "text": [
      "File 19 | Chunk /data_1\n"
     ]
    },
    {
     "name": "stderr",
     "output_type": "stream",
     "text": [
      "/volumedisk0/home/vherrero/PETALO_analysis/TOFPET_ToT_lib.py:128: UserWarning: Boolean Series key will be reindexed to match DataFrame index.\n",
      "  data_f1 = data_f0[sel]\n",
      "/volumedisk0/home/vherrero/PETALO_analysis/TOFPET_ToT_lib.py:128: UserWarning: Boolean Series key will be reindexed to match DataFrame index.\n",
      "  data_f1 = data_f0[sel]\n"
     ]
    },
    {
     "name": "stdout",
     "output_type": "stream",
     "text": [
      "File 15 | Chunk /data_1\n",
      "File 11 | Chunk /data_1\n"
     ]
    },
    {
     "name": "stderr",
     "output_type": "stream",
     "text": [
      "/volumedisk0/home/vherrero/PETALO_analysis/TOFPET_ToT_lib.py:128: UserWarning: Boolean Series key will be reindexed to match DataFrame index.\n",
      "  data_f1 = data_f0[sel]\n"
     ]
    },
    {
     "name": "stdout",
     "output_type": "stream",
     "text": [
      "File 16 | Chunk /data_1\n"
     ]
    },
    {
     "name": "stderr",
     "output_type": "stream",
     "text": [
      "/volumedisk0/home/vherrero/PETALO_analysis/TOFPET_ToT_lib.py:128: UserWarning: Boolean Series key will be reindexed to match DataFrame index.\n",
      "  data_f1 = data_f0[sel]\n"
     ]
    },
    {
     "name": "stdout",
     "output_type": "stream",
     "text": [
      "File 18 | Chunk /data_1\n",
      "File 12 | Chunk /data_1\n"
     ]
    },
    {
     "name": "stderr",
     "output_type": "stream",
     "text": [
      "/volumedisk0/home/vherrero/PETALO_analysis/TOFPET_ToT_lib.py:128: UserWarning: Boolean Series key will be reindexed to match DataFrame index.\n",
      "  data_f1 = data_f0[sel]\n"
     ]
    },
    {
     "name": "stdout",
     "output_type": "stream",
     "text": [
      "File 14 | Chunk /data_1\n",
      "File 1 | Chunk /data_1\n"
     ]
    },
    {
     "name": "stderr",
     "output_type": "stream",
     "text": [
      "/volumedisk0/home/vherrero/PETALO_analysis/TOFPET_ToT_lib.py:128: UserWarning: Boolean Series key will be reindexed to match DataFrame index.\n",
      "  data_f1 = data_f0[sel]\n"
     ]
    },
    {
     "name": "stdout",
     "output_type": "stream",
     "text": [
      "File 4 | Chunk /data_1\n",
      "File 6 | Chunk /data_1\n",
      "File 13 | Chunk /data_1\n"
     ]
    },
    {
     "name": "stderr",
     "output_type": "stream",
     "text": [
      "/volumedisk0/home/vherrero/PETALO_analysis/TOFPET_ToT_lib.py:128: UserWarning: Boolean Series key will be reindexed to match DataFrame index.\n",
      "  data_f1 = data_f0[sel]\n"
     ]
    },
    {
     "name": "stdout",
     "output_type": "stream",
     "text": [
      "File 10 | Chunk /data_1\n",
      "File 5 | Chunk /data_1\n",
      "File 8 | Chunk /data_1\n",
      "File 17 | Chunk /data_1\n"
     ]
    },
    {
     "name": "stderr",
     "output_type": "stream",
     "text": [
      "/volumedisk0/home/vherrero/PETALO_analysis/TOFPET_ToT_lib.py:120: SettingWithCopyWarning: \n",
      "A value is trying to be set on a copy of a slice from a DataFrame.\n",
      "Try using .loc[row_indexer,col_indexer] = value instead\n",
      "\n",
      "See the caveats in the documentation: https://pandas.pydata.org/pandas-docs/stable/user_guide/indexing.html#returning-a-view-versus-a-copy\n",
      "  data_f0['intg_w_ToT'] = data_f0.loc[:,'t2'] - data_f0.loc[:,'t1']\n"
     ]
    },
    {
     "name": "stdout",
     "output_type": "stream",
     "text": [
      "File 3 | Chunk /data_1\n"
     ]
    },
    {
     "name": "stderr",
     "output_type": "stream",
     "text": [
      "/volumedisk0/home/vherrero/PETALO_analysis/TOFPET_ToT_lib.py:120: SettingWithCopyWarning: \n",
      "A value is trying to be set on a copy of a slice from a DataFrame.\n",
      "Try using .loc[row_indexer,col_indexer] = value instead\n",
      "\n",
      "See the caveats in the documentation: https://pandas.pydata.org/pandas-docs/stable/user_guide/indexing.html#returning-a-view-versus-a-copy\n",
      "  data_f0['intg_w_ToT'] = data_f0.loc[:,'t2'] - data_f0.loc[:,'t1']\n",
      "/volumedisk0/home/vherrero/PETALO_analysis/TOFPET_ToT_lib.py:120: SettingWithCopyWarning: \n",
      "A value is trying to be set on a copy of a slice from a DataFrame.\n",
      "Try using .loc[row_indexer,col_indexer] = value instead\n",
      "\n",
      "See the caveats in the documentation: https://pandas.pydata.org/pandas-docs/stable/user_guide/indexing.html#returning-a-view-versus-a-copy\n",
      "  data_f0['intg_w_ToT'] = data_f0.loc[:,'t2'] - data_f0.loc[:,'t1']\n",
      "/volumedisk0/home/vherrero/PETALO_analysis/TOFPET_ToT_lib.py:120: SettingWithCopyWarning: \n",
      "A value is trying to be set on a copy of a slice from a DataFrame.\n",
      "Try using .loc[row_indexer,col_indexer] = value instead\n",
      "\n",
      "See the caveats in the documentation: https://pandas.pydata.org/pandas-docs/stable/user_guide/indexing.html#returning-a-view-versus-a-copy\n",
      "  data_f0['intg_w_ToT'] = data_f0.loc[:,'t2'] - data_f0.loc[:,'t1']\n",
      "/volumedisk0/home/vherrero/PETALO_analysis/TOFPET_ToT_lib.py:120: SettingWithCopyWarning: \n",
      "A value is trying to be set on a copy of a slice from a DataFrame.\n",
      "Try using .loc[row_indexer,col_indexer] = value instead\n",
      "\n",
      "See the caveats in the documentation: https://pandas.pydata.org/pandas-docs/stable/user_guide/indexing.html#returning-a-view-versus-a-copy\n",
      "  data_f0['intg_w_ToT'] = data_f0.loc[:,'t2'] - data_f0.loc[:,'t1']\n",
      "/volumedisk0/home/vherrero/PETALO_analysis/TOFPET_ToT_lib.py:120: SettingWithCopyWarning: \n",
      "A value is trying to be set on a copy of a slice from a DataFrame.\n",
      "Try using .loc[row_indexer,col_indexer] = value instead\n",
      "\n",
      "See the caveats in the documentation: https://pandas.pydata.org/pandas-docs/stable/user_guide/indexing.html#returning-a-view-versus-a-copy\n",
      "  data_f0['intg_w_ToT'] = data_f0.loc[:,'t2'] - data_f0.loc[:,'t1']\n",
      "/volumedisk0/home/vherrero/PETALO_analysis/TOFPET_ToT_lib.py:120: SettingWithCopyWarning: \n",
      "A value is trying to be set on a copy of a slice from a DataFrame.\n",
      "Try using .loc[row_indexer,col_indexer] = value instead\n",
      "\n",
      "See the caveats in the documentation: https://pandas.pydata.org/pandas-docs/stable/user_guide/indexing.html#returning-a-view-versus-a-copy\n",
      "  data_f0['intg_w_ToT'] = data_f0.loc[:,'t2'] - data_f0.loc[:,'t1']\n",
      "/volumedisk0/home/vherrero/PETALO_analysis/TOFPET_ToT_lib.py:120: SettingWithCopyWarning: \n",
      "A value is trying to be set on a copy of a slice from a DataFrame.\n",
      "Try using .loc[row_indexer,col_indexer] = value instead\n",
      "\n",
      "See the caveats in the documentation: https://pandas.pydata.org/pandas-docs/stable/user_guide/indexing.html#returning-a-view-versus-a-copy\n",
      "  data_f0['intg_w_ToT'] = data_f0.loc[:,'t2'] - data_f0.loc[:,'t1']\n",
      "/volumedisk0/home/vherrero/PETALO_analysis/TOFPET_ToT_lib.py:120: SettingWithCopyWarning: \n",
      "A value is trying to be set on a copy of a slice from a DataFrame.\n",
      "Try using .loc[row_indexer,col_indexer] = value instead\n",
      "\n",
      "See the caveats in the documentation: https://pandas.pydata.org/pandas-docs/stable/user_guide/indexing.html#returning-a-view-versus-a-copy\n",
      "  data_f0['intg_w_ToT'] = data_f0.loc[:,'t2'] - data_f0.loc[:,'t1']\n",
      "/volumedisk0/home/vherrero/PETALO_analysis/TOFPET_ToT_lib.py:120: SettingWithCopyWarning: \n",
      "A value is trying to be set on a copy of a slice from a DataFrame.\n",
      "Try using .loc[row_indexer,col_indexer] = value instead\n",
      "\n",
      "See the caveats in the documentation: https://pandas.pydata.org/pandas-docs/stable/user_guide/indexing.html#returning-a-view-versus-a-copy\n",
      "  data_f0['intg_w_ToT'] = data_f0.loc[:,'t2'] - data_f0.loc[:,'t1']\n",
      "/volumedisk0/home/vherrero/PETALO_analysis/TOFPET_ToT_lib.py:120: SettingWithCopyWarning: \n",
      "A value is trying to be set on a copy of a slice from a DataFrame.\n",
      "Try using .loc[row_indexer,col_indexer] = value instead\n",
      "\n",
      "See the caveats in the documentation: https://pandas.pydata.org/pandas-docs/stable/user_guide/indexing.html#returning-a-view-versus-a-copy\n",
      "  data_f0['intg_w_ToT'] = data_f0.loc[:,'t2'] - data_f0.loc[:,'t1']\n",
      "/volumedisk0/home/vherrero/PETALO_analysis/TOFPET_ToT_lib.py:120: SettingWithCopyWarning: \n",
      "A value is trying to be set on a copy of a slice from a DataFrame.\n",
      "Try using .loc[row_indexer,col_indexer] = value instead\n",
      "\n",
      "See the caveats in the documentation: https://pandas.pydata.org/pandas-docs/stable/user_guide/indexing.html#returning-a-view-versus-a-copy\n",
      "  data_f0['intg_w_ToT'] = data_f0.loc[:,'t2'] - data_f0.loc[:,'t1']\n",
      "/volumedisk0/home/vherrero/PETALO_analysis/TOFPET_ToT_lib.py:120: SettingWithCopyWarning: \n",
      "A value is trying to be set on a copy of a slice from a DataFrame.\n",
      "Try using .loc[row_indexer,col_indexer] = value instead\n",
      "\n",
      "See the caveats in the documentation: https://pandas.pydata.org/pandas-docs/stable/user_guide/indexing.html#returning-a-view-versus-a-copy\n",
      "  data_f0['intg_w_ToT'] = data_f0.loc[:,'t2'] - data_f0.loc[:,'t1']\n",
      "/volumedisk0/home/vherrero/PETALO_analysis/TOFPET_ToT_lib.py:120: SettingWithCopyWarning: \n",
      "A value is trying to be set on a copy of a slice from a DataFrame.\n",
      "Try using .loc[row_indexer,col_indexer] = value instead\n",
      "\n",
      "See the caveats in the documentation: https://pandas.pydata.org/pandas-docs/stable/user_guide/indexing.html#returning-a-view-versus-a-copy\n",
      "  data_f0['intg_w_ToT'] = data_f0.loc[:,'t2'] - data_f0.loc[:,'t1']\n",
      "/volumedisk0/home/vherrero/PETALO_analysis/TOFPET_ToT_lib.py:120: SettingWithCopyWarning: \n",
      "A value is trying to be set on a copy of a slice from a DataFrame.\n",
      "Try using .loc[row_indexer,col_indexer] = value instead\n",
      "\n",
      "See the caveats in the documentation: https://pandas.pydata.org/pandas-docs/stable/user_guide/indexing.html#returning-a-view-versus-a-copy\n",
      "  data_f0['intg_w_ToT'] = data_f0.loc[:,'t2'] - data_f0.loc[:,'t1']\n",
      "/volumedisk0/home/vherrero/PETALO_analysis/TOFPET_ToT_lib.py:120: SettingWithCopyWarning: \n",
      "A value is trying to be set on a copy of a slice from a DataFrame.\n",
      "Try using .loc[row_indexer,col_indexer] = value instead\n",
      "\n",
      "See the caveats in the documentation: https://pandas.pydata.org/pandas-docs/stable/user_guide/indexing.html#returning-a-view-versus-a-copy\n",
      "  data_f0['intg_w_ToT'] = data_f0.loc[:,'t2'] - data_f0.loc[:,'t1']\n",
      "/volumedisk0/home/vherrero/PETALO_analysis/TOFPET_ToT_lib.py:120: SettingWithCopyWarning: \n",
      "A value is trying to be set on a copy of a slice from a DataFrame.\n",
      "Try using .loc[row_indexer,col_indexer] = value instead\n",
      "\n",
      "See the caveats in the documentation: https://pandas.pydata.org/pandas-docs/stable/user_guide/indexing.html#returning-a-view-versus-a-copy\n",
      "  data_f0['intg_w_ToT'] = data_f0.loc[:,'t2'] - data_f0.loc[:,'t1']\n",
      "/volumedisk0/home/vherrero/PETALO_analysis/TOFPET_ToT_lib.py:120: SettingWithCopyWarning: \n",
      "A value is trying to be set on a copy of a slice from a DataFrame.\n",
      "Try using .loc[row_indexer,col_indexer] = value instead\n",
      "\n",
      "See the caveats in the documentation: https://pandas.pydata.org/pandas-docs/stable/user_guide/indexing.html#returning-a-view-versus-a-copy\n",
      "  data_f0['intg_w_ToT'] = data_f0.loc[:,'t2'] - data_f0.loc[:,'t1']\n",
      "/volumedisk0/home/vherrero/PETALO_analysis/TOFPET_ToT_lib.py:120: SettingWithCopyWarning: \n",
      "A value is trying to be set on a copy of a slice from a DataFrame.\n",
      "Try using .loc[row_indexer,col_indexer] = value instead\n",
      "\n",
      "See the caveats in the documentation: https://pandas.pydata.org/pandas-docs/stable/user_guide/indexing.html#returning-a-view-versus-a-copy\n",
      "  data_f0['intg_w_ToT'] = data_f0.loc[:,'t2'] - data_f0.loc[:,'t1']\n",
      "/volumedisk0/home/vherrero/PETALO_analysis/TOFPET_ToT_lib.py:120: SettingWithCopyWarning: \n",
      "A value is trying to be set on a copy of a slice from a DataFrame.\n",
      "Try using .loc[row_indexer,col_indexer] = value instead\n",
      "\n",
      "See the caveats in the documentation: https://pandas.pydata.org/pandas-docs/stable/user_guide/indexing.html#returning-a-view-versus-a-copy\n",
      "  data_f0['intg_w_ToT'] = data_f0.loc[:,'t2'] - data_f0.loc[:,'t1']\n",
      "/volumedisk0/home/vherrero/PETALO_analysis/TOFPET_ToT_lib.py:128: UserWarning: Boolean Series key will be reindexed to match DataFrame index.\n",
      "  data_f1 = data_f0[sel]\n",
      "/volumedisk0/home/vherrero/PETALO_analysis/TOFPET_ToT_lib.py:128: UserWarning: Boolean Series key will be reindexed to match DataFrame index.\n",
      "  data_f1 = data_f0[sel]\n"
     ]
    },
    {
     "name": "stdout",
     "output_type": "stream",
     "text": [
      "File 0 | Chunk /data_10\n",
      "File 9 | Chunk /data_10\n"
     ]
    },
    {
     "name": "stderr",
     "output_type": "stream",
     "text": [
      "/volumedisk0/home/vherrero/PETALO_analysis/TOFPET_ToT_lib.py:128: UserWarning: Boolean Series key will be reindexed to match DataFrame index.\n",
      "  data_f1 = data_f0[sel]\n",
      "/volumedisk0/home/vherrero/PETALO_analysis/TOFPET_ToT_lib.py:128: UserWarning: Boolean Series key will be reindexed to match DataFrame index.\n",
      "  data_f1 = data_f0[sel]\n",
      "/volumedisk0/home/vherrero/PETALO_analysis/TOFPET_ToT_lib.py:128: UserWarning: Boolean Series key will be reindexed to match DataFrame index.\n",
      "  data_f1 = data_f0[sel]\n",
      "/volumedisk0/home/vherrero/PETALO_analysis/TOFPET_ToT_lib.py:128: UserWarning: Boolean Series key will be reindexed to match DataFrame index.\n",
      "  data_f1 = data_f0[sel]\n"
     ]
    },
    {
     "name": "stdout",
     "output_type": "stream",
     "text": [
      "File 2 | Chunk /data_10\n"
     ]
    },
    {
     "name": "stderr",
     "output_type": "stream",
     "text": [
      "/volumedisk0/home/vherrero/PETALO_analysis/TOFPET_ToT_lib.py:128: UserWarning: Boolean Series key will be reindexed to match DataFrame index.\n",
      "  data_f1 = data_f0[sel]\n",
      "/volumedisk0/home/vherrero/PETALO_analysis/TOFPET_ToT_lib.py:128: UserWarning: Boolean Series key will be reindexed to match DataFrame index.\n",
      "  data_f1 = data_f0[sel]\n",
      "/volumedisk0/home/vherrero/PETALO_analysis/TOFPET_ToT_lib.py:128: UserWarning: Boolean Series key will be reindexed to match DataFrame index.\n",
      "  data_f1 = data_f0[sel]\n",
      "/volumedisk0/home/vherrero/PETALO_analysis/TOFPET_ToT_lib.py:128: UserWarning: Boolean Series key will be reindexed to match DataFrame index.\n",
      "  data_f1 = data_f0[sel]\n"
     ]
    },
    {
     "name": "stdout",
     "output_type": "stream",
     "text": [
      "File 19 | Chunk /data_10\n",
      "File 7 | Chunk /data_10\n"
     ]
    },
    {
     "name": "stderr",
     "output_type": "stream",
     "text": [
      "/volumedisk0/home/vherrero/PETALO_analysis/TOFPET_ToT_lib.py:128: UserWarning: Boolean Series key will be reindexed to match DataFrame index.\n",
      "  data_f1 = data_f0[sel]\n"
     ]
    },
    {
     "name": "stdout",
     "output_type": "stream",
     "text": [
      "File 16 | Chunk /data_10\n",
      "File 15 | Chunk /data_10\n",
      "File 18 | Chunk /data_10File 11 | Chunk /data_10\n",
      "\n"
     ]
    },
    {
     "name": "stderr",
     "output_type": "stream",
     "text": [
      "/volumedisk0/home/vherrero/PETALO_analysis/TOFPET_ToT_lib.py:128: UserWarning: Boolean Series key will be reindexed to match DataFrame index.\n",
      "  data_f1 = data_f0[sel]\n"
     ]
    },
    {
     "name": "stdout",
     "output_type": "stream",
     "text": [
      "File 14 | Chunk /data_10\n"
     ]
    },
    {
     "name": "stderr",
     "output_type": "stream",
     "text": [
      "/volumedisk0/home/vherrero/PETALO_analysis/TOFPET_ToT_lib.py:128: UserWarning: Boolean Series key will be reindexed to match DataFrame index.\n",
      "  data_f1 = data_f0[sel]\n",
      "/volumedisk0/home/vherrero/PETALO_analysis/TOFPET_ToT_lib.py:128: UserWarning: Boolean Series key will be reindexed to match DataFrame index.\n",
      "  data_f1 = data_f0[sel]\n",
      "/volumedisk0/home/vherrero/PETALO_analysis/TOFPET_ToT_lib.py:128: UserWarning: Boolean Series key will be reindexed to match DataFrame index.\n",
      "  data_f1 = data_f0[sel]\n",
      "/volumedisk0/home/vherrero/PETALO_analysis/TOFPET_ToT_lib.py:128: UserWarning: Boolean Series key will be reindexed to match DataFrame index.\n",
      "  data_f1 = data_f0[sel]\n"
     ]
    },
    {
     "name": "stdout",
     "output_type": "stream",
     "text": [
      "File 12 | Chunk /data_10\n"
     ]
    },
    {
     "name": "stderr",
     "output_type": "stream",
     "text": [
      "/volumedisk0/home/vherrero/PETALO_analysis/TOFPET_ToT_lib.py:128: UserWarning: Boolean Series key will be reindexed to match DataFrame index.\n",
      "  data_f1 = data_f0[sel]\n"
     ]
    },
    {
     "name": "stdout",
     "output_type": "stream",
     "text": [
      "File 6 | Chunk /data_10\n"
     ]
    },
    {
     "name": "stderr",
     "output_type": "stream",
     "text": [
      "/volumedisk0/home/vherrero/PETALO_analysis/TOFPET_ToT_lib.py:128: UserWarning: Boolean Series key will be reindexed to match DataFrame index.\n",
      "  data_f1 = data_f0[sel]\n"
     ]
    },
    {
     "name": "stdout",
     "output_type": "stream",
     "text": [
      "File 13 | Chunk /data_10"
     ]
    },
    {
     "name": "stderr",
     "output_type": "stream",
     "text": [
      "/volumedisk0/home/vherrero/PETALO_analysis/TOFPET_ToT_lib.py:128: UserWarning: Boolean Series key will be reindexed to match DataFrame index.\n",
      "  data_f1 = data_f0[sel]\n"
     ]
    },
    {
     "name": "stdout",
     "output_type": "stream",
     "text": [
      "\n",
      "File 5 | Chunk /data_10\n",
      "File 4 | Chunk /data_10\n",
      "File 1 | Chunk /data_10\n",
      "File 8 | Chunk /data_10\n",
      "File 17 | Chunk /data_10\n"
     ]
    },
    {
     "name": "stderr",
     "output_type": "stream",
     "text": [
      "/volumedisk0/home/vherrero/PETALO_analysis/TOFPET_ToT_lib.py:120: SettingWithCopyWarning: \n",
      "A value is trying to be set on a copy of a slice from a DataFrame.\n",
      "Try using .loc[row_indexer,col_indexer] = value instead\n",
      "\n",
      "See the caveats in the documentation: https://pandas.pydata.org/pandas-docs/stable/user_guide/indexing.html#returning-a-view-versus-a-copy\n",
      "  data_f0['intg_w_ToT'] = data_f0.loc[:,'t2'] - data_f0.loc[:,'t1']\n"
     ]
    },
    {
     "name": "stdout",
     "output_type": "stream",
     "text": [
      "File 10 | Chunk /data_10\n"
     ]
    },
    {
     "name": "stderr",
     "output_type": "stream",
     "text": [
      "/volumedisk0/home/vherrero/PETALO_analysis/TOFPET_ToT_lib.py:128: UserWarning: Boolean Series key will be reindexed to match DataFrame index.\n",
      "  data_f1 = data_f0[sel]\n"
     ]
    },
    {
     "name": "stdout",
     "output_type": "stream",
     "text": [
      "File 3 | Chunk /data_10\n"
     ]
    },
    {
     "name": "stderr",
     "output_type": "stream",
     "text": [
      "/volumedisk0/home/vherrero/PETALO_analysis/TOFPET_ToT_lib.py:120: SettingWithCopyWarning: \n",
      "A value is trying to be set on a copy of a slice from a DataFrame.\n",
      "Try using .loc[row_indexer,col_indexer] = value instead\n",
      "\n",
      "See the caveats in the documentation: https://pandas.pydata.org/pandas-docs/stable/user_guide/indexing.html#returning-a-view-versus-a-copy\n",
      "  data_f0['intg_w_ToT'] = data_f0.loc[:,'t2'] - data_f0.loc[:,'t1']\n",
      "/volumedisk0/home/vherrero/PETALO_analysis/TOFPET_ToT_lib.py:120: SettingWithCopyWarning: \n",
      "A value is trying to be set on a copy of a slice from a DataFrame.\n",
      "Try using .loc[row_indexer,col_indexer] = value instead\n",
      "\n",
      "See the caveats in the documentation: https://pandas.pydata.org/pandas-docs/stable/user_guide/indexing.html#returning-a-view-versus-a-copy\n",
      "  data_f0['intg_w_ToT'] = data_f0.loc[:,'t2'] - data_f0.loc[:,'t1']\n",
      "/volumedisk0/home/vherrero/PETALO_analysis/TOFPET_ToT_lib.py:120: SettingWithCopyWarning: \n",
      "A value is trying to be set on a copy of a slice from a DataFrame.\n",
      "Try using .loc[row_indexer,col_indexer] = value instead\n",
      "\n",
      "See the caveats in the documentation: https://pandas.pydata.org/pandas-docs/stable/user_guide/indexing.html#returning-a-view-versus-a-copy\n",
      "  data_f0['intg_w_ToT'] = data_f0.loc[:,'t2'] - data_f0.loc[:,'t1']\n",
      "/volumedisk0/home/vherrero/PETALO_analysis/TOFPET_ToT_lib.py:120: SettingWithCopyWarning: \n",
      "A value is trying to be set on a copy of a slice from a DataFrame.\n",
      "Try using .loc[row_indexer,col_indexer] = value instead\n",
      "\n",
      "See the caveats in the documentation: https://pandas.pydata.org/pandas-docs/stable/user_guide/indexing.html#returning-a-view-versus-a-copy\n",
      "  data_f0['intg_w_ToT'] = data_f0.loc[:,'t2'] - data_f0.loc[:,'t1']\n",
      "/volumedisk0/home/vherrero/PETALO_analysis/TOFPET_ToT_lib.py:120: SettingWithCopyWarning: \n",
      "A value is trying to be set on a copy of a slice from a DataFrame.\n",
      "Try using .loc[row_indexer,col_indexer] = value instead\n",
      "\n",
      "See the caveats in the documentation: https://pandas.pydata.org/pandas-docs/stable/user_guide/indexing.html#returning-a-view-versus-a-copy\n",
      "  data_f0['intg_w_ToT'] = data_f0.loc[:,'t2'] - data_f0.loc[:,'t1']\n",
      "/volumedisk0/home/vherrero/PETALO_analysis/TOFPET_ToT_lib.py:120: SettingWithCopyWarning: \n",
      "A value is trying to be set on a copy of a slice from a DataFrame.\n",
      "Try using .loc[row_indexer,col_indexer] = value instead\n",
      "\n",
      "See the caveats in the documentation: https://pandas.pydata.org/pandas-docs/stable/user_guide/indexing.html#returning-a-view-versus-a-copy\n",
      "  data_f0['intg_w_ToT'] = data_f0.loc[:,'t2'] - data_f0.loc[:,'t1']\n",
      "/volumedisk0/home/vherrero/PETALO_analysis/TOFPET_ToT_lib.py:120: SettingWithCopyWarning: \n",
      "A value is trying to be set on a copy of a slice from a DataFrame.\n",
      "Try using .loc[row_indexer,col_indexer] = value instead\n",
      "\n",
      "See the caveats in the documentation: https://pandas.pydata.org/pandas-docs/stable/user_guide/indexing.html#returning-a-view-versus-a-copy\n",
      "  data_f0['intg_w_ToT'] = data_f0.loc[:,'t2'] - data_f0.loc[:,'t1']\n",
      "/volumedisk0/home/vherrero/PETALO_analysis/TOFPET_ToT_lib.py:120: SettingWithCopyWarning: \n",
      "A value is trying to be set on a copy of a slice from a DataFrame.\n",
      "Try using .loc[row_indexer,col_indexer] = value instead\n",
      "\n",
      "See the caveats in the documentation: https://pandas.pydata.org/pandas-docs/stable/user_guide/indexing.html#returning-a-view-versus-a-copy\n",
      "  data_f0['intg_w_ToT'] = data_f0.loc[:,'t2'] - data_f0.loc[:,'t1']\n",
      "/volumedisk0/home/vherrero/PETALO_analysis/TOFPET_ToT_lib.py:120: SettingWithCopyWarning: \n",
      "A value is trying to be set on a copy of a slice from a DataFrame.\n",
      "Try using .loc[row_indexer,col_indexer] = value instead\n",
      "\n",
      "See the caveats in the documentation: https://pandas.pydata.org/pandas-docs/stable/user_guide/indexing.html#returning-a-view-versus-a-copy\n",
      "  data_f0['intg_w_ToT'] = data_f0.loc[:,'t2'] - data_f0.loc[:,'t1']\n",
      "/volumedisk0/home/vherrero/PETALO_analysis/TOFPET_ToT_lib.py:120: SettingWithCopyWarning: \n",
      "A value is trying to be set on a copy of a slice from a DataFrame.\n",
      "Try using .loc[row_indexer,col_indexer] = value instead\n",
      "\n",
      "See the caveats in the documentation: https://pandas.pydata.org/pandas-docs/stable/user_guide/indexing.html#returning-a-view-versus-a-copy\n",
      "  data_f0['intg_w_ToT'] = data_f0.loc[:,'t2'] - data_f0.loc[:,'t1']\n",
      "/volumedisk0/home/vherrero/PETALO_analysis/TOFPET_ToT_lib.py:120: SettingWithCopyWarning: \n",
      "A value is trying to be set on a copy of a slice from a DataFrame.\n",
      "Try using .loc[row_indexer,col_indexer] = value instead\n",
      "\n",
      "See the caveats in the documentation: https://pandas.pydata.org/pandas-docs/stable/user_guide/indexing.html#returning-a-view-versus-a-copy\n",
      "  data_f0['intg_w_ToT'] = data_f0.loc[:,'t2'] - data_f0.loc[:,'t1']\n",
      "/volumedisk0/home/vherrero/PETALO_analysis/TOFPET_ToT_lib.py:120: SettingWithCopyWarning: \n",
      "A value is trying to be set on a copy of a slice from a DataFrame.\n",
      "Try using .loc[row_indexer,col_indexer] = value instead\n",
      "\n",
      "See the caveats in the documentation: https://pandas.pydata.org/pandas-docs/stable/user_guide/indexing.html#returning-a-view-versus-a-copy\n",
      "  data_f0['intg_w_ToT'] = data_f0.loc[:,'t2'] - data_f0.loc[:,'t1']\n",
      "/volumedisk0/home/vherrero/PETALO_analysis/TOFPET_ToT_lib.py:120: SettingWithCopyWarning: \n",
      "A value is trying to be set on a copy of a slice from a DataFrame.\n",
      "Try using .loc[row_indexer,col_indexer] = value instead\n",
      "\n",
      "See the caveats in the documentation: https://pandas.pydata.org/pandas-docs/stable/user_guide/indexing.html#returning-a-view-versus-a-copy\n",
      "  data_f0['intg_w_ToT'] = data_f0.loc[:,'t2'] - data_f0.loc[:,'t1']\n",
      "/volumedisk0/home/vherrero/PETALO_analysis/TOFPET_ToT_lib.py:120: SettingWithCopyWarning: \n",
      "A value is trying to be set on a copy of a slice from a DataFrame.\n",
      "Try using .loc[row_indexer,col_indexer] = value instead\n",
      "\n",
      "See the caveats in the documentation: https://pandas.pydata.org/pandas-docs/stable/user_guide/indexing.html#returning-a-view-versus-a-copy\n",
      "  data_f0['intg_w_ToT'] = data_f0.loc[:,'t2'] - data_f0.loc[:,'t1']\n",
      "/volumedisk0/home/vherrero/PETALO_analysis/TOFPET_ToT_lib.py:120: SettingWithCopyWarning: \n",
      "A value is trying to be set on a copy of a slice from a DataFrame.\n",
      "Try using .loc[row_indexer,col_indexer] = value instead\n",
      "\n",
      "See the caveats in the documentation: https://pandas.pydata.org/pandas-docs/stable/user_guide/indexing.html#returning-a-view-versus-a-copy\n",
      "  data_f0['intg_w_ToT'] = data_f0.loc[:,'t2'] - data_f0.loc[:,'t1']\n",
      "/volumedisk0/home/vherrero/PETALO_analysis/TOFPET_ToT_lib.py:120: SettingWithCopyWarning: \n",
      "A value is trying to be set on a copy of a slice from a DataFrame.\n",
      "Try using .loc[row_indexer,col_indexer] = value instead\n",
      "\n",
      "See the caveats in the documentation: https://pandas.pydata.org/pandas-docs/stable/user_guide/indexing.html#returning-a-view-versus-a-copy\n",
      "  data_f0['intg_w_ToT'] = data_f0.loc[:,'t2'] - data_f0.loc[:,'t1']\n",
      "/volumedisk0/home/vherrero/PETALO_analysis/TOFPET_ToT_lib.py:120: SettingWithCopyWarning: \n",
      "A value is trying to be set on a copy of a slice from a DataFrame.\n",
      "Try using .loc[row_indexer,col_indexer] = value instead\n",
      "\n",
      "See the caveats in the documentation: https://pandas.pydata.org/pandas-docs/stable/user_guide/indexing.html#returning-a-view-versus-a-copy\n",
      "  data_f0['intg_w_ToT'] = data_f0.loc[:,'t2'] - data_f0.loc[:,'t1']\n",
      "/volumedisk0/home/vherrero/PETALO_analysis/TOFPET_ToT_lib.py:120: SettingWithCopyWarning: \n",
      "A value is trying to be set on a copy of a slice from a DataFrame.\n",
      "Try using .loc[row_indexer,col_indexer] = value instead\n",
      "\n",
      "See the caveats in the documentation: https://pandas.pydata.org/pandas-docs/stable/user_guide/indexing.html#returning-a-view-versus-a-copy\n",
      "  data_f0['intg_w_ToT'] = data_f0.loc[:,'t2'] - data_f0.loc[:,'t1']\n",
      "/volumedisk0/home/vherrero/PETALO_analysis/TOFPET_ToT_lib.py:120: SettingWithCopyWarning: \n",
      "A value is trying to be set on a copy of a slice from a DataFrame.\n",
      "Try using .loc[row_indexer,col_indexer] = value instead\n",
      "\n",
      "See the caveats in the documentation: https://pandas.pydata.org/pandas-docs/stable/user_guide/indexing.html#returning-a-view-versus-a-copy\n",
      "  data_f0['intg_w_ToT'] = data_f0.loc[:,'t2'] - data_f0.loc[:,'t1']\n",
      "/volumedisk0/home/vherrero/PETALO_analysis/TOFPET_ToT_lib.py:128: UserWarning: Boolean Series key will be reindexed to match DataFrame index.\n",
      "  data_f1 = data_f0[sel]\n"
     ]
    },
    {
     "name": "stdout",
     "output_type": "stream",
     "text": [
      "File 0 | Chunk /data_100\n"
     ]
    },
    {
     "name": "stderr",
     "output_type": "stream",
     "text": [
      "/volumedisk0/home/vherrero/PETALO_analysis/TOFPET_ToT_lib.py:128: UserWarning: Boolean Series key will be reindexed to match DataFrame index.\n",
      "  data_f1 = data_f0[sel]\n"
     ]
    },
    {
     "name": "stdout",
     "output_type": "stream",
     "text": [
      "File 9 | Chunk /data_100\n"
     ]
    },
    {
     "name": "stderr",
     "output_type": "stream",
     "text": [
      "/volumedisk0/home/vherrero/PETALO_analysis/TOFPET_ToT_lib.py:128: UserWarning: Boolean Series key will be reindexed to match DataFrame index.\n",
      "  data_f1 = data_f0[sel]\n"
     ]
    },
    {
     "name": "stdout",
     "output_type": "stream",
     "text": [
      "File 2 | Chunk /data_100\n"
     ]
    },
    {
     "name": "stderr",
     "output_type": "stream",
     "text": [
      "/volumedisk0/home/vherrero/PETALO_analysis/TOFPET_ToT_lib.py:120: SettingWithCopyWarning: \n",
      "A value is trying to be set on a copy of a slice from a DataFrame.\n",
      "Try using .loc[row_indexer,col_indexer] = value instead\n",
      "\n",
      "See the caveats in the documentation: https://pandas.pydata.org/pandas-docs/stable/user_guide/indexing.html#returning-a-view-versus-a-copy\n",
      "  data_f0['intg_w_ToT'] = data_f0.loc[:,'t2'] - data_f0.loc[:,'t1']\n",
      "/volumedisk0/home/vherrero/PETALO_analysis/TOFPET_ToT_lib.py:128: UserWarning: Boolean Series key will be reindexed to match DataFrame index.\n",
      "  data_f1 = data_f0[sel]\n",
      "/volumedisk0/home/vherrero/PETALO_analysis/TOFPET_ToT_lib.py:128: UserWarning: Boolean Series key will be reindexed to match DataFrame index.\n",
      "  data_f1 = data_f0[sel]\n",
      "/volumedisk0/home/vherrero/PETALO_analysis/TOFPET_ToT_lib.py:120: SettingWithCopyWarning: \n",
      "A value is trying to be set on a copy of a slice from a DataFrame.\n",
      "Try using .loc[row_indexer,col_indexer] = value instead\n",
      "\n",
      "See the caveats in the documentation: https://pandas.pydata.org/pandas-docs/stable/user_guide/indexing.html#returning-a-view-versus-a-copy\n",
      "  data_f0['intg_w_ToT'] = data_f0.loc[:,'t2'] - data_f0.loc[:,'t1']\n",
      "/volumedisk0/home/vherrero/PETALO_analysis/TOFPET_ToT_lib.py:128: UserWarning: Boolean Series key will be reindexed to match DataFrame index.\n",
      "  data_f1 = data_f0[sel]\n",
      "/volumedisk0/home/vherrero/PETALO_analysis/TOFPET_ToT_lib.py:128: UserWarning: Boolean Series key will be reindexed to match DataFrame index.\n",
      "  data_f1 = data_f0[sel]\n"
     ]
    },
    {
     "name": "stdout",
     "output_type": "stream",
     "text": [
      "File 16 | Chunk /data_100\n"
     ]
    },
    {
     "name": "stderr",
     "output_type": "stream",
     "text": [
      "/volumedisk0/home/vherrero/PETALO_analysis/TOFPET_ToT_lib.py:128: UserWarning: Boolean Series key will be reindexed to match DataFrame index.\n",
      "  data_f1 = data_f0[sel]\n"
     ]
    },
    {
     "name": "stdout",
     "output_type": "stream",
     "text": [
      "File 15 | Chunk /data_100\n"
     ]
    },
    {
     "name": "stderr",
     "output_type": "stream",
     "text": [
      "/volumedisk0/home/vherrero/PETALO_analysis/TOFPET_ToT_lib.py:128: UserWarning: Boolean Series key will be reindexed to match DataFrame index.\n",
      "  data_f1 = data_f0[sel]\n",
      "/volumedisk0/home/vherrero/PETALO_analysis/TOFPET_ToT_lib.py:128: UserWarning: Boolean Series key will be reindexed to match DataFrame index.\n",
      "  data_f1 = data_f0[sel]\n",
      "/volumedisk0/home/vherrero/PETALO_analysis/TOFPET_ToT_lib.py:128: UserWarning: Boolean Series key will be reindexed to match DataFrame index.\n",
      "  data_f1 = data_f0[sel]\n",
      "/volumedisk0/home/vherrero/PETALO_analysis/TOFPET_ToT_lib.py:128: UserWarning: Boolean Series key will be reindexed to match DataFrame index.\n",
      "  data_f1 = data_f0[sel]\n",
      "/volumedisk0/home/vherrero/PETALO_analysis/TOFPET_ToT_lib.py:120: SettingWithCopyWarning: \n",
      "A value is trying to be set on a copy of a slice from a DataFrame.\n",
      "Try using .loc[row_indexer,col_indexer] = value instead\n",
      "\n",
      "See the caveats in the documentation: https://pandas.pydata.org/pandas-docs/stable/user_guide/indexing.html#returning-a-view-versus-a-copy\n",
      "  data_f0['intg_w_ToT'] = data_f0.loc[:,'t2'] - data_f0.loc[:,'t1']\n"
     ]
    },
    {
     "name": "stdout",
     "output_type": "stream",
     "text": [
      "File 7 | Chunk /data_100\n"
     ]
    },
    {
     "name": "stderr",
     "output_type": "stream",
     "text": [
      "/volumedisk0/home/vherrero/PETALO_analysis/TOFPET_ToT_lib.py:128: UserWarning: Boolean Series key will be reindexed to match DataFrame index.\n",
      "  data_f1 = data_f0[sel]\n"
     ]
    },
    {
     "name": "stdout",
     "output_type": "stream",
     "text": [
      "File 6 | Chunk /data_100\n",
      "File 19 | Chunk /data_100\n",
      "File 18 | Chunk /data_100\n"
     ]
    },
    {
     "name": "stderr",
     "output_type": "stream",
     "text": [
      "/volumedisk0/home/vherrero/PETALO_analysis/TOFPET_ToT_lib.py:128: UserWarning: Boolean Series key will be reindexed to match DataFrame index.\n",
      "  data_f1 = data_f0[sel]\n",
      "/volumedisk0/home/vherrero/PETALO_analysis/TOFPET_ToT_lib.py:128: UserWarning: Boolean Series key will be reindexed to match DataFrame index.\n",
      "  data_f1 = data_f0[sel]\n",
      "/volumedisk0/home/vherrero/PETALO_analysis/TOFPET_ToT_lib.py:128: UserWarning: Boolean Series key will be reindexed to match DataFrame index.\n",
      "  data_f1 = data_f0[sel]\n"
     ]
    },
    {
     "name": "stdout",
     "output_type": "stream",
     "text": [
      "File 12 | Chunk /data_100\n"
     ]
    },
    {
     "name": "stderr",
     "output_type": "stream",
     "text": [
      "/volumedisk0/home/vherrero/PETALO_analysis/TOFPET_ToT_lib.py:128: UserWarning: Boolean Series key will be reindexed to match DataFrame index.\n",
      "  data_f1 = data_f0[sel]\n",
      "/volumedisk0/home/vherrero/PETALO_analysis/TOFPET_ToT_lib.py:128: UserWarning: Boolean Series key will be reindexed to match DataFrame index.\n",
      "  data_f1 = data_f0[sel]\n"
     ]
    },
    {
     "name": "stdout",
     "output_type": "stream",
     "text": [
      "File 14 | Chunk /data_100\n",
      "File 4 | Chunk /data_100\n",
      "File 11 | Chunk /data_100\n"
     ]
    },
    {
     "name": "stderr",
     "output_type": "stream",
     "text": [
      "/volumedisk0/home/vherrero/PETALO_analysis/TOFPET_ToT_lib.py:128: UserWarning: Boolean Series key will be reindexed to match DataFrame index.\n",
      "  data_f1 = data_f0[sel]\n"
     ]
    },
    {
     "name": "stdout",
     "output_type": "stream",
     "text": [
      "File 13 | Chunk /data_100\n",
      "File 5 | Chunk /data_100\n"
     ]
    },
    {
     "name": "stderr",
     "output_type": "stream",
     "text": [
      "/volumedisk0/home/vherrero/PETALO_analysis/TOFPET_ToT_lib.py:128: UserWarning: Boolean Series key will be reindexed to match DataFrame index.\n",
      "  data_f1 = data_f0[sel]\n"
     ]
    },
    {
     "name": "stdout",
     "output_type": "stream",
     "text": [
      "File 8 | Chunk /data_100\n",
      "File 3 | Chunk /data_100\n",
      "File 17 | Chunk /data_100\n",
      "File 1 | Chunk /data_100\n",
      "File 10 | Chunk /data_100\n"
     ]
    },
    {
     "name": "stderr",
     "output_type": "stream",
     "text": [
      "/volumedisk0/home/vherrero/PETALO_analysis/TOFPET_ToT_lib.py:120: SettingWithCopyWarning: \n",
      "A value is trying to be set on a copy of a slice from a DataFrame.\n",
      "Try using .loc[row_indexer,col_indexer] = value instead\n",
      "\n",
      "See the caveats in the documentation: https://pandas.pydata.org/pandas-docs/stable/user_guide/indexing.html#returning-a-view-versus-a-copy\n",
      "  data_f0['intg_w_ToT'] = data_f0.loc[:,'t2'] - data_f0.loc[:,'t1']\n",
      "/volumedisk0/home/vherrero/PETALO_analysis/TOFPET_ToT_lib.py:120: SettingWithCopyWarning: \n",
      "A value is trying to be set on a copy of a slice from a DataFrame.\n",
      "Try using .loc[row_indexer,col_indexer] = value instead\n",
      "\n",
      "See the caveats in the documentation: https://pandas.pydata.org/pandas-docs/stable/user_guide/indexing.html#returning-a-view-versus-a-copy\n",
      "  data_f0['intg_w_ToT'] = data_f0.loc[:,'t2'] - data_f0.loc[:,'t1']\n",
      "/volumedisk0/home/vherrero/PETALO_analysis/TOFPET_ToT_lib.py:120: SettingWithCopyWarning: \n",
      "A value is trying to be set on a copy of a slice from a DataFrame.\n",
      "Try using .loc[row_indexer,col_indexer] = value instead\n",
      "\n",
      "See the caveats in the documentation: https://pandas.pydata.org/pandas-docs/stable/user_guide/indexing.html#returning-a-view-versus-a-copy\n",
      "  data_f0['intg_w_ToT'] = data_f0.loc[:,'t2'] - data_f0.loc[:,'t1']\n",
      "/volumedisk0/home/vherrero/PETALO_analysis/TOFPET_ToT_lib.py:120: SettingWithCopyWarning: \n",
      "A value is trying to be set on a copy of a slice from a DataFrame.\n",
      "Try using .loc[row_indexer,col_indexer] = value instead\n",
      "\n",
      "See the caveats in the documentation: https://pandas.pydata.org/pandas-docs/stable/user_guide/indexing.html#returning-a-view-versus-a-copy\n",
      "  data_f0['intg_w_ToT'] = data_f0.loc[:,'t2'] - data_f0.loc[:,'t1']\n",
      "/volumedisk0/home/vherrero/PETALO_analysis/TOFPET_ToT_lib.py:120: SettingWithCopyWarning: \n",
      "A value is trying to be set on a copy of a slice from a DataFrame.\n",
      "Try using .loc[row_indexer,col_indexer] = value instead\n",
      "\n",
      "See the caveats in the documentation: https://pandas.pydata.org/pandas-docs/stable/user_guide/indexing.html#returning-a-view-versus-a-copy\n",
      "  data_f0['intg_w_ToT'] = data_f0.loc[:,'t2'] - data_f0.loc[:,'t1']\n",
      "/volumedisk0/home/vherrero/PETALO_analysis/TOFPET_ToT_lib.py:120: SettingWithCopyWarning: \n",
      "A value is trying to be set on a copy of a slice from a DataFrame.\n",
      "Try using .loc[row_indexer,col_indexer] = value instead\n",
      "\n",
      "See the caveats in the documentation: https://pandas.pydata.org/pandas-docs/stable/user_guide/indexing.html#returning-a-view-versus-a-copy\n",
      "  data_f0['intg_w_ToT'] = data_f0.loc[:,'t2'] - data_f0.loc[:,'t1']\n",
      "/volumedisk0/home/vherrero/PETALO_analysis/TOFPET_ToT_lib.py:120: SettingWithCopyWarning: \n",
      "A value is trying to be set on a copy of a slice from a DataFrame.\n",
      "Try using .loc[row_indexer,col_indexer] = value instead\n",
      "\n",
      "See the caveats in the documentation: https://pandas.pydata.org/pandas-docs/stable/user_guide/indexing.html#returning-a-view-versus-a-copy\n",
      "  data_f0['intg_w_ToT'] = data_f0.loc[:,'t2'] - data_f0.loc[:,'t1']\n",
      "/volumedisk0/home/vherrero/PETALO_analysis/TOFPET_ToT_lib.py:120: SettingWithCopyWarning: \n",
      "A value is trying to be set on a copy of a slice from a DataFrame.\n",
      "Try using .loc[row_indexer,col_indexer] = value instead\n",
      "\n",
      "See the caveats in the documentation: https://pandas.pydata.org/pandas-docs/stable/user_guide/indexing.html#returning-a-view-versus-a-copy\n",
      "  data_f0['intg_w_ToT'] = data_f0.loc[:,'t2'] - data_f0.loc[:,'t1']\n",
      "/volumedisk0/home/vherrero/PETALO_analysis/TOFPET_ToT_lib.py:120: SettingWithCopyWarning: \n",
      "A value is trying to be set on a copy of a slice from a DataFrame.\n",
      "Try using .loc[row_indexer,col_indexer] = value instead\n",
      "\n",
      "See the caveats in the documentation: https://pandas.pydata.org/pandas-docs/stable/user_guide/indexing.html#returning-a-view-versus-a-copy\n",
      "  data_f0['intg_w_ToT'] = data_f0.loc[:,'t2'] - data_f0.loc[:,'t1']\n",
      "/volumedisk0/home/vherrero/PETALO_analysis/TOFPET_ToT_lib.py:128: UserWarning: Boolean Series key will be reindexed to match DataFrame index.\n",
      "  data_f1 = data_f0[sel]\n",
      "/volumedisk0/home/vherrero/PETALO_analysis/TOFPET_ToT_lib.py:120: SettingWithCopyWarning: \n",
      "A value is trying to be set on a copy of a slice from a DataFrame.\n",
      "Try using .loc[row_indexer,col_indexer] = value instead\n",
      "\n",
      "See the caveats in the documentation: https://pandas.pydata.org/pandas-docs/stable/user_guide/indexing.html#returning-a-view-versus-a-copy\n",
      "  data_f0['intg_w_ToT'] = data_f0.loc[:,'t2'] - data_f0.loc[:,'t1']\n",
      "/volumedisk0/home/vherrero/PETALO_analysis/TOFPET_ToT_lib.py:120: SettingWithCopyWarning: \n",
      "A value is trying to be set on a copy of a slice from a DataFrame.\n",
      "Try using .loc[row_indexer,col_indexer] = value instead\n",
      "\n",
      "See the caveats in the documentation: https://pandas.pydata.org/pandas-docs/stable/user_guide/indexing.html#returning-a-view-versus-a-copy\n",
      "  data_f0['intg_w_ToT'] = data_f0.loc[:,'t2'] - data_f0.loc[:,'t1']\n",
      "/volumedisk0/home/vherrero/PETALO_analysis/TOFPET_ToT_lib.py:120: SettingWithCopyWarning: \n",
      "A value is trying to be set on a copy of a slice from a DataFrame.\n",
      "Try using .loc[row_indexer,col_indexer] = value instead\n",
      "\n",
      "See the caveats in the documentation: https://pandas.pydata.org/pandas-docs/stable/user_guide/indexing.html#returning-a-view-versus-a-copy\n",
      "  data_f0['intg_w_ToT'] = data_f0.loc[:,'t2'] - data_f0.loc[:,'t1']\n",
      "/volumedisk0/home/vherrero/PETALO_analysis/TOFPET_ToT_lib.py:120: SettingWithCopyWarning: \n",
      "A value is trying to be set on a copy of a slice from a DataFrame.\n",
      "Try using .loc[row_indexer,col_indexer] = value instead\n",
      "\n",
      "See the caveats in the documentation: https://pandas.pydata.org/pandas-docs/stable/user_guide/indexing.html#returning-a-view-versus-a-copy\n",
      "  data_f0['intg_w_ToT'] = data_f0.loc[:,'t2'] - data_f0.loc[:,'t1']\n"
     ]
    },
    {
     "name": "stdout",
     "output_type": "stream",
     "text": [
      "File 0 | Chunk /data_101\n"
     ]
    },
    {
     "name": "stderr",
     "output_type": "stream",
     "text": [
      "/volumedisk0/home/vherrero/PETALO_analysis/TOFPET_ToT_lib.py:120: SettingWithCopyWarning: \n",
      "A value is trying to be set on a copy of a slice from a DataFrame.\n",
      "Try using .loc[row_indexer,col_indexer] = value instead\n",
      "\n",
      "See the caveats in the documentation: https://pandas.pydata.org/pandas-docs/stable/user_guide/indexing.html#returning-a-view-versus-a-copy\n",
      "  data_f0['intg_w_ToT'] = data_f0.loc[:,'t2'] - data_f0.loc[:,'t1']\n",
      "/volumedisk0/home/vherrero/PETALO_analysis/TOFPET_ToT_lib.py:120: SettingWithCopyWarning: \n",
      "A value is trying to be set on a copy of a slice from a DataFrame.\n",
      "Try using .loc[row_indexer,col_indexer] = value instead\n",
      "\n",
      "See the caveats in the documentation: https://pandas.pydata.org/pandas-docs/stable/user_guide/indexing.html#returning-a-view-versus-a-copy\n",
      "  data_f0['intg_w_ToT'] = data_f0.loc[:,'t2'] - data_f0.loc[:,'t1']\n",
      "/volumedisk0/home/vherrero/PETALO_analysis/TOFPET_ToT_lib.py:128: UserWarning: Boolean Series key will be reindexed to match DataFrame index.\n",
      "  data_f1 = data_f0[sel]\n",
      "/volumedisk0/home/vherrero/PETALO_analysis/TOFPET_ToT_lib.py:120: SettingWithCopyWarning: \n",
      "A value is trying to be set on a copy of a slice from a DataFrame.\n",
      "Try using .loc[row_indexer,col_indexer] = value instead\n",
      "\n",
      "See the caveats in the documentation: https://pandas.pydata.org/pandas-docs/stable/user_guide/indexing.html#returning-a-view-versus-a-copy\n",
      "  data_f0['intg_w_ToT'] = data_f0.loc[:,'t2'] - data_f0.loc[:,'t1']\n",
      "/volumedisk0/home/vherrero/PETALO_analysis/TOFPET_ToT_lib.py:120: SettingWithCopyWarning: \n",
      "A value is trying to be set on a copy of a slice from a DataFrame.\n",
      "Try using .loc[row_indexer,col_indexer] = value instead\n",
      "\n",
      "See the caveats in the documentation: https://pandas.pydata.org/pandas-docs/stable/user_guide/indexing.html#returning-a-view-versus-a-copy\n",
      "  data_f0['intg_w_ToT'] = data_f0.loc[:,'t2'] - data_f0.loc[:,'t1']\n"
     ]
    },
    {
     "name": "stdout",
     "output_type": "stream",
     "text": [
      "File 9 | Chunk /data_101\n"
     ]
    },
    {
     "name": "stderr",
     "output_type": "stream",
     "text": [
      "/volumedisk0/home/vherrero/PETALO_analysis/TOFPET_ToT_lib.py:128: UserWarning: Boolean Series key will be reindexed to match DataFrame index.\n",
      "  data_f1 = data_f0[sel]\n"
     ]
    },
    {
     "name": "stdout",
     "output_type": "stream",
     "text": [
      "File 2 | Chunk /data_101\n"
     ]
    },
    {
     "name": "stderr",
     "output_type": "stream",
     "text": [
      "/volumedisk0/home/vherrero/PETALO_analysis/TOFPET_ToT_lib.py:120: SettingWithCopyWarning: \n",
      "A value is trying to be set on a copy of a slice from a DataFrame.\n",
      "Try using .loc[row_indexer,col_indexer] = value instead\n",
      "\n",
      "See the caveats in the documentation: https://pandas.pydata.org/pandas-docs/stable/user_guide/indexing.html#returning-a-view-versus-a-copy\n",
      "  data_f0['intg_w_ToT'] = data_f0.loc[:,'t2'] - data_f0.loc[:,'t1']\n",
      "/volumedisk0/home/vherrero/PETALO_analysis/TOFPET_ToT_lib.py:128: UserWarning: Boolean Series key will be reindexed to match DataFrame index.\n",
      "  data_f1 = data_f0[sel]\n",
      "/volumedisk0/home/vherrero/PETALO_analysis/TOFPET_ToT_lib.py:120: SettingWithCopyWarning: \n",
      "A value is trying to be set on a copy of a slice from a DataFrame.\n",
      "Try using .loc[row_indexer,col_indexer] = value instead\n",
      "\n",
      "See the caveats in the documentation: https://pandas.pydata.org/pandas-docs/stable/user_guide/indexing.html#returning-a-view-versus-a-copy\n",
      "  data_f0['intg_w_ToT'] = data_f0.loc[:,'t2'] - data_f0.loc[:,'t1']\n"
     ]
    },
    {
     "name": "stdout",
     "output_type": "stream",
     "text": [
      "File 16 | Chunk /data_101\n"
     ]
    },
    {
     "name": "stderr",
     "output_type": "stream",
     "text": [
      "/volumedisk0/home/vherrero/PETALO_analysis/TOFPET_ToT_lib.py:128: UserWarning: Boolean Series key will be reindexed to match DataFrame index.\n",
      "  data_f1 = data_f0[sel]\n",
      "/volumedisk0/home/vherrero/PETALO_analysis/TOFPET_ToT_lib.py:120: SettingWithCopyWarning: \n",
      "A value is trying to be set on a copy of a slice from a DataFrame.\n",
      "Try using .loc[row_indexer,col_indexer] = value instead\n",
      "\n",
      "See the caveats in the documentation: https://pandas.pydata.org/pandas-docs/stable/user_guide/indexing.html#returning-a-view-versus-a-copy\n",
      "  data_f0['intg_w_ToT'] = data_f0.loc[:,'t2'] - data_f0.loc[:,'t1']\n"
     ]
    },
    {
     "name": "stdout",
     "output_type": "stream",
     "text": [
      "File 15 | Chunk /data_101\n"
     ]
    },
    {
     "name": "stderr",
     "output_type": "stream",
     "text": [
      "/volumedisk0/home/vherrero/PETALO_analysis/TOFPET_ToT_lib.py:128: UserWarning: Boolean Series key will be reindexed to match DataFrame index.\n",
      "  data_f1 = data_f0[sel]\n",
      "/volumedisk0/home/vherrero/PETALO_analysis/TOFPET_ToT_lib.py:128: UserWarning: Boolean Series key will be reindexed to match DataFrame index.\n",
      "  data_f1 = data_f0[sel]\n",
      "/volumedisk0/home/vherrero/PETALO_analysis/TOFPET_ToT_lib.py:128: UserWarning: Boolean Series key will be reindexed to match DataFrame index.\n",
      "  data_f1 = data_f0[sel]\n",
      "/volumedisk0/home/vherrero/PETALO_analysis/TOFPET_ToT_lib.py:128: UserWarning: Boolean Series key will be reindexed to match DataFrame index.\n",
      "  data_f1 = data_f0[sel]\n"
     ]
    },
    {
     "name": "stdout",
     "output_type": "stream",
     "text": [
      "File 7 | Chunk /data_101\n",
      "File 19 | Chunk /data_101\n"
     ]
    },
    {
     "name": "stderr",
     "output_type": "stream",
     "text": [
      "/volumedisk0/home/vherrero/PETALO_analysis/TOFPET_ToT_lib.py:128: UserWarning: Boolean Series key will be reindexed to match DataFrame index.\n",
      "  data_f1 = data_f0[sel]\n"
     ]
    },
    {
     "name": "stdout",
     "output_type": "stream",
     "text": [
      "File 6 | Chunk /data_101\n",
      "File 18 | Chunk /data_101\n",
      "File 4 | Chunk /data_101\n"
     ]
    },
    {
     "name": "stderr",
     "output_type": "stream",
     "text": [
      "/volumedisk0/home/vherrero/PETALO_analysis/TOFPET_ToT_lib.py:128: UserWarning: Boolean Series key will be reindexed to match DataFrame index.\n",
      "  data_f1 = data_f0[sel]\n",
      "/volumedisk0/home/vherrero/PETALO_analysis/TOFPET_ToT_lib.py:128: UserWarning: Boolean Series key will be reindexed to match DataFrame index.\n",
      "  data_f1 = data_f0[sel]\n",
      "/volumedisk0/home/vherrero/PETALO_analysis/TOFPET_ToT_lib.py:128: UserWarning: Boolean Series key will be reindexed to match DataFrame index.\n",
      "  data_f1 = data_f0[sel]\n",
      "/volumedisk0/home/vherrero/PETALO_analysis/TOFPET_ToT_lib.py:128: UserWarning: Boolean Series key will be reindexed to match DataFrame index.\n",
      "  data_f1 = data_f0[sel]\n",
      "/volumedisk0/home/vherrero/PETALO_analysis/TOFPET_ToT_lib.py:128: UserWarning: Boolean Series key will be reindexed to match DataFrame index.\n",
      "  data_f1 = data_f0[sel]\n"
     ]
    },
    {
     "name": "stdout",
     "output_type": "stream",
     "text": [
      "File 12 | Chunk /data_101\n",
      "File 13 | Chunk /data_101\n"
     ]
    },
    {
     "name": "stderr",
     "output_type": "stream",
     "text": [
      "/volumedisk0/home/vherrero/PETALO_analysis/TOFPET_ToT_lib.py:128: UserWarning: Boolean Series key will be reindexed to match DataFrame index.\n",
      "  data_f1 = data_f0[sel]\n",
      "/volumedisk0/home/vherrero/PETALO_analysis/TOFPET_ToT_lib.py:120: SettingWithCopyWarning: \n",
      "A value is trying to be set on a copy of a slice from a DataFrame.\n",
      "Try using .loc[row_indexer,col_indexer] = value instead\n",
      "\n",
      "See the caveats in the documentation: https://pandas.pydata.org/pandas-docs/stable/user_guide/indexing.html#returning-a-view-versus-a-copy\n",
      "  data_f0['intg_w_ToT'] = data_f0.loc[:,'t2'] - data_f0.loc[:,'t1']\n"
     ]
    },
    {
     "name": "stdout",
     "output_type": "stream",
     "text": [
      "File 11 | Chunk /data_101\n",
      "File 5 | Chunk /data_101\n",
      "File 3 | Chunk /data_101\n"
     ]
    },
    {
     "name": "stderr",
     "output_type": "stream",
     "text": [
      "/volumedisk0/home/vherrero/PETALO_analysis/TOFPET_ToT_lib.py:128: UserWarning: Boolean Series key will be reindexed to match DataFrame index.\n",
      "  data_f1 = data_f0[sel]\n"
     ]
    },
    {
     "name": "stdout",
     "output_type": "stream",
     "text": [
      "File 14 | Chunk /data_101"
     ]
    },
    {
     "name": "stderr",
     "output_type": "stream",
     "text": [
      "/volumedisk0/home/vherrero/PETALO_analysis/TOFPET_ToT_lib.py:128: UserWarning: Boolean Series key will be reindexed to match DataFrame index.\n",
      "  data_f1 = data_f0[sel]\n"
     ]
    },
    {
     "name": "stdout",
     "output_type": "stream",
     "text": [
      "\n"
     ]
    },
    {
     "name": "stderr",
     "output_type": "stream",
     "text": [
      "/volumedisk0/home/vherrero/PETALO_analysis/TOFPET_ToT_lib.py:128: UserWarning: Boolean Series key will be reindexed to match DataFrame index.\n",
      "  data_f1 = data_f0[sel]\n",
      "/volumedisk0/home/vherrero/PETALO_analysis/TOFPET_ToT_lib.py:128: UserWarning: Boolean Series key will be reindexed to match DataFrame index.\n",
      "  data_f1 = data_f0[sel]\n"
     ]
    },
    {
     "name": "stdout",
     "output_type": "stream",
     "text": [
      "File 8 | Chunk /data_101\n",
      "File 1 | Chunk /data_101\n",
      "File 10 | Chunk /data_101\n",
      "File 17 | Chunk /data_101\n"
     ]
    },
    {
     "name": "stderr",
     "output_type": "stream",
     "text": [
      "/volumedisk0/home/vherrero/PETALO_analysis/TOFPET_ToT_lib.py:120: SettingWithCopyWarning: \n",
      "A value is trying to be set on a copy of a slice from a DataFrame.\n",
      "Try using .loc[row_indexer,col_indexer] = value instead\n",
      "\n",
      "See the caveats in the documentation: https://pandas.pydata.org/pandas-docs/stable/user_guide/indexing.html#returning-a-view-versus-a-copy\n",
      "  data_f0['intg_w_ToT'] = data_f0.loc[:,'t2'] - data_f0.loc[:,'t1']\n",
      "/volumedisk0/home/vherrero/PETALO_analysis/TOFPET_ToT_lib.py:128: UserWarning: Boolean Series key will be reindexed to match DataFrame index.\n",
      "  data_f1 = data_f0[sel]\n",
      "/volumedisk0/home/vherrero/PETALO_analysis/TOFPET_ToT_lib.py:120: SettingWithCopyWarning: \n",
      "A value is trying to be set on a copy of a slice from a DataFrame.\n",
      "Try using .loc[row_indexer,col_indexer] = value instead\n",
      "\n",
      "See the caveats in the documentation: https://pandas.pydata.org/pandas-docs/stable/user_guide/indexing.html#returning-a-view-versus-a-copy\n",
      "  data_f0['intg_w_ToT'] = data_f0.loc[:,'t2'] - data_f0.loc[:,'t1']\n",
      "/volumedisk0/home/vherrero/PETALO_analysis/TOFPET_ToT_lib.py:120: SettingWithCopyWarning: \n",
      "A value is trying to be set on a copy of a slice from a DataFrame.\n",
      "Try using .loc[row_indexer,col_indexer] = value instead\n",
      "\n",
      "See the caveats in the documentation: https://pandas.pydata.org/pandas-docs/stable/user_guide/indexing.html#returning-a-view-versus-a-copy\n",
      "  data_f0['intg_w_ToT'] = data_f0.loc[:,'t2'] - data_f0.loc[:,'t1']\n",
      "/volumedisk0/home/vherrero/PETALO_analysis/TOFPET_ToT_lib.py:120: SettingWithCopyWarning: \n",
      "A value is trying to be set on a copy of a slice from a DataFrame.\n",
      "Try using .loc[row_indexer,col_indexer] = value instead\n",
      "\n",
      "See the caveats in the documentation: https://pandas.pydata.org/pandas-docs/stable/user_guide/indexing.html#returning-a-view-versus-a-copy\n",
      "  data_f0['intg_w_ToT'] = data_f0.loc[:,'t2'] - data_f0.loc[:,'t1']\n",
      "/volumedisk0/home/vherrero/PETALO_analysis/TOFPET_ToT_lib.py:128: UserWarning: Boolean Series key will be reindexed to match DataFrame index.\n",
      "  data_f1 = data_f0[sel]\n",
      "/volumedisk0/home/vherrero/PETALO_analysis/TOFPET_ToT_lib.py:120: SettingWithCopyWarning: \n",
      "A value is trying to be set on a copy of a slice from a DataFrame.\n",
      "Try using .loc[row_indexer,col_indexer] = value instead\n",
      "\n",
      "See the caveats in the documentation: https://pandas.pydata.org/pandas-docs/stable/user_guide/indexing.html#returning-a-view-versus-a-copy\n",
      "  data_f0['intg_w_ToT'] = data_f0.loc[:,'t2'] - data_f0.loc[:,'t1']\n"
     ]
    },
    {
     "name": "stdout",
     "output_type": "stream",
     "text": [
      "File 0 | Chunk /data_102\n",
      "File 9 | Chunk /data_102\n"
     ]
    },
    {
     "name": "stderr",
     "output_type": "stream",
     "text": [
      "/volumedisk0/home/vherrero/PETALO_analysis/TOFPET_ToT_lib.py:120: SettingWithCopyWarning: \n",
      "A value is trying to be set on a copy of a slice from a DataFrame.\n",
      "Try using .loc[row_indexer,col_indexer] = value instead\n",
      "\n",
      "See the caveats in the documentation: https://pandas.pydata.org/pandas-docs/stable/user_guide/indexing.html#returning-a-view-versus-a-copy\n",
      "  data_f0['intg_w_ToT'] = data_f0.loc[:,'t2'] - data_f0.loc[:,'t1']\n",
      "/volumedisk0/home/vherrero/PETALO_analysis/TOFPET_ToT_lib.py:120: SettingWithCopyWarning: \n",
      "A value is trying to be set on a copy of a slice from a DataFrame.\n",
      "Try using .loc[row_indexer,col_indexer] = value instead\n",
      "\n",
      "See the caveats in the documentation: https://pandas.pydata.org/pandas-docs/stable/user_guide/indexing.html#returning-a-view-versus-a-copy\n",
      "  data_f0['intg_w_ToT'] = data_f0.loc[:,'t2'] - data_f0.loc[:,'t1']\n",
      "/volumedisk0/home/vherrero/PETALO_analysis/TOFPET_ToT_lib.py:120: SettingWithCopyWarning: \n",
      "A value is trying to be set on a copy of a slice from a DataFrame.\n",
      "Try using .loc[row_indexer,col_indexer] = value instead\n",
      "\n",
      "See the caveats in the documentation: https://pandas.pydata.org/pandas-docs/stable/user_guide/indexing.html#returning-a-view-versus-a-copy\n",
      "  data_f0['intg_w_ToT'] = data_f0.loc[:,'t2'] - data_f0.loc[:,'t1']\n",
      "/volumedisk0/home/vherrero/PETALO_analysis/TOFPET_ToT_lib.py:120: SettingWithCopyWarning: \n",
      "A value is trying to be set on a copy of a slice from a DataFrame.\n",
      "Try using .loc[row_indexer,col_indexer] = value instead\n",
      "\n",
      "See the caveats in the documentation: https://pandas.pydata.org/pandas-docs/stable/user_guide/indexing.html#returning-a-view-versus-a-copy\n",
      "  data_f0['intg_w_ToT'] = data_f0.loc[:,'t2'] - data_f0.loc[:,'t1']\n",
      "/volumedisk0/home/vherrero/PETALO_analysis/TOFPET_ToT_lib.py:128: UserWarning: Boolean Series key will be reindexed to match DataFrame index.\n",
      "  data_f1 = data_f0[sel]\n",
      "/volumedisk0/home/vherrero/PETALO_analysis/TOFPET_ToT_lib.py:120: SettingWithCopyWarning: \n",
      "A value is trying to be set on a copy of a slice from a DataFrame.\n",
      "Try using .loc[row_indexer,col_indexer] = value instead\n",
      "\n",
      "See the caveats in the documentation: https://pandas.pydata.org/pandas-docs/stable/user_guide/indexing.html#returning-a-view-versus-a-copy\n",
      "  data_f0['intg_w_ToT'] = data_f0.loc[:,'t2'] - data_f0.loc[:,'t1']\n"
     ]
    },
    {
     "name": "stdout",
     "output_type": "stream",
     "text": [
      "File 2 | Chunk /data_102\n"
     ]
    },
    {
     "name": "stderr",
     "output_type": "stream",
     "text": [
      "/volumedisk0/home/vherrero/PETALO_analysis/TOFPET_ToT_lib.py:120: SettingWithCopyWarning: \n",
      "A value is trying to be set on a copy of a slice from a DataFrame.\n",
      "Try using .loc[row_indexer,col_indexer] = value instead\n",
      "\n",
      "See the caveats in the documentation: https://pandas.pydata.org/pandas-docs/stable/user_guide/indexing.html#returning-a-view-versus-a-copy\n",
      "  data_f0['intg_w_ToT'] = data_f0.loc[:,'t2'] - data_f0.loc[:,'t1']\n",
      "/volumedisk0/home/vherrero/PETALO_analysis/TOFPET_ToT_lib.py:120: SettingWithCopyWarning: \n",
      "A value is trying to be set on a copy of a slice from a DataFrame.\n",
      "Try using .loc[row_indexer,col_indexer] = value instead\n",
      "\n",
      "See the caveats in the documentation: https://pandas.pydata.org/pandas-docs/stable/user_guide/indexing.html#returning-a-view-versus-a-copy\n",
      "  data_f0['intg_w_ToT'] = data_f0.loc[:,'t2'] - data_f0.loc[:,'t1']\n",
      "/volumedisk0/home/vherrero/PETALO_analysis/TOFPET_ToT_lib.py:120: SettingWithCopyWarning: \n",
      "A value is trying to be set on a copy of a slice from a DataFrame.\n",
      "Try using .loc[row_indexer,col_indexer] = value instead\n",
      "\n",
      "See the caveats in the documentation: https://pandas.pydata.org/pandas-docs/stable/user_guide/indexing.html#returning-a-view-versus-a-copy\n",
      "  data_f0['intg_w_ToT'] = data_f0.loc[:,'t2'] - data_f0.loc[:,'t1']\n",
      "/volumedisk0/home/vherrero/PETALO_analysis/TOFPET_ToT_lib.py:120: SettingWithCopyWarning: \n",
      "A value is trying to be set on a copy of a slice from a DataFrame.\n",
      "Try using .loc[row_indexer,col_indexer] = value instead\n",
      "\n",
      "See the caveats in the documentation: https://pandas.pydata.org/pandas-docs/stable/user_guide/indexing.html#returning-a-view-versus-a-copy\n",
      "  data_f0['intg_w_ToT'] = data_f0.loc[:,'t2'] - data_f0.loc[:,'t1']\n",
      "/volumedisk0/home/vherrero/PETALO_analysis/TOFPET_ToT_lib.py:120: SettingWithCopyWarning: \n",
      "A value is trying to be set on a copy of a slice from a DataFrame.\n",
      "Try using .loc[row_indexer,col_indexer] = value instead\n",
      "\n",
      "See the caveats in the documentation: https://pandas.pydata.org/pandas-docs/stable/user_guide/indexing.html#returning-a-view-versus-a-copy\n",
      "  data_f0['intg_w_ToT'] = data_f0.loc[:,'t2'] - data_f0.loc[:,'t1']\n",
      "/volumedisk0/home/vherrero/PETALO_analysis/TOFPET_ToT_lib.py:120: SettingWithCopyWarning: \n",
      "A value is trying to be set on a copy of a slice from a DataFrame.\n",
      "Try using .loc[row_indexer,col_indexer] = value instead\n",
      "\n",
      "See the caveats in the documentation: https://pandas.pydata.org/pandas-docs/stable/user_guide/indexing.html#returning-a-view-versus-a-copy\n",
      "  data_f0['intg_w_ToT'] = data_f0.loc[:,'t2'] - data_f0.loc[:,'t1']\n",
      "/volumedisk0/home/vherrero/PETALO_analysis/TOFPET_ToT_lib.py:128: UserWarning: Boolean Series key will be reindexed to match DataFrame index.\n",
      "  data_f1 = data_f0[sel]\n",
      "/volumedisk0/home/vherrero/PETALO_analysis/TOFPET_ToT_lib.py:120: SettingWithCopyWarning: \n",
      "A value is trying to be set on a copy of a slice from a DataFrame.\n",
      "Try using .loc[row_indexer,col_indexer] = value instead\n",
      "\n",
      "See the caveats in the documentation: https://pandas.pydata.org/pandas-docs/stable/user_guide/indexing.html#returning-a-view-versus-a-copy\n",
      "  data_f0['intg_w_ToT'] = data_f0.loc[:,'t2'] - data_f0.loc[:,'t1']\n",
      "/volumedisk0/home/vherrero/PETALO_analysis/TOFPET_ToT_lib.py:120: SettingWithCopyWarning: \n",
      "A value is trying to be set on a copy of a slice from a DataFrame.\n",
      "Try using .loc[row_indexer,col_indexer] = value instead\n",
      "\n",
      "See the caveats in the documentation: https://pandas.pydata.org/pandas-docs/stable/user_guide/indexing.html#returning-a-view-versus-a-copy\n",
      "  data_f0['intg_w_ToT'] = data_f0.loc[:,'t2'] - data_f0.loc[:,'t1']\n"
     ]
    },
    {
     "name": "stdout",
     "output_type": "stream",
     "text": [
      "File 16 | Chunk /data_102\n"
     ]
    },
    {
     "name": "stderr",
     "output_type": "stream",
     "text": [
      "/volumedisk0/home/vherrero/PETALO_analysis/TOFPET_ToT_lib.py:120: SettingWithCopyWarning: \n",
      "A value is trying to be set on a copy of a slice from a DataFrame.\n",
      "Try using .loc[row_indexer,col_indexer] = value instead\n",
      "\n",
      "See the caveats in the documentation: https://pandas.pydata.org/pandas-docs/stable/user_guide/indexing.html#returning-a-view-versus-a-copy\n",
      "  data_f0['intg_w_ToT'] = data_f0.loc[:,'t2'] - data_f0.loc[:,'t1']\n",
      "/volumedisk0/home/vherrero/PETALO_analysis/TOFPET_ToT_lib.py:128: UserWarning: Boolean Series key will be reindexed to match DataFrame index.\n",
      "  data_f1 = data_f0[sel]\n",
      "/volumedisk0/home/vherrero/PETALO_analysis/TOFPET_ToT_lib.py:128: UserWarning: Boolean Series key will be reindexed to match DataFrame index.\n",
      "  data_f1 = data_f0[sel]\n",
      "/volumedisk0/home/vherrero/PETALO_analysis/TOFPET_ToT_lib.py:128: UserWarning: Boolean Series key will be reindexed to match DataFrame index.\n",
      "  data_f1 = data_f0[sel]\n",
      "/volumedisk0/home/vherrero/PETALO_analysis/TOFPET_ToT_lib.py:128: UserWarning: Boolean Series key will be reindexed to match DataFrame index.\n",
      "  data_f1 = data_f0[sel]\n",
      "/volumedisk0/home/vherrero/PETALO_analysis/TOFPET_ToT_lib.py:120: SettingWithCopyWarning: \n",
      "A value is trying to be set on a copy of a slice from a DataFrame.\n",
      "Try using .loc[row_indexer,col_indexer] = value instead\n",
      "\n",
      "See the caveats in the documentation: https://pandas.pydata.org/pandas-docs/stable/user_guide/indexing.html#returning-a-view-versus-a-copy\n",
      "  data_f0['intg_w_ToT'] = data_f0.loc[:,'t2'] - data_f0.loc[:,'t1']\n"
     ]
    },
    {
     "name": "stdout",
     "output_type": "stream",
     "text": [
      "File 15 | Chunk /data_102\n"
     ]
    },
    {
     "name": "stderr",
     "output_type": "stream",
     "text": [
      "/volumedisk0/home/vherrero/PETALO_analysis/TOFPET_ToT_lib.py:128: UserWarning: Boolean Series key will be reindexed to match DataFrame index.\n",
      "  data_f1 = data_f0[sel]\n"
     ]
    },
    {
     "name": "stdout",
     "output_type": "stream",
     "text": [
      "File 7 | Chunk /data_102\n",
      "File 6 | Chunk /data_102\n",
      "File 19 | Chunk /data_102\n",
      "File 18 | Chunk /data_102\n"
     ]
    },
    {
     "name": "stderr",
     "output_type": "stream",
     "text": [
      "/volumedisk0/home/vherrero/PETALO_analysis/TOFPET_ToT_lib.py:128: UserWarning: Boolean Series key will be reindexed to match DataFrame index.\n",
      "  data_f1 = data_f0[sel]\n",
      "/volumedisk0/home/vherrero/PETALO_analysis/TOFPET_ToT_lib.py:128: UserWarning: Boolean Series key will be reindexed to match DataFrame index.\n",
      "  data_f1 = data_f0[sel]\n",
      "/volumedisk0/home/vherrero/PETALO_analysis/TOFPET_ToT_lib.py:128: UserWarning: Boolean Series key will be reindexed to match DataFrame index.\n",
      "  data_f1 = data_f0[sel]\n",
      "/volumedisk0/home/vherrero/PETALO_analysis/TOFPET_ToT_lib.py:128: UserWarning: Boolean Series key will be reindexed to match DataFrame index.\n",
      "  data_f1 = data_f0[sel]\n",
      "/volumedisk0/home/vherrero/PETALO_analysis/TOFPET_ToT_lib.py:128: UserWarning: Boolean Series key will be reindexed to match DataFrame index.\n",
      "  data_f1 = data_f0[sel]\n"
     ]
    },
    {
     "name": "stdout",
     "output_type": "stream",
     "text": [
      "File 13 | Chunk /data_102File 12 | Chunk /data_102\n",
      "\n",
      "File 11 | Chunk /data_102\n"
     ]
    },
    {
     "name": "stderr",
     "output_type": "stream",
     "text": [
      "/volumedisk0/home/vherrero/PETALO_analysis/TOFPET_ToT_lib.py:128: UserWarning: Boolean Series key will be reindexed to match DataFrame index.\n",
      "  data_f1 = data_f0[sel]\n",
      "/volumedisk0/home/vherrero/PETALO_analysis/TOFPET_ToT_lib.py:128: UserWarning: Boolean Series key will be reindexed to match DataFrame index.\n",
      "  data_f1 = data_f0[sel]\n",
      "/volumedisk0/home/vherrero/PETALO_analysis/TOFPET_ToT_lib.py:128: UserWarning: Boolean Series key will be reindexed to match DataFrame index.\n",
      "  data_f1 = data_f0[sel]\n"
     ]
    },
    {
     "name": "stdout",
     "output_type": "stream",
     "text": [
      "File 4 | Chunk /data_102\n"
     ]
    },
    {
     "name": "stderr",
     "output_type": "stream",
     "text": [
      "/volumedisk0/home/vherrero/PETALO_analysis/TOFPET_ToT_lib.py:128: UserWarning: Boolean Series key will be reindexed to match DataFrame index.\n",
      "  data_f1 = data_f0[sel]\n"
     ]
    },
    {
     "name": "stdout",
     "output_type": "stream",
     "text": [
      "File 5 | Chunk /data_102\n"
     ]
    },
    {
     "name": "stderr",
     "output_type": "stream",
     "text": [
      "/volumedisk0/home/vherrero/PETALO_analysis/TOFPET_ToT_lib.py:128: UserWarning: Boolean Series key will be reindexed to match DataFrame index.\n",
      "  data_f1 = data_f0[sel]\n",
      "/volumedisk0/home/vherrero/PETALO_analysis/TOFPET_ToT_lib.py:128: UserWarning: Boolean Series key will be reindexed to match DataFrame index.\n",
      "  data_f1 = data_f0[sel]\n"
     ]
    },
    {
     "name": "stdout",
     "output_type": "stream",
     "text": [
      "File 14 | Chunk /data_102\n",
      "File 8 | Chunk /data_102\n"
     ]
    },
    {
     "name": "stderr",
     "output_type": "stream",
     "text": [
      "/volumedisk0/home/vherrero/PETALO_analysis/TOFPET_ToT_lib.py:120: SettingWithCopyWarning: \n",
      "A value is trying to be set on a copy of a slice from a DataFrame.\n",
      "Try using .loc[row_indexer,col_indexer] = value instead\n",
      "\n",
      "See the caveats in the documentation: https://pandas.pydata.org/pandas-docs/stable/user_guide/indexing.html#returning-a-view-versus-a-copy\n",
      "  data_f0['intg_w_ToT'] = data_f0.loc[:,'t2'] - data_f0.loc[:,'t1']\n"
     ]
    },
    {
     "name": "stdout",
     "output_type": "stream",
     "text": [
      "File 3 | Chunk /data_102\n",
      "File 10 | Chunk /data_102\n",
      "File 17 | Chunk /data_102\n",
      "File 1 | Chunk /data_102\n"
     ]
    },
    {
     "name": "stderr",
     "output_type": "stream",
     "text": [
      "/volumedisk0/home/vherrero/PETALO_analysis/TOFPET_ToT_lib.py:120: SettingWithCopyWarning: \n",
      "A value is trying to be set on a copy of a slice from a DataFrame.\n",
      "Try using .loc[row_indexer,col_indexer] = value instead\n",
      "\n",
      "See the caveats in the documentation: https://pandas.pydata.org/pandas-docs/stable/user_guide/indexing.html#returning-a-view-versus-a-copy\n",
      "  data_f0['intg_w_ToT'] = data_f0.loc[:,'t2'] - data_f0.loc[:,'t1']\n",
      "/volumedisk0/home/vherrero/PETALO_analysis/TOFPET_ToT_lib.py:120: SettingWithCopyWarning: \n",
      "A value is trying to be set on a copy of a slice from a DataFrame.\n",
      "Try using .loc[row_indexer,col_indexer] = value instead\n",
      "\n",
      "See the caveats in the documentation: https://pandas.pydata.org/pandas-docs/stable/user_guide/indexing.html#returning-a-view-versus-a-copy\n",
      "  data_f0['intg_w_ToT'] = data_f0.loc[:,'t2'] - data_f0.loc[:,'t1']\n",
      "/volumedisk0/home/vherrero/PETALO_analysis/TOFPET_ToT_lib.py:128: UserWarning: Boolean Series key will be reindexed to match DataFrame index.\n",
      "  data_f1 = data_f0[sel]\n",
      "/volumedisk0/home/vherrero/PETALO_analysis/TOFPET_ToT_lib.py:120: SettingWithCopyWarning: \n",
      "A value is trying to be set on a copy of a slice from a DataFrame.\n",
      "Try using .loc[row_indexer,col_indexer] = value instead\n",
      "\n",
      "See the caveats in the documentation: https://pandas.pydata.org/pandas-docs/stable/user_guide/indexing.html#returning-a-view-versus-a-copy\n",
      "  data_f0['intg_w_ToT'] = data_f0.loc[:,'t2'] - data_f0.loc[:,'t1']\n",
      "/volumedisk0/home/vherrero/PETALO_analysis/TOFPET_ToT_lib.py:128: UserWarning: Boolean Series key will be reindexed to match DataFrame index.\n",
      "  data_f1 = data_f0[sel]\n",
      "/volumedisk0/home/vherrero/PETALO_analysis/TOFPET_ToT_lib.py:120: SettingWithCopyWarning: \n",
      "A value is trying to be set on a copy of a slice from a DataFrame.\n",
      "Try using .loc[row_indexer,col_indexer] = value instead\n",
      "\n",
      "See the caveats in the documentation: https://pandas.pydata.org/pandas-docs/stable/user_guide/indexing.html#returning-a-view-versus-a-copy\n",
      "  data_f0['intg_w_ToT'] = data_f0.loc[:,'t2'] - data_f0.loc[:,'t1']\n"
     ]
    },
    {
     "name": "stdout",
     "output_type": "stream",
     "text": [
      "File 0 | Chunk /data_103\n"
     ]
    },
    {
     "name": "stderr",
     "output_type": "stream",
     "text": [
      "/volumedisk0/home/vherrero/PETALO_analysis/TOFPET_ToT_lib.py:128: UserWarning: Boolean Series key will be reindexed to match DataFrame index.\n",
      "  data_f1 = data_f0[sel]\n"
     ]
    },
    {
     "name": "stdout",
     "output_type": "stream",
     "text": [
      "File 9 | Chunk /data_103\n",
      "File 2 | Chunk /data_103\n"
     ]
    },
    {
     "name": "stderr",
     "output_type": "stream",
     "text": [
      "/volumedisk0/home/vherrero/PETALO_analysis/TOFPET_ToT_lib.py:120: SettingWithCopyWarning: \n",
      "A value is trying to be set on a copy of a slice from a DataFrame.\n",
      "Try using .loc[row_indexer,col_indexer] = value instead\n",
      "\n",
      "See the caveats in the documentation: https://pandas.pydata.org/pandas-docs/stable/user_guide/indexing.html#returning-a-view-versus-a-copy\n",
      "  data_f0['intg_w_ToT'] = data_f0.loc[:,'t2'] - data_f0.loc[:,'t1']\n",
      "/volumedisk0/home/vherrero/PETALO_analysis/TOFPET_ToT_lib.py:120: SettingWithCopyWarning: \n",
      "A value is trying to be set on a copy of a slice from a DataFrame.\n",
      "Try using .loc[row_indexer,col_indexer] = value instead\n",
      "\n",
      "See the caveats in the documentation: https://pandas.pydata.org/pandas-docs/stable/user_guide/indexing.html#returning-a-view-versus-a-copy\n",
      "  data_f0['intg_w_ToT'] = data_f0.loc[:,'t2'] - data_f0.loc[:,'t1']\n",
      "/volumedisk0/home/vherrero/PETALO_analysis/TOFPET_ToT_lib.py:120: SettingWithCopyWarning: \n",
      "A value is trying to be set on a copy of a slice from a DataFrame.\n",
      "Try using .loc[row_indexer,col_indexer] = value instead\n",
      "\n",
      "See the caveats in the documentation: https://pandas.pydata.org/pandas-docs/stable/user_guide/indexing.html#returning-a-view-versus-a-copy\n",
      "  data_f0['intg_w_ToT'] = data_f0.loc[:,'t2'] - data_f0.loc[:,'t1']\n",
      "/volumedisk0/home/vherrero/PETALO_analysis/TOFPET_ToT_lib.py:120: SettingWithCopyWarning: \n",
      "A value is trying to be set on a copy of a slice from a DataFrame.\n",
      "Try using .loc[row_indexer,col_indexer] = value instead\n",
      "\n",
      "See the caveats in the documentation: https://pandas.pydata.org/pandas-docs/stable/user_guide/indexing.html#returning-a-view-versus-a-copy\n",
      "  data_f0['intg_w_ToT'] = data_f0.loc[:,'t2'] - data_f0.loc[:,'t1']\n",
      "/volumedisk0/home/vherrero/PETALO_analysis/TOFPET_ToT_lib.py:120: SettingWithCopyWarning: \n",
      "A value is trying to be set on a copy of a slice from a DataFrame.\n",
      "Try using .loc[row_indexer,col_indexer] = value instead\n",
      "\n",
      "See the caveats in the documentation: https://pandas.pydata.org/pandas-docs/stable/user_guide/indexing.html#returning-a-view-versus-a-copy\n",
      "  data_f0['intg_w_ToT'] = data_f0.loc[:,'t2'] - data_f0.loc[:,'t1']\n",
      "/volumedisk0/home/vherrero/PETALO_analysis/TOFPET_ToT_lib.py:128: UserWarning: Boolean Series key will be reindexed to match DataFrame index.\n",
      "  data_f1 = data_f0[sel]\n",
      "/volumedisk0/home/vherrero/PETALO_analysis/TOFPET_ToT_lib.py:120: SettingWithCopyWarning: \n",
      "A value is trying to be set on a copy of a slice from a DataFrame.\n",
      "Try using .loc[row_indexer,col_indexer] = value instead\n",
      "\n",
      "See the caveats in the documentation: https://pandas.pydata.org/pandas-docs/stable/user_guide/indexing.html#returning-a-view-versus-a-copy\n",
      "  data_f0['intg_w_ToT'] = data_f0.loc[:,'t2'] - data_f0.loc[:,'t1']\n",
      "/volumedisk0/home/vherrero/PETALO_analysis/TOFPET_ToT_lib.py:120: SettingWithCopyWarning: \n",
      "A value is trying to be set on a copy of a slice from a DataFrame.\n",
      "Try using .loc[row_indexer,col_indexer] = value instead\n",
      "\n",
      "See the caveats in the documentation: https://pandas.pydata.org/pandas-docs/stable/user_guide/indexing.html#returning-a-view-versus-a-copy\n",
      "  data_f0['intg_w_ToT'] = data_f0.loc[:,'t2'] - data_f0.loc[:,'t1']\n",
      "/volumedisk0/home/vherrero/PETALO_analysis/TOFPET_ToT_lib.py:120: SettingWithCopyWarning: \n",
      "A value is trying to be set on a copy of a slice from a DataFrame.\n",
      "Try using .loc[row_indexer,col_indexer] = value instead\n",
      "\n",
      "See the caveats in the documentation: https://pandas.pydata.org/pandas-docs/stable/user_guide/indexing.html#returning-a-view-versus-a-copy\n",
      "  data_f0['intg_w_ToT'] = data_f0.loc[:,'t2'] - data_f0.loc[:,'t1']\n",
      "/volumedisk0/home/vherrero/PETALO_analysis/TOFPET_ToT_lib.py:120: SettingWithCopyWarning: \n",
      "A value is trying to be set on a copy of a slice from a DataFrame.\n",
      "Try using .loc[row_indexer,col_indexer] = value instead\n",
      "\n",
      "See the caveats in the documentation: https://pandas.pydata.org/pandas-docs/stable/user_guide/indexing.html#returning-a-view-versus-a-copy\n",
      "  data_f0['intg_w_ToT'] = data_f0.loc[:,'t2'] - data_f0.loc[:,'t1']\n",
      "/volumedisk0/home/vherrero/PETALO_analysis/TOFPET_ToT_lib.py:120: SettingWithCopyWarning: \n",
      "A value is trying to be set on a copy of a slice from a DataFrame.\n",
      "Try using .loc[row_indexer,col_indexer] = value instead\n",
      "\n",
      "See the caveats in the documentation: https://pandas.pydata.org/pandas-docs/stable/user_guide/indexing.html#returning-a-view-versus-a-copy\n",
      "  data_f0['intg_w_ToT'] = data_f0.loc[:,'t2'] - data_f0.loc[:,'t1']\n",
      "/volumedisk0/home/vherrero/PETALO_analysis/TOFPET_ToT_lib.py:120: SettingWithCopyWarning: \n",
      "A value is trying to be set on a copy of a slice from a DataFrame.\n",
      "Try using .loc[row_indexer,col_indexer] = value instead\n",
      "\n",
      "See the caveats in the documentation: https://pandas.pydata.org/pandas-docs/stable/user_guide/indexing.html#returning-a-view-versus-a-copy\n",
      "  data_f0['intg_w_ToT'] = data_f0.loc[:,'t2'] - data_f0.loc[:,'t1']\n"
     ]
    },
    {
     "name": "stdout",
     "output_type": "stream",
     "text": [
      "File 16 | Chunk /data_103\n"
     ]
    },
    {
     "name": "stderr",
     "output_type": "stream",
     "text": [
      "/volumedisk0/home/vherrero/PETALO_analysis/TOFPET_ToT_lib.py:120: SettingWithCopyWarning: \n",
      "A value is trying to be set on a copy of a slice from a DataFrame.\n",
      "Try using .loc[row_indexer,col_indexer] = value instead\n",
      "\n",
      "See the caveats in the documentation: https://pandas.pydata.org/pandas-docs/stable/user_guide/indexing.html#returning-a-view-versus-a-copy\n",
      "  data_f0['intg_w_ToT'] = data_f0.loc[:,'t2'] - data_f0.loc[:,'t1']\n",
      "/volumedisk0/home/vherrero/PETALO_analysis/TOFPET_ToT_lib.py:120: SettingWithCopyWarning: \n",
      "A value is trying to be set on a copy of a slice from a DataFrame.\n",
      "Try using .loc[row_indexer,col_indexer] = value instead\n",
      "\n",
      "See the caveats in the documentation: https://pandas.pydata.org/pandas-docs/stable/user_guide/indexing.html#returning-a-view-versus-a-copy\n",
      "  data_f0['intg_w_ToT'] = data_f0.loc[:,'t2'] - data_f0.loc[:,'t1']\n",
      "/volumedisk0/home/vherrero/PETALO_analysis/TOFPET_ToT_lib.py:120: SettingWithCopyWarning: \n",
      "A value is trying to be set on a copy of a slice from a DataFrame.\n",
      "Try using .loc[row_indexer,col_indexer] = value instead\n",
      "\n",
      "See the caveats in the documentation: https://pandas.pydata.org/pandas-docs/stable/user_guide/indexing.html#returning-a-view-versus-a-copy\n",
      "  data_f0['intg_w_ToT'] = data_f0.loc[:,'t2'] - data_f0.loc[:,'t1']\n",
      "/volumedisk0/home/vherrero/PETALO_analysis/TOFPET_ToT_lib.py:128: UserWarning: Boolean Series key will be reindexed to match DataFrame index.\n",
      "  data_f1 = data_f0[sel]\n",
      "/volumedisk0/home/vherrero/PETALO_analysis/TOFPET_ToT_lib.py:120: SettingWithCopyWarning: \n",
      "A value is trying to be set on a copy of a slice from a DataFrame.\n",
      "Try using .loc[row_indexer,col_indexer] = value instead\n",
      "\n",
      "See the caveats in the documentation: https://pandas.pydata.org/pandas-docs/stable/user_guide/indexing.html#returning-a-view-versus-a-copy\n",
      "  data_f0['intg_w_ToT'] = data_f0.loc[:,'t2'] - data_f0.loc[:,'t1']\n"
     ]
    },
    {
     "name": "stdout",
     "output_type": "stream",
     "text": [
      "File 15 | Chunk /data_103\n"
     ]
    },
    {
     "name": "stderr",
     "output_type": "stream",
     "text": [
      "/volumedisk0/home/vherrero/PETALO_analysis/TOFPET_ToT_lib.py:128: UserWarning: Boolean Series key will be reindexed to match DataFrame index.\n",
      "  data_f1 = data_f0[sel]\n",
      "/volumedisk0/home/vherrero/PETALO_analysis/TOFPET_ToT_lib.py:128: UserWarning: Boolean Series key will be reindexed to match DataFrame index.\n",
      "  data_f1 = data_f0[sel]\n",
      "/volumedisk0/home/vherrero/PETALO_analysis/TOFPET_ToT_lib.py:128: UserWarning: Boolean Series key will be reindexed to match DataFrame index.\n",
      "  data_f1 = data_f0[sel]\n"
     ]
    },
    {
     "name": "stdout",
     "output_type": "stream",
     "text": [
      "File 6 | Chunk /data_103\n"
     ]
    },
    {
     "name": "stderr",
     "output_type": "stream",
     "text": [
      "/volumedisk0/home/vherrero/PETALO_analysis/TOFPET_ToT_lib.py:128: UserWarning: Boolean Series key will be reindexed to match DataFrame index.\n",
      "  data_f1 = data_f0[sel]\n"
     ]
    },
    {
     "name": "stdout",
     "output_type": "stream",
     "text": [
      "File 19 | Chunk /data_103\n",
      "File 7 | Chunk /data_103\n",
      "File 18 | Chunk /data_103\n"
     ]
    },
    {
     "name": "stderr",
     "output_type": "stream",
     "text": [
      "/volumedisk0/home/vherrero/PETALO_analysis/TOFPET_ToT_lib.py:128: UserWarning: Boolean Series key will be reindexed to match DataFrame index.\n",
      "  data_f1 = data_f0[sel]\n",
      "/volumedisk0/home/vherrero/PETALO_analysis/TOFPET_ToT_lib.py:128: UserWarning: Boolean Series key will be reindexed to match DataFrame index.\n",
      "  data_f1 = data_f0[sel]\n",
      "/volumedisk0/home/vherrero/PETALO_analysis/TOFPET_ToT_lib.py:128: UserWarning: Boolean Series key will be reindexed to match DataFrame index.\n",
      "  data_f1 = data_f0[sel]\n",
      "/volumedisk0/home/vherrero/PETALO_analysis/TOFPET_ToT_lib.py:128: UserWarning: Boolean Series key will be reindexed to match DataFrame index.\n",
      "  data_f1 = data_f0[sel]\n"
     ]
    },
    {
     "name": "stdout",
     "output_type": "stream",
     "text": [
      "File 13 | Chunk /data_103\n"
     ]
    },
    {
     "name": "stderr",
     "output_type": "stream",
     "text": [
      "/volumedisk0/home/vherrero/PETALO_analysis/TOFPET_ToT_lib.py:128: UserWarning: Boolean Series key will be reindexed to match DataFrame index.\n",
      "  data_f1 = data_f0[sel]\n"
     ]
    },
    {
     "name": "stdout",
     "output_type": "stream",
     "text": [
      "File 12 | Chunk /data_103\n",
      "File 5 | Chunk /data_103\n"
     ]
    },
    {
     "name": "stderr",
     "output_type": "stream",
     "text": [
      "/volumedisk0/home/vherrero/PETALO_analysis/TOFPET_ToT_lib.py:120: SettingWithCopyWarning: \n",
      "A value is trying to be set on a copy of a slice from a DataFrame.\n",
      "Try using .loc[row_indexer,col_indexer] = value instead\n",
      "\n",
      "See the caveats in the documentation: https://pandas.pydata.org/pandas-docs/stable/user_guide/indexing.html#returning-a-view-versus-a-copy\n",
      "  data_f0['intg_w_ToT'] = data_f0.loc[:,'t2'] - data_f0.loc[:,'t1']\n"
     ]
    },
    {
     "name": "stdout",
     "output_type": "stream",
     "text": [
      "File 11 | Chunk /data_103\n",
      "File 4 | Chunk /data_103\n"
     ]
    },
    {
     "name": "stderr",
     "output_type": "stream",
     "text": [
      "/volumedisk0/home/vherrero/PETALO_analysis/TOFPET_ToT_lib.py:120: SettingWithCopyWarning: \n",
      "A value is trying to be set on a copy of a slice from a DataFrame.\n",
      "Try using .loc[row_indexer,col_indexer] = value instead\n",
      "\n",
      "See the caveats in the documentation: https://pandas.pydata.org/pandas-docs/stable/user_guide/indexing.html#returning-a-view-versus-a-copy\n",
      "  data_f0['intg_w_ToT'] = data_f0.loc[:,'t2'] - data_f0.loc[:,'t1']\n",
      "/volumedisk0/home/vherrero/PETALO_analysis/TOFPET_ToT_lib.py:128: UserWarning: Boolean Series key will be reindexed to match DataFrame index.\n",
      "  data_f1 = data_f0[sel]\n",
      "/volumedisk0/home/vherrero/PETALO_analysis/TOFPET_ToT_lib.py:128: UserWarning: Boolean Series key will be reindexed to match DataFrame index.\n",
      "  data_f1 = data_f0[sel]\n",
      "/volumedisk0/home/vherrero/PETALO_analysis/TOFPET_ToT_lib.py:128: UserWarning: Boolean Series key will be reindexed to match DataFrame index.\n",
      "  data_f1 = data_f0[sel]\n",
      "/volumedisk0/home/vherrero/PETALO_analysis/TOFPET_ToT_lib.py:128: UserWarning: Boolean Series key will be reindexed to match DataFrame index.\n",
      "  data_f1 = data_f0[sel]\n",
      "/volumedisk0/home/vherrero/PETALO_analysis/TOFPET_ToT_lib.py:128: UserWarning: Boolean Series key will be reindexed to match DataFrame index.\n",
      "  data_f1 = data_f0[sel]\n",
      "/volumedisk0/home/vherrero/PETALO_analysis/TOFPET_ToT_lib.py:120: SettingWithCopyWarning: \n",
      "A value is trying to be set on a copy of a slice from a DataFrame.\n",
      "Try using .loc[row_indexer,col_indexer] = value instead\n",
      "\n",
      "See the caveats in the documentation: https://pandas.pydata.org/pandas-docs/stable/user_guide/indexing.html#returning-a-view-versus-a-copy\n",
      "  data_f0['intg_w_ToT'] = data_f0.loc[:,'t2'] - data_f0.loc[:,'t1']\n",
      "/volumedisk0/home/vherrero/PETALO_analysis/TOFPET_ToT_lib.py:128: UserWarning: Boolean Series key will be reindexed to match DataFrame index.\n",
      "  data_f1 = data_f0[sel]\n"
     ]
    },
    {
     "name": "stdout",
     "output_type": "stream",
     "text": [
      "File 14 | Chunk /data_103\n",
      "File 10 | Chunk /data_103\n",
      "File 8 | Chunk /data_103\n",
      "File 3 | Chunk /data_103\n",
      "File 17 | Chunk /data_103\n"
     ]
    },
    {
     "name": "stderr",
     "output_type": "stream",
     "text": [
      "/volumedisk0/home/vherrero/PETALO_analysis/TOFPET_ToT_lib.py:120: SettingWithCopyWarning: \n",
      "A value is trying to be set on a copy of a slice from a DataFrame.\n",
      "Try using .loc[row_indexer,col_indexer] = value instead\n",
      "\n",
      "See the caveats in the documentation: https://pandas.pydata.org/pandas-docs/stable/user_guide/indexing.html#returning-a-view-versus-a-copy\n",
      "  data_f0['intg_w_ToT'] = data_f0.loc[:,'t2'] - data_f0.loc[:,'t1']\n",
      "/volumedisk0/home/vherrero/PETALO_analysis/TOFPET_ToT_lib.py:128: UserWarning: Boolean Series key will be reindexed to match DataFrame index.\n",
      "  data_f1 = data_f0[sel]\n",
      "/volumedisk0/home/vherrero/PETALO_analysis/TOFPET_ToT_lib.py:120: SettingWithCopyWarning: \n",
      "A value is trying to be set on a copy of a slice from a DataFrame.\n",
      "Try using .loc[row_indexer,col_indexer] = value instead\n",
      "\n",
      "See the caveats in the documentation: https://pandas.pydata.org/pandas-docs/stable/user_guide/indexing.html#returning-a-view-versus-a-copy\n",
      "  data_f0['intg_w_ToT'] = data_f0.loc[:,'t2'] - data_f0.loc[:,'t1']\n"
     ]
    },
    {
     "name": "stdout",
     "output_type": "stream",
     "text": [
      "File 1 | Chunk /data_103\n"
     ]
    },
    {
     "name": "stderr",
     "output_type": "stream",
     "text": [
      "/volumedisk0/home/vherrero/PETALO_analysis/TOFPET_ToT_lib.py:128: UserWarning: Boolean Series key will be reindexed to match DataFrame index.\n",
      "  data_f1 = data_f0[sel]\n",
      "/volumedisk0/home/vherrero/PETALO_analysis/TOFPET_ToT_lib.py:128: UserWarning: Boolean Series key will be reindexed to match DataFrame index.\n",
      "  data_f1 = data_f0[sel]\n"
     ]
    },
    {
     "name": "stdout",
     "output_type": "stream",
     "text": [
      "File 9 | Chunk /data_104\n",
      "File 2 | Chunk /data_104\n",
      "File 0 | Chunk /data_104\n"
     ]
    },
    {
     "name": "stderr",
     "output_type": "stream",
     "text": [
      "/volumedisk0/home/vherrero/PETALO_analysis/TOFPET_ToT_lib.py:128: UserWarning: Boolean Series key will be reindexed to match DataFrame index.\n",
      "  data_f1 = data_f0[sel]\n"
     ]
    },
    {
     "name": "stdout",
     "output_type": "stream",
     "text": [
      "File 16 | Chunk /data_104\n"
     ]
    },
    {
     "name": "stderr",
     "output_type": "stream",
     "text": [
      "/volumedisk0/home/vherrero/PETALO_analysis/TOFPET_ToT_lib.py:120: SettingWithCopyWarning: \n",
      "A value is trying to be set on a copy of a slice from a DataFrame.\n",
      "Try using .loc[row_indexer,col_indexer] = value instead\n",
      "\n",
      "See the caveats in the documentation: https://pandas.pydata.org/pandas-docs/stable/user_guide/indexing.html#returning-a-view-versus-a-copy\n",
      "  data_f0['intg_w_ToT'] = data_f0.loc[:,'t2'] - data_f0.loc[:,'t1']\n",
      "/volumedisk0/home/vherrero/PETALO_analysis/TOFPET_ToT_lib.py:120: SettingWithCopyWarning: \n",
      "A value is trying to be set on a copy of a slice from a DataFrame.\n",
      "Try using .loc[row_indexer,col_indexer] = value instead\n",
      "\n",
      "See the caveats in the documentation: https://pandas.pydata.org/pandas-docs/stable/user_guide/indexing.html#returning-a-view-versus-a-copy\n",
      "  data_f0['intg_w_ToT'] = data_f0.loc[:,'t2'] - data_f0.loc[:,'t1']\n",
      "/volumedisk0/home/vherrero/PETALO_analysis/TOFPET_ToT_lib.py:120: SettingWithCopyWarning: \n",
      "A value is trying to be set on a copy of a slice from a DataFrame.\n",
      "Try using .loc[row_indexer,col_indexer] = value instead\n",
      "\n",
      "See the caveats in the documentation: https://pandas.pydata.org/pandas-docs/stable/user_guide/indexing.html#returning-a-view-versus-a-copy\n",
      "  data_f0['intg_w_ToT'] = data_f0.loc[:,'t2'] - data_f0.loc[:,'t1']\n",
      "/volumedisk0/home/vherrero/PETALO_analysis/TOFPET_ToT_lib.py:120: SettingWithCopyWarning: \n",
      "A value is trying to be set on a copy of a slice from a DataFrame.\n",
      "Try using .loc[row_indexer,col_indexer] = value instead\n",
      "\n",
      "See the caveats in the documentation: https://pandas.pydata.org/pandas-docs/stable/user_guide/indexing.html#returning-a-view-versus-a-copy\n",
      "  data_f0['intg_w_ToT'] = data_f0.loc[:,'t2'] - data_f0.loc[:,'t1']\n",
      "/volumedisk0/home/vherrero/PETALO_analysis/TOFPET_ToT_lib.py:120: SettingWithCopyWarning: \n",
      "A value is trying to be set on a copy of a slice from a DataFrame.\n",
      "Try using .loc[row_indexer,col_indexer] = value instead\n",
      "\n",
      "See the caveats in the documentation: https://pandas.pydata.org/pandas-docs/stable/user_guide/indexing.html#returning-a-view-versus-a-copy\n",
      "  data_f0['intg_w_ToT'] = data_f0.loc[:,'t2'] - data_f0.loc[:,'t1']\n",
      "/volumedisk0/home/vherrero/PETALO_analysis/TOFPET_ToT_lib.py:120: SettingWithCopyWarning: \n",
      "A value is trying to be set on a copy of a slice from a DataFrame.\n",
      "Try using .loc[row_indexer,col_indexer] = value instead\n",
      "\n",
      "See the caveats in the documentation: https://pandas.pydata.org/pandas-docs/stable/user_guide/indexing.html#returning-a-view-versus-a-copy\n",
      "  data_f0['intg_w_ToT'] = data_f0.loc[:,'t2'] - data_f0.loc[:,'t1']\n",
      "/volumedisk0/home/vherrero/PETALO_analysis/TOFPET_ToT_lib.py:120: SettingWithCopyWarning: \n",
      "A value is trying to be set on a copy of a slice from a DataFrame.\n",
      "Try using .loc[row_indexer,col_indexer] = value instead\n",
      "\n",
      "See the caveats in the documentation: https://pandas.pydata.org/pandas-docs/stable/user_guide/indexing.html#returning-a-view-versus-a-copy\n",
      "  data_f0['intg_w_ToT'] = data_f0.loc[:,'t2'] - data_f0.loc[:,'t1']\n",
      "/volumedisk0/home/vherrero/PETALO_analysis/TOFPET_ToT_lib.py:120: SettingWithCopyWarning: \n",
      "A value is trying to be set on a copy of a slice from a DataFrame.\n",
      "Try using .loc[row_indexer,col_indexer] = value instead\n",
      "\n",
      "See the caveats in the documentation: https://pandas.pydata.org/pandas-docs/stable/user_guide/indexing.html#returning-a-view-versus-a-copy\n",
      "  data_f0['intg_w_ToT'] = data_f0.loc[:,'t2'] - data_f0.loc[:,'t1']\n",
      "/volumedisk0/home/vherrero/PETALO_analysis/TOFPET_ToT_lib.py:120: SettingWithCopyWarning: \n",
      "A value is trying to be set on a copy of a slice from a DataFrame.\n",
      "Try using .loc[row_indexer,col_indexer] = value instead\n",
      "\n",
      "See the caveats in the documentation: https://pandas.pydata.org/pandas-docs/stable/user_guide/indexing.html#returning-a-view-versus-a-copy\n",
      "  data_f0['intg_w_ToT'] = data_f0.loc[:,'t2'] - data_f0.loc[:,'t1']\n",
      "/volumedisk0/home/vherrero/PETALO_analysis/TOFPET_ToT_lib.py:120: SettingWithCopyWarning: \n",
      "A value is trying to be set on a copy of a slice from a DataFrame.\n",
      "Try using .loc[row_indexer,col_indexer] = value instead\n",
      "\n",
      "See the caveats in the documentation: https://pandas.pydata.org/pandas-docs/stable/user_guide/indexing.html#returning-a-view-versus-a-copy\n",
      "  data_f0['intg_w_ToT'] = data_f0.loc[:,'t2'] - data_f0.loc[:,'t1']\n",
      "/volumedisk0/home/vherrero/PETALO_analysis/TOFPET_ToT_lib.py:120: SettingWithCopyWarning: \n",
      "A value is trying to be set on a copy of a slice from a DataFrame.\n",
      "Try using .loc[row_indexer,col_indexer] = value instead\n",
      "\n",
      "See the caveats in the documentation: https://pandas.pydata.org/pandas-docs/stable/user_guide/indexing.html#returning-a-view-versus-a-copy\n",
      "  data_f0['intg_w_ToT'] = data_f0.loc[:,'t2'] - data_f0.loc[:,'t1']\n",
      "/volumedisk0/home/vherrero/PETALO_analysis/TOFPET_ToT_lib.py:120: SettingWithCopyWarning: \n",
      "A value is trying to be set on a copy of a slice from a DataFrame.\n",
      "Try using .loc[row_indexer,col_indexer] = value instead\n",
      "\n",
      "See the caveats in the documentation: https://pandas.pydata.org/pandas-docs/stable/user_guide/indexing.html#returning-a-view-versus-a-copy\n",
      "  data_f0['intg_w_ToT'] = data_f0.loc[:,'t2'] - data_f0.loc[:,'t1']\n",
      "/volumedisk0/home/vherrero/PETALO_analysis/TOFPET_ToT_lib.py:120: SettingWithCopyWarning: \n",
      "A value is trying to be set on a copy of a slice from a DataFrame.\n",
      "Try using .loc[row_indexer,col_indexer] = value instead\n",
      "\n",
      "See the caveats in the documentation: https://pandas.pydata.org/pandas-docs/stable/user_guide/indexing.html#returning-a-view-versus-a-copy\n",
      "  data_f0['intg_w_ToT'] = data_f0.loc[:,'t2'] - data_f0.loc[:,'t1']\n",
      "/volumedisk0/home/vherrero/PETALO_analysis/TOFPET_ToT_lib.py:128: UserWarning: Boolean Series key will be reindexed to match DataFrame index.\n",
      "  data_f1 = data_f0[sel]\n",
      "/volumedisk0/home/vherrero/PETALO_analysis/TOFPET_ToT_lib.py:120: SettingWithCopyWarning: \n",
      "A value is trying to be set on a copy of a slice from a DataFrame.\n",
      "Try using .loc[row_indexer,col_indexer] = value instead\n",
      "\n",
      "See the caveats in the documentation: https://pandas.pydata.org/pandas-docs/stable/user_guide/indexing.html#returning-a-view-versus-a-copy\n",
      "  data_f0['intg_w_ToT'] = data_f0.loc[:,'t2'] - data_f0.loc[:,'t1']\n",
      "/volumedisk0/home/vherrero/PETALO_analysis/TOFPET_ToT_lib.py:128: UserWarning: Boolean Series key will be reindexed to match DataFrame index.\n",
      "  data_f1 = data_f0[sel]\n"
     ]
    },
    {
     "name": "stdout",
     "output_type": "stream",
     "text": [
      "File 15 | Chunk /data_104\n"
     ]
    },
    {
     "name": "stderr",
     "output_type": "stream",
     "text": [
      "/volumedisk0/home/vherrero/PETALO_analysis/TOFPET_ToT_lib.py:120: SettingWithCopyWarning: \n",
      "A value is trying to be set on a copy of a slice from a DataFrame.\n",
      "Try using .loc[row_indexer,col_indexer] = value instead\n",
      "\n",
      "See the caveats in the documentation: https://pandas.pydata.org/pandas-docs/stable/user_guide/indexing.html#returning-a-view-versus-a-copy\n",
      "  data_f0['intg_w_ToT'] = data_f0.loc[:,'t2'] - data_f0.loc[:,'t1']\n",
      "/volumedisk0/home/vherrero/PETALO_analysis/TOFPET_ToT_lib.py:128: UserWarning: Boolean Series key will be reindexed to match DataFrame index.\n",
      "  data_f1 = data_f0[sel]\n",
      "/volumedisk0/home/vherrero/PETALO_analysis/TOFPET_ToT_lib.py:128: UserWarning: Boolean Series key will be reindexed to match DataFrame index.\n",
      "  data_f1 = data_f0[sel]\n"
     ]
    },
    {
     "name": "stdout",
     "output_type": "stream",
     "text": [
      "File 6 | Chunk /data_104\n",
      "File 19 | Chunk /data_104\n"
     ]
    },
    {
     "name": "stderr",
     "output_type": "stream",
     "text": [
      "/volumedisk0/home/vherrero/PETALO_analysis/TOFPET_ToT_lib.py:128: UserWarning: Boolean Series key will be reindexed to match DataFrame index.\n",
      "  data_f1 = data_f0[sel]\n"
     ]
    },
    {
     "name": "stdout",
     "output_type": "stream",
     "text": [
      "File 18 | Chunk /data_104\n",
      "File 7 | Chunk /data_104\n"
     ]
    },
    {
     "name": "stderr",
     "output_type": "stream",
     "text": [
      "/volumedisk0/home/vherrero/PETALO_analysis/TOFPET_ToT_lib.py:120: SettingWithCopyWarning: \n",
      "A value is trying to be set on a copy of a slice from a DataFrame.\n",
      "Try using .loc[row_indexer,col_indexer] = value instead\n",
      "\n",
      "See the caveats in the documentation: https://pandas.pydata.org/pandas-docs/stable/user_guide/indexing.html#returning-a-view-versus-a-copy\n",
      "  data_f0['intg_w_ToT'] = data_f0.loc[:,'t2'] - data_f0.loc[:,'t1']\n",
      "/volumedisk0/home/vherrero/PETALO_analysis/TOFPET_ToT_lib.py:120: SettingWithCopyWarning: \n",
      "A value is trying to be set on a copy of a slice from a DataFrame.\n",
      "Try using .loc[row_indexer,col_indexer] = value instead\n",
      "\n",
      "See the caveats in the documentation: https://pandas.pydata.org/pandas-docs/stable/user_guide/indexing.html#returning-a-view-versus-a-copy\n",
      "  data_f0['intg_w_ToT'] = data_f0.loc[:,'t2'] - data_f0.loc[:,'t1']\n",
      "/volumedisk0/home/vherrero/PETALO_analysis/TOFPET_ToT_lib.py:120: SettingWithCopyWarning: \n",
      "A value is trying to be set on a copy of a slice from a DataFrame.\n",
      "Try using .loc[row_indexer,col_indexer] = value instead\n",
      "\n",
      "See the caveats in the documentation: https://pandas.pydata.org/pandas-docs/stable/user_guide/indexing.html#returning-a-view-versus-a-copy\n",
      "  data_f0['intg_w_ToT'] = data_f0.loc[:,'t2'] - data_f0.loc[:,'t1']\n",
      "/volumedisk0/home/vherrero/PETALO_analysis/TOFPET_ToT_lib.py:120: SettingWithCopyWarning: \n",
      "A value is trying to be set on a copy of a slice from a DataFrame.\n",
      "Try using .loc[row_indexer,col_indexer] = value instead\n",
      "\n",
      "See the caveats in the documentation: https://pandas.pydata.org/pandas-docs/stable/user_guide/indexing.html#returning-a-view-versus-a-copy\n",
      "  data_f0['intg_w_ToT'] = data_f0.loc[:,'t2'] - data_f0.loc[:,'t1']\n",
      "/volumedisk0/home/vherrero/PETALO_analysis/TOFPET_ToT_lib.py:120: SettingWithCopyWarning: \n",
      "A value is trying to be set on a copy of a slice from a DataFrame.\n",
      "Try using .loc[row_indexer,col_indexer] = value instead\n",
      "\n",
      "See the caveats in the documentation: https://pandas.pydata.org/pandas-docs/stable/user_guide/indexing.html#returning-a-view-versus-a-copy\n",
      "  data_f0['intg_w_ToT'] = data_f0.loc[:,'t2'] - data_f0.loc[:,'t1']\n",
      "/volumedisk0/home/vherrero/PETALO_analysis/TOFPET_ToT_lib.py:128: UserWarning: Boolean Series key will be reindexed to match DataFrame index.\n",
      "  data_f1 = data_f0[sel]\n",
      "/volumedisk0/home/vherrero/PETALO_analysis/TOFPET_ToT_lib.py:128: UserWarning: Boolean Series key will be reindexed to match DataFrame index.\n",
      "  data_f1 = data_f0[sel]\n",
      "/volumedisk0/home/vherrero/PETALO_analysis/TOFPET_ToT_lib.py:128: UserWarning: Boolean Series key will be reindexed to match DataFrame index.\n",
      "  data_f1 = data_f0[sel]\n",
      "/volumedisk0/home/vherrero/PETALO_analysis/TOFPET_ToT_lib.py:128: UserWarning: Boolean Series key will be reindexed to match DataFrame index.\n",
      "  data_f1 = data_f0[sel]\n",
      "/volumedisk0/home/vherrero/PETALO_analysis/TOFPET_ToT_lib.py:128: UserWarning: Boolean Series key will be reindexed to match DataFrame index.\n",
      "  data_f1 = data_f0[sel]\n"
     ]
    },
    {
     "name": "stdout",
     "output_type": "stream",
     "text": [
      "File 5 | Chunk /data_104\n"
     ]
    },
    {
     "name": "stderr",
     "output_type": "stream",
     "text": [
      "/volumedisk0/home/vherrero/PETALO_analysis/TOFPET_ToT_lib.py:128: UserWarning: Boolean Series key will be reindexed to match DataFrame index.\n",
      "  data_f1 = data_f0[sel]\n",
      "/volumedisk0/home/vherrero/PETALO_analysis/TOFPET_ToT_lib.py:128: UserWarning: Boolean Series key will be reindexed to match DataFrame index.\n",
      "  data_f1 = data_f0[sel]\n"
     ]
    },
    {
     "name": "stdout",
     "output_type": "stream",
     "text": [
      "File 14 | Chunk /data_104\n"
     ]
    },
    {
     "name": "stderr",
     "output_type": "stream",
     "text": [
      "/volumedisk0/home/vherrero/PETALO_analysis/TOFPET_ToT_lib.py:128: UserWarning: Boolean Series key will be reindexed to match DataFrame index.\n",
      "  data_f1 = data_f0[sel]\n"
     ]
    },
    {
     "name": "stdout",
     "output_type": "stream",
     "text": [
      "File 4 | Chunk /data_104\n"
     ]
    },
    {
     "name": "stderr",
     "output_type": "stream",
     "text": [
      "/volumedisk0/home/vherrero/PETALO_analysis/TOFPET_ToT_lib.py:128: UserWarning: Boolean Series key will be reindexed to match DataFrame index.\n",
      "  data_f1 = data_f0[sel]\n",
      "/volumedisk0/home/vherrero/PETALO_analysis/TOFPET_ToT_lib.py:128: UserWarning: Boolean Series key will be reindexed to match DataFrame index.\n",
      "  data_f1 = data_f0[sel]\n",
      "/volumedisk0/home/vherrero/PETALO_analysis/TOFPET_ToT_lib.py:128: UserWarning: Boolean Series key will be reindexed to match DataFrame index.\n",
      "  data_f1 = data_f0[sel]\n"
     ]
    },
    {
     "name": "stdout",
     "output_type": "stream",
     "text": [
      "File 8 | Chunk /data_104\n"
     ]
    },
    {
     "name": "stderr",
     "output_type": "stream",
     "text": [
      "/volumedisk0/home/vherrero/PETALO_analysis/TOFPET_ToT_lib.py:128: UserWarning: Boolean Series key will be reindexed to match DataFrame index.\n",
      "  data_f1 = data_f0[sel]\n"
     ]
    },
    {
     "name": "stdout",
     "output_type": "stream",
     "text": [
      "File 10 | Chunk /data_104\n",
      "File 3 | Chunk /data_104\n"
     ]
    },
    {
     "name": "stderr",
     "output_type": "stream",
     "text": [
      "/volumedisk0/home/vherrero/PETALO_analysis/TOFPET_ToT_lib.py:128: UserWarning: Boolean Series key will be reindexed to match DataFrame index.\n",
      "  data_f1 = data_f0[sel]\n"
     ]
    },
    {
     "name": "stdout",
     "output_type": "stream",
     "text": [
      "File 13 | Chunk /data_104\n",
      "File 12 | Chunk /data_104\n",
      "File 2 | Chunk /data_105\n",
      "File 17 | Chunk /data_104\n",
      "File 9 | Chunk /data_105\n",
      "File 1 | Chunk /data_104\n"
     ]
    },
    {
     "name": "stderr",
     "output_type": "stream",
     "text": [
      "/volumedisk0/home/vherrero/PETALO_analysis/TOFPET_ToT_lib.py:128: UserWarning: Boolean Series key will be reindexed to match DataFrame index.\n",
      "  data_f1 = data_f0[sel]\n"
     ]
    },
    {
     "name": "stdout",
     "output_type": "stream",
     "text": [
      "File 11 | Chunk /data_104\n"
     ]
    },
    {
     "name": "stderr",
     "output_type": "stream",
     "text": [
      "/volumedisk0/home/vherrero/PETALO_analysis/TOFPET_ToT_lib.py:128: UserWarning: Boolean Series key will be reindexed to match DataFrame index.\n",
      "  data_f1 = data_f0[sel]\n"
     ]
    },
    {
     "name": "stdout",
     "output_type": "stream",
     "text": [
      "File 0 | Chunk /data_105\n",
      "File 16 | Chunk /data_105\n"
     ]
    },
    {
     "name": "stderr",
     "output_type": "stream",
     "text": [
      "/volumedisk0/home/vherrero/PETALO_analysis/TOFPET_ToT_lib.py:120: SettingWithCopyWarning: \n",
      "A value is trying to be set on a copy of a slice from a DataFrame.\n",
      "Try using .loc[row_indexer,col_indexer] = value instead\n",
      "\n",
      "See the caveats in the documentation: https://pandas.pydata.org/pandas-docs/stable/user_guide/indexing.html#returning-a-view-versus-a-copy\n",
      "  data_f0['intg_w_ToT'] = data_f0.loc[:,'t2'] - data_f0.loc[:,'t1']\n",
      "/volumedisk0/home/vherrero/PETALO_analysis/TOFPET_ToT_lib.py:120: SettingWithCopyWarning: \n",
      "A value is trying to be set on a copy of a slice from a DataFrame.\n",
      "Try using .loc[row_indexer,col_indexer] = value instead\n",
      "\n",
      "See the caveats in the documentation: https://pandas.pydata.org/pandas-docs/stable/user_guide/indexing.html#returning-a-view-versus-a-copy\n",
      "  data_f0['intg_w_ToT'] = data_f0.loc[:,'t2'] - data_f0.loc[:,'t1']\n",
      "/volumedisk0/home/vherrero/PETALO_analysis/TOFPET_ToT_lib.py:120: SettingWithCopyWarning: \n",
      "A value is trying to be set on a copy of a slice from a DataFrame.\n",
      "Try using .loc[row_indexer,col_indexer] = value instead\n",
      "\n",
      "See the caveats in the documentation: https://pandas.pydata.org/pandas-docs/stable/user_guide/indexing.html#returning-a-view-versus-a-copy\n",
      "  data_f0['intg_w_ToT'] = data_f0.loc[:,'t2'] - data_f0.loc[:,'t1']\n",
      "/volumedisk0/home/vherrero/PETALO_analysis/TOFPET_ToT_lib.py:120: SettingWithCopyWarning: \n",
      "A value is trying to be set on a copy of a slice from a DataFrame.\n",
      "Try using .loc[row_indexer,col_indexer] = value instead\n",
      "\n",
      "See the caveats in the documentation: https://pandas.pydata.org/pandas-docs/stable/user_guide/indexing.html#returning-a-view-versus-a-copy\n",
      "  data_f0['intg_w_ToT'] = data_f0.loc[:,'t2'] - data_f0.loc[:,'t1']\n",
      "/volumedisk0/home/vherrero/PETALO_analysis/TOFPET_ToT_lib.py:120: SettingWithCopyWarning: \n",
      "A value is trying to be set on a copy of a slice from a DataFrame.\n",
      "Try using .loc[row_indexer,col_indexer] = value instead\n",
      "\n",
      "See the caveats in the documentation: https://pandas.pydata.org/pandas-docs/stable/user_guide/indexing.html#returning-a-view-versus-a-copy\n",
      "  data_f0['intg_w_ToT'] = data_f0.loc[:,'t2'] - data_f0.loc[:,'t1']\n",
      "/volumedisk0/home/vherrero/PETALO_analysis/TOFPET_ToT_lib.py:120: SettingWithCopyWarning: \n",
      "A value is trying to be set on a copy of a slice from a DataFrame.\n",
      "Try using .loc[row_indexer,col_indexer] = value instead\n",
      "\n",
      "See the caveats in the documentation: https://pandas.pydata.org/pandas-docs/stable/user_guide/indexing.html#returning-a-view-versus-a-copy\n",
      "  data_f0['intg_w_ToT'] = data_f0.loc[:,'t2'] - data_f0.loc[:,'t1']\n",
      "/volumedisk0/home/vherrero/PETALO_analysis/TOFPET_ToT_lib.py:128: UserWarning: Boolean Series key will be reindexed to match DataFrame index.\n",
      "  data_f1 = data_f0[sel]\n",
      "/volumedisk0/home/vherrero/PETALO_analysis/TOFPET_ToT_lib.py:120: SettingWithCopyWarning: \n",
      "A value is trying to be set on a copy of a slice from a DataFrame.\n",
      "Try using .loc[row_indexer,col_indexer] = value instead\n",
      "\n",
      "See the caveats in the documentation: https://pandas.pydata.org/pandas-docs/stable/user_guide/indexing.html#returning-a-view-versus-a-copy\n",
      "  data_f0['intg_w_ToT'] = data_f0.loc[:,'t2'] - data_f0.loc[:,'t1']\n",
      "/volumedisk0/home/vherrero/PETALO_analysis/TOFPET_ToT_lib.py:128: UserWarning: Boolean Series key will be reindexed to match DataFrame index.\n",
      "  data_f1 = data_f0[sel]\n",
      "/volumedisk0/home/vherrero/PETALO_analysis/TOFPET_ToT_lib.py:120: SettingWithCopyWarning: \n",
      "A value is trying to be set on a copy of a slice from a DataFrame.\n",
      "Try using .loc[row_indexer,col_indexer] = value instead\n",
      "\n",
      "See the caveats in the documentation: https://pandas.pydata.org/pandas-docs/stable/user_guide/indexing.html#returning-a-view-versus-a-copy\n",
      "  data_f0['intg_w_ToT'] = data_f0.loc[:,'t2'] - data_f0.loc[:,'t1']\n"
     ]
    },
    {
     "name": "stdout",
     "output_type": "stream",
     "text": [
      "File 15 | Chunk /data_105\n"
     ]
    },
    {
     "name": "stderr",
     "output_type": "stream",
     "text": [
      "/volumedisk0/home/vherrero/PETALO_analysis/TOFPET_ToT_lib.py:120: SettingWithCopyWarning: \n",
      "A value is trying to be set on a copy of a slice from a DataFrame.\n",
      "Try using .loc[row_indexer,col_indexer] = value instead\n",
      "\n",
      "See the caveats in the documentation: https://pandas.pydata.org/pandas-docs/stable/user_guide/indexing.html#returning-a-view-versus-a-copy\n",
      "  data_f0['intg_w_ToT'] = data_f0.loc[:,'t2'] - data_f0.loc[:,'t1']\n",
      "/volumedisk0/home/vherrero/PETALO_analysis/TOFPET_ToT_lib.py:120: SettingWithCopyWarning: \n",
      "A value is trying to be set on a copy of a slice from a DataFrame.\n",
      "Try using .loc[row_indexer,col_indexer] = value instead\n",
      "\n",
      "See the caveats in the documentation: https://pandas.pydata.org/pandas-docs/stable/user_guide/indexing.html#returning-a-view-versus-a-copy\n",
      "  data_f0['intg_w_ToT'] = data_f0.loc[:,'t2'] - data_f0.loc[:,'t1']\n",
      "/volumedisk0/home/vherrero/PETALO_analysis/TOFPET_ToT_lib.py:120: SettingWithCopyWarning: \n",
      "A value is trying to be set on a copy of a slice from a DataFrame.\n",
      "Try using .loc[row_indexer,col_indexer] = value instead\n",
      "\n",
      "See the caveats in the documentation: https://pandas.pydata.org/pandas-docs/stable/user_guide/indexing.html#returning-a-view-versus-a-copy\n",
      "  data_f0['intg_w_ToT'] = data_f0.loc[:,'t2'] - data_f0.loc[:,'t1']\n"
     ]
    },
    {
     "name": "stdout",
     "output_type": "stream",
     "text": [
      "File 6 | Chunk /data_105\n"
     ]
    },
    {
     "name": "stderr",
     "output_type": "stream",
     "text": [
      "/volumedisk0/home/vherrero/PETALO_analysis/TOFPET_ToT_lib.py:128: UserWarning: Boolean Series key will be reindexed to match DataFrame index.\n",
      "  data_f1 = data_f0[sel]\n",
      "/volumedisk0/home/vherrero/PETALO_analysis/TOFPET_ToT_lib.py:120: SettingWithCopyWarning: \n",
      "A value is trying to be set on a copy of a slice from a DataFrame.\n",
      "Try using .loc[row_indexer,col_indexer] = value instead\n",
      "\n",
      "See the caveats in the documentation: https://pandas.pydata.org/pandas-docs/stable/user_guide/indexing.html#returning-a-view-versus-a-copy\n",
      "  data_f0['intg_w_ToT'] = data_f0.loc[:,'t2'] - data_f0.loc[:,'t1']\n",
      "/volumedisk0/home/vherrero/PETALO_analysis/TOFPET_ToT_lib.py:120: SettingWithCopyWarning: \n",
      "A value is trying to be set on a copy of a slice from a DataFrame.\n",
      "Try using .loc[row_indexer,col_indexer] = value instead\n",
      "\n",
      "See the caveats in the documentation: https://pandas.pydata.org/pandas-docs/stable/user_guide/indexing.html#returning-a-view-versus-a-copy\n",
      "  data_f0['intg_w_ToT'] = data_f0.loc[:,'t2'] - data_f0.loc[:,'t1']\n",
      "/volumedisk0/home/vherrero/PETALO_analysis/TOFPET_ToT_lib.py:120: SettingWithCopyWarning: \n",
      "A value is trying to be set on a copy of a slice from a DataFrame.\n",
      "Try using .loc[row_indexer,col_indexer] = value instead\n",
      "\n",
      "See the caveats in the documentation: https://pandas.pydata.org/pandas-docs/stable/user_guide/indexing.html#returning-a-view-versus-a-copy\n",
      "  data_f0['intg_w_ToT'] = data_f0.loc[:,'t2'] - data_f0.loc[:,'t1']\n",
      "/volumedisk0/home/vherrero/PETALO_analysis/TOFPET_ToT_lib.py:128: UserWarning: Boolean Series key will be reindexed to match DataFrame index.\n",
      "  data_f1 = data_f0[sel]\n"
     ]
    },
    {
     "name": "stdout",
     "output_type": "stream",
     "text": [
      "File 19 | Chunk /data_105\n"
     ]
    },
    {
     "name": "stderr",
     "output_type": "stream",
     "text": [
      "/volumedisk0/home/vherrero/PETALO_analysis/TOFPET_ToT_lib.py:128: UserWarning: Boolean Series key will be reindexed to match DataFrame index.\n",
      "  data_f1 = data_f0[sel]\n",
      "/volumedisk0/home/vherrero/PETALO_analysis/TOFPET_ToT_lib.py:120: SettingWithCopyWarning: \n",
      "A value is trying to be set on a copy of a slice from a DataFrame.\n",
      "Try using .loc[row_indexer,col_indexer] = value instead\n",
      "\n",
      "See the caveats in the documentation: https://pandas.pydata.org/pandas-docs/stable/user_guide/indexing.html#returning-a-view-versus-a-copy\n",
      "  data_f0['intg_w_ToT'] = data_f0.loc[:,'t2'] - data_f0.loc[:,'t1']\n"
     ]
    },
    {
     "name": "stdout",
     "output_type": "stream",
     "text": [
      "File 7 | Chunk /data_105\n",
      "File 18 | Chunk /data_105\n"
     ]
    },
    {
     "name": "stderr",
     "output_type": "stream",
     "text": [
      "/volumedisk0/home/vherrero/PETALO_analysis/TOFPET_ToT_lib.py:120: SettingWithCopyWarning: \n",
      "A value is trying to be set on a copy of a slice from a DataFrame.\n",
      "Try using .loc[row_indexer,col_indexer] = value instead\n",
      "\n",
      "See the caveats in the documentation: https://pandas.pydata.org/pandas-docs/stable/user_guide/indexing.html#returning-a-view-versus-a-copy\n",
      "  data_f0['intg_w_ToT'] = data_f0.loc[:,'t2'] - data_f0.loc[:,'t1']\n",
      "/volumedisk0/home/vherrero/PETALO_analysis/TOFPET_ToT_lib.py:120: SettingWithCopyWarning: \n",
      "A value is trying to be set on a copy of a slice from a DataFrame.\n",
      "Try using .loc[row_indexer,col_indexer] = value instead\n",
      "\n",
      "See the caveats in the documentation: https://pandas.pydata.org/pandas-docs/stable/user_guide/indexing.html#returning-a-view-versus-a-copy\n",
      "  data_f0['intg_w_ToT'] = data_f0.loc[:,'t2'] - data_f0.loc[:,'t1']\n",
      "/volumedisk0/home/vherrero/PETALO_analysis/TOFPET_ToT_lib.py:120: SettingWithCopyWarning: \n",
      "A value is trying to be set on a copy of a slice from a DataFrame.\n",
      "Try using .loc[row_indexer,col_indexer] = value instead\n",
      "\n",
      "See the caveats in the documentation: https://pandas.pydata.org/pandas-docs/stable/user_guide/indexing.html#returning-a-view-versus-a-copy\n",
      "  data_f0['intg_w_ToT'] = data_f0.loc[:,'t2'] - data_f0.loc[:,'t1']\n",
      "/volumedisk0/home/vherrero/PETALO_analysis/TOFPET_ToT_lib.py:120: SettingWithCopyWarning: \n",
      "A value is trying to be set on a copy of a slice from a DataFrame.\n",
      "Try using .loc[row_indexer,col_indexer] = value instead\n",
      "\n",
      "See the caveats in the documentation: https://pandas.pydata.org/pandas-docs/stable/user_guide/indexing.html#returning-a-view-versus-a-copy\n",
      "  data_f0['intg_w_ToT'] = data_f0.loc[:,'t2'] - data_f0.loc[:,'t1']\n",
      "/volumedisk0/home/vherrero/PETALO_analysis/TOFPET_ToT_lib.py:120: SettingWithCopyWarning: \n",
      "A value is trying to be set on a copy of a slice from a DataFrame.\n",
      "Try using .loc[row_indexer,col_indexer] = value instead\n",
      "\n",
      "See the caveats in the documentation: https://pandas.pydata.org/pandas-docs/stable/user_guide/indexing.html#returning-a-view-versus-a-copy\n",
      "  data_f0['intg_w_ToT'] = data_f0.loc[:,'t2'] - data_f0.loc[:,'t1']\n",
      "/volumedisk0/home/vherrero/PETALO_analysis/TOFPET_ToT_lib.py:128: UserWarning: Boolean Series key will be reindexed to match DataFrame index.\n",
      "  data_f1 = data_f0[sel]\n"
     ]
    },
    {
     "name": "stdout",
     "output_type": "stream",
     "text": [
      "File 14 | Chunk /data_105\n"
     ]
    },
    {
     "name": "stderr",
     "output_type": "stream",
     "text": [
      "/volumedisk0/home/vherrero/PETALO_analysis/TOFPET_ToT_lib.py:128: UserWarning: Boolean Series key will be reindexed to match DataFrame index.\n",
      "  data_f1 = data_f0[sel]\n",
      "/volumedisk0/home/vherrero/PETALO_analysis/TOFPET_ToT_lib.py:128: UserWarning: Boolean Series key will be reindexed to match DataFrame index.\n",
      "  data_f1 = data_f0[sel]\n",
      "/volumedisk0/home/vherrero/PETALO_analysis/TOFPET_ToT_lib.py:128: UserWarning: Boolean Series key will be reindexed to match DataFrame index.\n",
      "  data_f1 = data_f0[sel]\n",
      "/volumedisk0/home/vherrero/PETALO_analysis/TOFPET_ToT_lib.py:128: UserWarning: Boolean Series key will be reindexed to match DataFrame index.\n",
      "  data_f1 = data_f0[sel]\n"
     ]
    },
    {
     "name": "stdout",
     "output_type": "stream",
     "text": [
      "File 4 | Chunk /data_105\n"
     ]
    },
    {
     "name": "stderr",
     "output_type": "stream",
     "text": [
      "/volumedisk0/home/vherrero/PETALO_analysis/TOFPET_ToT_lib.py:128: UserWarning: Boolean Series key will be reindexed to match DataFrame index.\n",
      "  data_f1 = data_f0[sel]\n"
     ]
    },
    {
     "name": "stdout",
     "output_type": "stream",
     "text": [
      "File 8 | Chunk /data_105\n"
     ]
    },
    {
     "name": "stderr",
     "output_type": "stream",
     "text": [
      "/volumedisk0/home/vherrero/PETALO_analysis/TOFPET_ToT_lib.py:128: UserWarning: Boolean Series key will be reindexed to match DataFrame index.\n",
      "  data_f1 = data_f0[sel]\n"
     ]
    },
    {
     "name": "stdout",
     "output_type": "stream",
     "text": [
      "File 17 | Chunk /data_105\n",
      "File 10 | Chunk /data_105\n",
      "File 5 | Chunk /data_105\n"
     ]
    },
    {
     "name": "stderr",
     "output_type": "stream",
     "text": [
      "/volumedisk0/home/vherrero/PETALO_analysis/TOFPET_ToT_lib.py:128: UserWarning: Boolean Series key will be reindexed to match DataFrame index.\n",
      "  data_f1 = data_f0[sel]\n",
      "/volumedisk0/home/vherrero/PETALO_analysis/TOFPET_ToT_lib.py:128: UserWarning: Boolean Series key will be reindexed to match DataFrame index.\n",
      "  data_f1 = data_f0[sel]\n",
      "/volumedisk0/home/vherrero/PETALO_analysis/TOFPET_ToT_lib.py:128: UserWarning: Boolean Series key will be reindexed to match DataFrame index.\n",
      "  data_f1 = data_f0[sel]\n"
     ]
    },
    {
     "name": "stdout",
     "output_type": "stream",
     "text": [
      "File 13 | Chunk /data_105\n"
     ]
    },
    {
     "name": "stderr",
     "output_type": "stream",
     "text": [
      "/volumedisk0/home/vherrero/PETALO_analysis/TOFPET_ToT_lib.py:128: UserWarning: Boolean Series key will be reindexed to match DataFrame index.\n",
      "  data_f1 = data_f0[sel]\n"
     ]
    },
    {
     "name": "stdout",
     "output_type": "stream",
     "text": [
      "File 3 | Chunk /data_105\n",
      "File 12 | Chunk /data_105\n"
     ]
    },
    {
     "name": "stderr",
     "output_type": "stream",
     "text": [
      "/volumedisk0/home/vherrero/PETALO_analysis/TOFPET_ToT_lib.py:128: UserWarning: Boolean Series key will be reindexed to match DataFrame index.\n",
      "  data_f1 = data_f0[sel]\n"
     ]
    },
    {
     "name": "stdout",
     "output_type": "stream",
     "text": [
      "File 2 | Chunk /data_106\n"
     ]
    },
    {
     "name": "stderr",
     "output_type": "stream",
     "text": [
      "/volumedisk0/home/vherrero/PETALO_analysis/TOFPET_ToT_lib.py:128: UserWarning: Boolean Series key will be reindexed to match DataFrame index.\n",
      "  data_f1 = data_f0[sel]\n",
      "/volumedisk0/home/vherrero/PETALO_analysis/TOFPET_ToT_lib.py:128: UserWarning: Boolean Series key will be reindexed to match DataFrame index.\n",
      "  data_f1 = data_f0[sel]\n"
     ]
    },
    {
     "name": "stdout",
     "output_type": "stream",
     "text": [
      "File 9 | Chunk /data_106\n"
     ]
    },
    {
     "name": "stderr",
     "output_type": "stream",
     "text": [
      "/volumedisk0/home/vherrero/PETALO_analysis/TOFPET_ToT_lib.py:128: UserWarning: Boolean Series key will be reindexed to match DataFrame index.\n",
      "  data_f1 = data_f0[sel]\n"
     ]
    },
    {
     "name": "stdout",
     "output_type": "stream",
     "text": [
      "File 11 | Chunk /data_105\n",
      "File 1 | Chunk /data_105\n"
     ]
    },
    {
     "name": "stderr",
     "output_type": "stream",
     "text": [
      "/volumedisk0/home/vherrero/PETALO_analysis/TOFPET_ToT_lib.py:120: SettingWithCopyWarning: \n",
      "A value is trying to be set on a copy of a slice from a DataFrame.\n",
      "Try using .loc[row_indexer,col_indexer] = value instead\n",
      "\n",
      "See the caveats in the documentation: https://pandas.pydata.org/pandas-docs/stable/user_guide/indexing.html#returning-a-view-versus-a-copy\n",
      "  data_f0['intg_w_ToT'] = data_f0.loc[:,'t2'] - data_f0.loc[:,'t1']\n"
     ]
    },
    {
     "name": "stdout",
     "output_type": "stream",
     "text": [
      "File 16 | Chunk /data_106\n",
      "File 0 | Chunk /data_106\n"
     ]
    },
    {
     "name": "stderr",
     "output_type": "stream",
     "text": [
      "/volumedisk0/home/vherrero/PETALO_analysis/TOFPET_ToT_lib.py:120: SettingWithCopyWarning: \n",
      "A value is trying to be set on a copy of a slice from a DataFrame.\n",
      "Try using .loc[row_indexer,col_indexer] = value instead\n",
      "\n",
      "See the caveats in the documentation: https://pandas.pydata.org/pandas-docs/stable/user_guide/indexing.html#returning-a-view-versus-a-copy\n",
      "  data_f0['intg_w_ToT'] = data_f0.loc[:,'t2'] - data_f0.loc[:,'t1']\n",
      "/volumedisk0/home/vherrero/PETALO_analysis/TOFPET_ToT_lib.py:120: SettingWithCopyWarning: \n",
      "A value is trying to be set on a copy of a slice from a DataFrame.\n",
      "Try using .loc[row_indexer,col_indexer] = value instead\n",
      "\n",
      "See the caveats in the documentation: https://pandas.pydata.org/pandas-docs/stable/user_guide/indexing.html#returning-a-view-versus-a-copy\n",
      "  data_f0['intg_w_ToT'] = data_f0.loc[:,'t2'] - data_f0.loc[:,'t1']\n",
      "/volumedisk0/home/vherrero/PETALO_analysis/TOFPET_ToT_lib.py:128: UserWarning: Boolean Series key will be reindexed to match DataFrame index.\n",
      "  data_f1 = data_f0[sel]\n",
      "/volumedisk0/home/vherrero/PETALO_analysis/TOFPET_ToT_lib.py:128: UserWarning: Boolean Series key will be reindexed to match DataFrame index.\n",
      "  data_f1 = data_f0[sel]\n",
      "/volumedisk0/home/vherrero/PETALO_analysis/TOFPET_ToT_lib.py:120: SettingWithCopyWarning: \n",
      "A value is trying to be set on a copy of a slice from a DataFrame.\n",
      "Try using .loc[row_indexer,col_indexer] = value instead\n",
      "\n",
      "See the caveats in the documentation: https://pandas.pydata.org/pandas-docs/stable/user_guide/indexing.html#returning-a-view-versus-a-copy\n",
      "  data_f0['intg_w_ToT'] = data_f0.loc[:,'t2'] - data_f0.loc[:,'t1']\n",
      "/volumedisk0/home/vherrero/PETALO_analysis/TOFPET_ToT_lib.py:120: SettingWithCopyWarning: \n",
      "A value is trying to be set on a copy of a slice from a DataFrame.\n",
      "Try using .loc[row_indexer,col_indexer] = value instead\n",
      "\n",
      "See the caveats in the documentation: https://pandas.pydata.org/pandas-docs/stable/user_guide/indexing.html#returning-a-view-versus-a-copy\n",
      "  data_f0['intg_w_ToT'] = data_f0.loc[:,'t2'] - data_f0.loc[:,'t1']\n"
     ]
    },
    {
     "name": "stdout",
     "output_type": "stream",
     "text": [
      "File 6 | Chunk /data_106\n"
     ]
    },
    {
     "name": "stderr",
     "output_type": "stream",
     "text": [
      "/volumedisk0/home/vherrero/PETALO_analysis/TOFPET_ToT_lib.py:120: SettingWithCopyWarning: \n",
      "A value is trying to be set on a copy of a slice from a DataFrame.\n",
      "Try using .loc[row_indexer,col_indexer] = value instead\n",
      "\n",
      "See the caveats in the documentation: https://pandas.pydata.org/pandas-docs/stable/user_guide/indexing.html#returning-a-view-versus-a-copy\n",
      "  data_f0['intg_w_ToT'] = data_f0.loc[:,'t2'] - data_f0.loc[:,'t1']\n",
      "/volumedisk0/home/vherrero/PETALO_analysis/TOFPET_ToT_lib.py:128: UserWarning: Boolean Series key will be reindexed to match DataFrame index.\n",
      "  data_f1 = data_f0[sel]\n"
     ]
    },
    {
     "name": "stdout",
     "output_type": "stream",
     "text": [
      "File 15 | Chunk /data_106\n"
     ]
    },
    {
     "name": "stderr",
     "output_type": "stream",
     "text": [
      "/volumedisk0/home/vherrero/PETALO_analysis/TOFPET_ToT_lib.py:120: SettingWithCopyWarning: \n",
      "A value is trying to be set on a copy of a slice from a DataFrame.\n",
      "Try using .loc[row_indexer,col_indexer] = value instead\n",
      "\n",
      "See the caveats in the documentation: https://pandas.pydata.org/pandas-docs/stable/user_guide/indexing.html#returning-a-view-versus-a-copy\n",
      "  data_f0['intg_w_ToT'] = data_f0.loc[:,'t2'] - data_f0.loc[:,'t1']\n",
      "/volumedisk0/home/vherrero/PETALO_analysis/TOFPET_ToT_lib.py:120: SettingWithCopyWarning: \n",
      "A value is trying to be set on a copy of a slice from a DataFrame.\n",
      "Try using .loc[row_indexer,col_indexer] = value instead\n",
      "\n",
      "See the caveats in the documentation: https://pandas.pydata.org/pandas-docs/stable/user_guide/indexing.html#returning-a-view-versus-a-copy\n",
      "  data_f0['intg_w_ToT'] = data_f0.loc[:,'t2'] - data_f0.loc[:,'t1']\n",
      "/volumedisk0/home/vherrero/PETALO_analysis/TOFPET_ToT_lib.py:120: SettingWithCopyWarning: \n",
      "A value is trying to be set on a copy of a slice from a DataFrame.\n",
      "Try using .loc[row_indexer,col_indexer] = value instead\n",
      "\n",
      "See the caveats in the documentation: https://pandas.pydata.org/pandas-docs/stable/user_guide/indexing.html#returning-a-view-versus-a-copy\n",
      "  data_f0['intg_w_ToT'] = data_f0.loc[:,'t2'] - data_f0.loc[:,'t1']\n",
      "/volumedisk0/home/vherrero/PETALO_analysis/TOFPET_ToT_lib.py:128: UserWarning: Boolean Series key will be reindexed to match DataFrame index.\n",
      "  data_f1 = data_f0[sel]\n"
     ]
    },
    {
     "name": "stdout",
     "output_type": "stream",
     "text": [
      "File 19 | Chunk /data_106\n"
     ]
    },
    {
     "name": "stderr",
     "output_type": "stream",
     "text": [
      "/volumedisk0/home/vherrero/PETALO_analysis/TOFPET_ToT_lib.py:128: UserWarning: Boolean Series key will be reindexed to match DataFrame index.\n",
      "  data_f1 = data_f0[sel]\n",
      "/volumedisk0/home/vherrero/PETALO_analysis/TOFPET_ToT_lib.py:120: SettingWithCopyWarning: \n",
      "A value is trying to be set on a copy of a slice from a DataFrame.\n",
      "Try using .loc[row_indexer,col_indexer] = value instead\n",
      "\n",
      "See the caveats in the documentation: https://pandas.pydata.org/pandas-docs/stable/user_guide/indexing.html#returning-a-view-versus-a-copy\n",
      "  data_f0['intg_w_ToT'] = data_f0.loc[:,'t2'] - data_f0.loc[:,'t1']\n",
      "/volumedisk0/home/vherrero/PETALO_analysis/TOFPET_ToT_lib.py:120: SettingWithCopyWarning: \n",
      "A value is trying to be set on a copy of a slice from a DataFrame.\n",
      "Try using .loc[row_indexer,col_indexer] = value instead\n",
      "\n",
      "See the caveats in the documentation: https://pandas.pydata.org/pandas-docs/stable/user_guide/indexing.html#returning-a-view-versus-a-copy\n",
      "  data_f0['intg_w_ToT'] = data_f0.loc[:,'t2'] - data_f0.loc[:,'t1']\n",
      "/volumedisk0/home/vherrero/PETALO_analysis/TOFPET_ToT_lib.py:120: SettingWithCopyWarning: \n",
      "A value is trying to be set on a copy of a slice from a DataFrame.\n",
      "Try using .loc[row_indexer,col_indexer] = value instead\n",
      "\n",
      "See the caveats in the documentation: https://pandas.pydata.org/pandas-docs/stable/user_guide/indexing.html#returning-a-view-versus-a-copy\n",
      "  data_f0['intg_w_ToT'] = data_f0.loc[:,'t2'] - data_f0.loc[:,'t1']\n",
      "/volumedisk0/home/vherrero/PETALO_analysis/TOFPET_ToT_lib.py:120: SettingWithCopyWarning: \n",
      "A value is trying to be set on a copy of a slice from a DataFrame.\n",
      "Try using .loc[row_indexer,col_indexer] = value instead\n",
      "\n",
      "See the caveats in the documentation: https://pandas.pydata.org/pandas-docs/stable/user_guide/indexing.html#returning-a-view-versus-a-copy\n",
      "  data_f0['intg_w_ToT'] = data_f0.loc[:,'t2'] - data_f0.loc[:,'t1']\n"
     ]
    },
    {
     "name": "stdout",
     "output_type": "stream",
     "text": [
      "File 18 | Chunk /data_106\n"
     ]
    },
    {
     "name": "stderr",
     "output_type": "stream",
     "text": [
      "/volumedisk0/home/vherrero/PETALO_analysis/TOFPET_ToT_lib.py:120: SettingWithCopyWarning: \n",
      "A value is trying to be set on a copy of a slice from a DataFrame.\n",
      "Try using .loc[row_indexer,col_indexer] = value instead\n",
      "\n",
      "See the caveats in the documentation: https://pandas.pydata.org/pandas-docs/stable/user_guide/indexing.html#returning-a-view-versus-a-copy\n",
      "  data_f0['intg_w_ToT'] = data_f0.loc[:,'t2'] - data_f0.loc[:,'t1']\n"
     ]
    },
    {
     "name": "stdout",
     "output_type": "stream",
     "text": [
      "File 7 | Chunk /data_106\n"
     ]
    },
    {
     "name": "stderr",
     "output_type": "stream",
     "text": [
      "/volumedisk0/home/vherrero/PETALO_analysis/TOFPET_ToT_lib.py:120: SettingWithCopyWarning: \n",
      "A value is trying to be set on a copy of a slice from a DataFrame.\n",
      "Try using .loc[row_indexer,col_indexer] = value instead\n",
      "\n",
      "See the caveats in the documentation: https://pandas.pydata.org/pandas-docs/stable/user_guide/indexing.html#returning-a-view-versus-a-copy\n",
      "  data_f0['intg_w_ToT'] = data_f0.loc[:,'t2'] - data_f0.loc[:,'t1']\n",
      "/volumedisk0/home/vherrero/PETALO_analysis/TOFPET_ToT_lib.py:120: SettingWithCopyWarning: \n",
      "A value is trying to be set on a copy of a slice from a DataFrame.\n",
      "Try using .loc[row_indexer,col_indexer] = value instead\n",
      "\n",
      "See the caveats in the documentation: https://pandas.pydata.org/pandas-docs/stable/user_guide/indexing.html#returning-a-view-versus-a-copy\n",
      "  data_f0['intg_w_ToT'] = data_f0.loc[:,'t2'] - data_f0.loc[:,'t1']\n",
      "/volumedisk0/home/vherrero/PETALO_analysis/TOFPET_ToT_lib.py:120: SettingWithCopyWarning: \n",
      "A value is trying to be set on a copy of a slice from a DataFrame.\n",
      "Try using .loc[row_indexer,col_indexer] = value instead\n",
      "\n",
      "See the caveats in the documentation: https://pandas.pydata.org/pandas-docs/stable/user_guide/indexing.html#returning-a-view-versus-a-copy\n",
      "  data_f0['intg_w_ToT'] = data_f0.loc[:,'t2'] - data_f0.loc[:,'t1']\n",
      "/volumedisk0/home/vherrero/PETALO_analysis/TOFPET_ToT_lib.py:120: SettingWithCopyWarning: \n",
      "A value is trying to be set on a copy of a slice from a DataFrame.\n",
      "Try using .loc[row_indexer,col_indexer] = value instead\n",
      "\n",
      "See the caveats in the documentation: https://pandas.pydata.org/pandas-docs/stable/user_guide/indexing.html#returning-a-view-versus-a-copy\n",
      "  data_f0['intg_w_ToT'] = data_f0.loc[:,'t2'] - data_f0.loc[:,'t1']\n",
      "/volumedisk0/home/vherrero/PETALO_analysis/TOFPET_ToT_lib.py:128: UserWarning: Boolean Series key will be reindexed to match DataFrame index.\n",
      "  data_f1 = data_f0[sel]\n",
      "/volumedisk0/home/vherrero/PETALO_analysis/TOFPET_ToT_lib.py:120: SettingWithCopyWarning: \n",
      "A value is trying to be set on a copy of a slice from a DataFrame.\n",
      "Try using .loc[row_indexer,col_indexer] = value instead\n",
      "\n",
      "See the caveats in the documentation: https://pandas.pydata.org/pandas-docs/stable/user_guide/indexing.html#returning-a-view-versus-a-copy\n",
      "  data_f0['intg_w_ToT'] = data_f0.loc[:,'t2'] - data_f0.loc[:,'t1']\n",
      "/volumedisk0/home/vherrero/PETALO_analysis/TOFPET_ToT_lib.py:120: SettingWithCopyWarning: \n",
      "A value is trying to be set on a copy of a slice from a DataFrame.\n",
      "Try using .loc[row_indexer,col_indexer] = value instead\n",
      "\n",
      "See the caveats in the documentation: https://pandas.pydata.org/pandas-docs/stable/user_guide/indexing.html#returning-a-view-versus-a-copy\n",
      "  data_f0['intg_w_ToT'] = data_f0.loc[:,'t2'] - data_f0.loc[:,'t1']\n"
     ]
    },
    {
     "name": "stdout",
     "output_type": "stream",
     "text": [
      "File 14 | Chunk /data_106\n"
     ]
    },
    {
     "name": "stderr",
     "output_type": "stream",
     "text": [
      "/volumedisk0/home/vherrero/PETALO_analysis/TOFPET_ToT_lib.py:128: UserWarning: Boolean Series key will be reindexed to match DataFrame index.\n",
      "  data_f1 = data_f0[sel]\n",
      "/volumedisk0/home/vherrero/PETALO_analysis/TOFPET_ToT_lib.py:128: UserWarning: Boolean Series key will be reindexed to match DataFrame index.\n",
      "  data_f1 = data_f0[sel]\n"
     ]
    },
    {
     "name": "stdout",
     "output_type": "stream",
     "text": [
      "File 8 | Chunk /data_106\n"
     ]
    },
    {
     "name": "stderr",
     "output_type": "stream",
     "text": [
      "/volumedisk0/home/vherrero/PETALO_analysis/TOFPET_ToT_lib.py:128: UserWarning: Boolean Series key will be reindexed to match DataFrame index.\n",
      "  data_f1 = data_f0[sel]\n"
     ]
    },
    {
     "name": "stdout",
     "output_type": "stream",
     "text": [
      "File 4 | Chunk /data_106\n"
     ]
    },
    {
     "name": "stderr",
     "output_type": "stream",
     "text": [
      "/volumedisk0/home/vherrero/PETALO_analysis/TOFPET_ToT_lib.py:128: UserWarning: Boolean Series key will be reindexed to match DataFrame index.\n",
      "  data_f1 = data_f0[sel]\n",
      "/volumedisk0/home/vherrero/PETALO_analysis/TOFPET_ToT_lib.py:128: UserWarning: Boolean Series key will be reindexed to match DataFrame index.\n",
      "  data_f1 = data_f0[sel]\n",
      "/volumedisk0/home/vherrero/PETALO_analysis/TOFPET_ToT_lib.py:128: UserWarning: Boolean Series key will be reindexed to match DataFrame index.\n",
      "  data_f1 = data_f0[sel]\n",
      "/volumedisk0/home/vherrero/PETALO_analysis/TOFPET_ToT_lib.py:128: UserWarning: Boolean Series key will be reindexed to match DataFrame index.\n",
      "  data_f1 = data_f0[sel]\n"
     ]
    },
    {
     "name": "stdout",
     "output_type": "stream",
     "text": [
      "File 10 | Chunk /data_106\n",
      "File 13 | Chunk /data_106\n"
     ]
    },
    {
     "name": "stderr",
     "output_type": "stream",
     "text": [
      "/volumedisk0/home/vherrero/PETALO_analysis/TOFPET_ToT_lib.py:128: UserWarning: Boolean Series key will be reindexed to match DataFrame index.\n",
      "  data_f1 = data_f0[sel]\n"
     ]
    },
    {
     "name": "stdout",
     "output_type": "stream",
     "text": [
      "File 5 | Chunk /data_106\n",
      "File 3 | Chunk /data_106\n"
     ]
    },
    {
     "name": "stderr",
     "output_type": "stream",
     "text": [
      "/volumedisk0/home/vherrero/PETALO_analysis/TOFPET_ToT_lib.py:120: SettingWithCopyWarning: \n",
      "A value is trying to be set on a copy of a slice from a DataFrame.\n",
      "Try using .loc[row_indexer,col_indexer] = value instead\n",
      "\n",
      "See the caveats in the documentation: https://pandas.pydata.org/pandas-docs/stable/user_guide/indexing.html#returning-a-view-versus-a-copy\n",
      "  data_f0['intg_w_ToT'] = data_f0.loc[:,'t2'] - data_f0.loc[:,'t1']\n"
     ]
    },
    {
     "name": "stdout",
     "output_type": "stream",
     "text": [
      "File 17 | Chunk /data_106\n",
      "File 12 | Chunk /data_106\n"
     ]
    },
    {
     "name": "stderr",
     "output_type": "stream",
     "text": [
      "/volumedisk0/home/vherrero/PETALO_analysis/TOFPET_ToT_lib.py:128: UserWarning: Boolean Series key will be reindexed to match DataFrame index.\n",
      "  data_f1 = data_f0[sel]\n",
      "/volumedisk0/home/vherrero/PETALO_analysis/TOFPET_ToT_lib.py:128: UserWarning: Boolean Series key will be reindexed to match DataFrame index.\n",
      "  data_f1 = data_f0[sel]\n",
      "/volumedisk0/home/vherrero/PETALO_analysis/TOFPET_ToT_lib.py:128: UserWarning: Boolean Series key will be reindexed to match DataFrame index.\n",
      "  data_f1 = data_f0[sel]\n",
      "/volumedisk0/home/vherrero/PETALO_analysis/TOFPET_ToT_lib.py:128: UserWarning: Boolean Series key will be reindexed to match DataFrame index.\n",
      "  data_f1 = data_f0[sel]\n",
      "/volumedisk0/home/vherrero/PETALO_analysis/TOFPET_ToT_lib.py:128: UserWarning: Boolean Series key will be reindexed to match DataFrame index.\n",
      "  data_f1 = data_f0[sel]\n"
     ]
    },
    {
     "name": "stdout",
     "output_type": "stream",
     "text": [
      "File 1 | Chunk /data_106\n"
     ]
    },
    {
     "name": "stderr",
     "output_type": "stream",
     "text": [
      "/volumedisk0/home/vherrero/PETALO_analysis/TOFPET_ToT_lib.py:128: UserWarning: Boolean Series key will be reindexed to match DataFrame index.\n",
      "  data_f1 = data_f0[sel]\n"
     ]
    },
    {
     "name": "stdout",
     "output_type": "stream",
     "text": [
      "File 11 | Chunk /data_106\n"
     ]
    },
    {
     "name": "stderr",
     "output_type": "stream",
     "text": [
      "/volumedisk0/home/vherrero/PETALO_analysis/TOFPET_ToT_lib.py:120: SettingWithCopyWarning: \n",
      "A value is trying to be set on a copy of a slice from a DataFrame.\n",
      "Try using .loc[row_indexer,col_indexer] = value instead\n",
      "\n",
      "See the caveats in the documentation: https://pandas.pydata.org/pandas-docs/stable/user_guide/indexing.html#returning-a-view-versus-a-copy\n",
      "  data_f0['intg_w_ToT'] = data_f0.loc[:,'t2'] - data_f0.loc[:,'t1']\n",
      "/volumedisk0/home/vherrero/PETALO_analysis/TOFPET_ToT_lib.py:128: UserWarning: Boolean Series key will be reindexed to match DataFrame index.\n",
      "  data_f1 = data_f0[sel]\n",
      "/volumedisk0/home/vherrero/PETALO_analysis/TOFPET_ToT_lib.py:120: SettingWithCopyWarning: \n",
      "A value is trying to be set on a copy of a slice from a DataFrame.\n",
      "Try using .loc[row_indexer,col_indexer] = value instead\n",
      "\n",
      "See the caveats in the documentation: https://pandas.pydata.org/pandas-docs/stable/user_guide/indexing.html#returning-a-view-versus-a-copy\n",
      "  data_f0['intg_w_ToT'] = data_f0.loc[:,'t2'] - data_f0.loc[:,'t1']\n",
      "/volumedisk0/home/vherrero/PETALO_analysis/TOFPET_ToT_lib.py:128: UserWarning: Boolean Series key will be reindexed to match DataFrame index.\n",
      "  data_f1 = data_f0[sel]\n",
      "/volumedisk0/home/vherrero/PETALO_analysis/TOFPET_ToT_lib.py:120: SettingWithCopyWarning: \n",
      "A value is trying to be set on a copy of a slice from a DataFrame.\n",
      "Try using .loc[row_indexer,col_indexer] = value instead\n",
      "\n",
      "See the caveats in the documentation: https://pandas.pydata.org/pandas-docs/stable/user_guide/indexing.html#returning-a-view-versus-a-copy\n",
      "  data_f0['intg_w_ToT'] = data_f0.loc[:,'t2'] - data_f0.loc[:,'t1']\n",
      "/volumedisk0/home/vherrero/PETALO_analysis/TOFPET_ToT_lib.py:120: SettingWithCopyWarning: \n",
      "A value is trying to be set on a copy of a slice from a DataFrame.\n",
      "Try using .loc[row_indexer,col_indexer] = value instead\n",
      "\n",
      "See the caveats in the documentation: https://pandas.pydata.org/pandas-docs/stable/user_guide/indexing.html#returning-a-view-versus-a-copy\n",
      "  data_f0['intg_w_ToT'] = data_f0.loc[:,'t2'] - data_f0.loc[:,'t1']\n",
      "/volumedisk0/home/vherrero/PETALO_analysis/TOFPET_ToT_lib.py:120: SettingWithCopyWarning: \n",
      "A value is trying to be set on a copy of a slice from a DataFrame.\n",
      "Try using .loc[row_indexer,col_indexer] = value instead\n",
      "\n",
      "See the caveats in the documentation: https://pandas.pydata.org/pandas-docs/stable/user_guide/indexing.html#returning-a-view-versus-a-copy\n",
      "  data_f0['intg_w_ToT'] = data_f0.loc[:,'t2'] - data_f0.loc[:,'t1']\n",
      "/volumedisk0/home/vherrero/PETALO_analysis/TOFPET_ToT_lib.py:120: SettingWithCopyWarning: \n",
      "A value is trying to be set on a copy of a slice from a DataFrame.\n",
      "Try using .loc[row_indexer,col_indexer] = value instead\n",
      "\n",
      "See the caveats in the documentation: https://pandas.pydata.org/pandas-docs/stable/user_guide/indexing.html#returning-a-view-versus-a-copy\n",
      "  data_f0['intg_w_ToT'] = data_f0.loc[:,'t2'] - data_f0.loc[:,'t1']\n",
      "/volumedisk0/home/vherrero/PETALO_analysis/TOFPET_ToT_lib.py:120: SettingWithCopyWarning: \n",
      "A value is trying to be set on a copy of a slice from a DataFrame.\n",
      "Try using .loc[row_indexer,col_indexer] = value instead\n",
      "\n",
      "See the caveats in the documentation: https://pandas.pydata.org/pandas-docs/stable/user_guide/indexing.html#returning-a-view-versus-a-copy\n",
      "  data_f0['intg_w_ToT'] = data_f0.loc[:,'t2'] - data_f0.loc[:,'t1']\n",
      "/volumedisk0/home/vherrero/PETALO_analysis/TOFPET_ToT_lib.py:120: SettingWithCopyWarning: \n",
      "A value is trying to be set on a copy of a slice from a DataFrame.\n",
      "Try using .loc[row_indexer,col_indexer] = value instead\n",
      "\n",
      "See the caveats in the documentation: https://pandas.pydata.org/pandas-docs/stable/user_guide/indexing.html#returning-a-view-versus-a-copy\n",
      "  data_f0['intg_w_ToT'] = data_f0.loc[:,'t2'] - data_f0.loc[:,'t1']\n",
      "/volumedisk0/home/vherrero/PETALO_analysis/TOFPET_ToT_lib.py:128: UserWarning: Boolean Series key will be reindexed to match DataFrame index.\n",
      "  data_f1 = data_f0[sel]\n",
      "/volumedisk0/home/vherrero/PETALO_analysis/TOFPET_ToT_lib.py:128: UserWarning: Boolean Series key will be reindexed to match DataFrame index.\n",
      "  data_f1 = data_f0[sel]\n",
      "/volumedisk0/home/vherrero/PETALO_analysis/TOFPET_ToT_lib.py:120: SettingWithCopyWarning: \n",
      "A value is trying to be set on a copy of a slice from a DataFrame.\n",
      "Try using .loc[row_indexer,col_indexer] = value instead\n",
      "\n",
      "See the caveats in the documentation: https://pandas.pydata.org/pandas-docs/stable/user_guide/indexing.html#returning-a-view-versus-a-copy\n",
      "  data_f0['intg_w_ToT'] = data_f0.loc[:,'t2'] - data_f0.loc[:,'t1']\n",
      "/volumedisk0/home/vherrero/PETALO_analysis/TOFPET_ToT_lib.py:128: UserWarning: Boolean Series key will be reindexed to match DataFrame index.\n",
      "  data_f1 = data_f0[sel]\n",
      "/volumedisk0/home/vherrero/PETALO_analysis/TOFPET_ToT_lib.py:120: SettingWithCopyWarning: \n",
      "A value is trying to be set on a copy of a slice from a DataFrame.\n",
      "Try using .loc[row_indexer,col_indexer] = value instead\n",
      "\n",
      "See the caveats in the documentation: https://pandas.pydata.org/pandas-docs/stable/user_guide/indexing.html#returning-a-view-versus-a-copy\n",
      "  data_f0['intg_w_ToT'] = data_f0.loc[:,'t2'] - data_f0.loc[:,'t1']\n",
      "/volumedisk0/home/vherrero/PETALO_analysis/TOFPET_ToT_lib.py:128: UserWarning: Boolean Series key will be reindexed to match DataFrame index.\n",
      "  data_f1 = data_f0[sel]\n",
      "/volumedisk0/home/vherrero/PETALO_analysis/TOFPET_ToT_lib.py:128: UserWarning: Boolean Series key will be reindexed to match DataFrame index.\n",
      "  data_f1 = data_f0[sel]\n",
      "/volumedisk0/home/vherrero/PETALO_analysis/TOFPET_ToT_lib.py:128: UserWarning: Boolean Series key will be reindexed to match DataFrame index.\n",
      "  data_f1 = data_f0[sel]\n",
      "/volumedisk0/home/vherrero/PETALO_analysis/TOFPET_ToT_lib.py:128: UserWarning: Boolean Series key will be reindexed to match DataFrame index.\n",
      "  data_f1 = data_f0[sel]\n",
      "/volumedisk0/home/vherrero/PETALO_analysis/TOFPET_ToT_lib.py:128: UserWarning: Boolean Series key will be reindexed to match DataFrame index.\n",
      "  data_f1 = data_f0[sel]\n",
      "/volumedisk0/home/vherrero/PETALO_analysis/TOFPET_ToT_lib.py:128: UserWarning: Boolean Series key will be reindexed to match DataFrame index.\n",
      "  data_f1 = data_f0[sel]\n",
      "/volumedisk0/home/vherrero/PETALO_analysis/TOFPET_ToT_lib.py:128: UserWarning: Boolean Series key will be reindexed to match DataFrame index.\n",
      "  data_f1 = data_f0[sel]\n",
      "/volumedisk0/home/vherrero/PETALO_analysis/TOFPET_ToT_lib.py:128: UserWarning: Boolean Series key will be reindexed to match DataFrame index.\n",
      "  data_f1 = data_f0[sel]\n",
      "/volumedisk0/home/vherrero/PETALO_analysis/TOFPET_ToT_lib.py:128: UserWarning: Boolean Series key will be reindexed to match DataFrame index.\n",
      "  data_f1 = data_f0[sel]\n",
      "/volumedisk0/home/vherrero/PETALO_analysis/TOFPET_ToT_lib.py:128: UserWarning: Boolean Series key will be reindexed to match DataFrame index.\n",
      "  data_f1 = data_f0[sel]\n",
      "/volumedisk0/home/vherrero/PETALO_analysis/TOFPET_ToT_lib.py:128: UserWarning: Boolean Series key will be reindexed to match DataFrame index.\n",
      "  data_f1 = data_f0[sel]\n",
      "/software/miniconda/envs/rawdata/lib/python3.8/site-packages/numpy/core/_asarray.py:83: VisibleDeprecationWarning: Creating an ndarray from ragged nested sequences (which is a list-or-tuple of lists-or-tuples-or ndarrays with different lengths or shapes) is deprecated. If you meant to do this, you must specify 'dtype=object' when creating the ndarray\n",
      "  return array(a, dtype, copy=False, order=order)\n"
     ]
    }
   ],
   "source": [
    "D = tot.data_process(run  = run_number,\n",
    "                     asic = 0,\n",
    "                     path = \"/analysis/\" + str(run_number) + \"/hdf5/proc/linear_interp/files/\",\n",
    "                     path_table = \"/home/vherrero/CALIBRATION_FILES/\",\n",
    "                     file_table = conversion_table,\n",
    "                     path_out_images = path_image_out)\n",
    "\n",
    "# Low threshold limit (lower values get the minimum amount of charge)\n",
    "#D.lo_ToT = 10\n",
    "\n",
    "out1 = []\n",
    "df_array = []\n",
    "\n",
    "pool = mp.Pool(processes = n_files)\n",
    "\n",
    "pool_output = pool.map(D.process_energy_ToT, range(n_files))\n",
    "\n",
    "pool.close()\n",
    "pool.join()\n",
    "\n",
    "sizes = np.shape(pool_output)\n",
    "\n",
    "for x in range(sizes[0]):\n",
    "    out1.extend(pool_output[x][0])\n",
    "    df_array.append(pool_output[x][1])\n",
    "        \n",
    "out1   = np.array(out1)\n",
    "df_out = pd.concat(df_array)\n"
   ]
  },
  {
   "cell_type": "code",
   "execution_count": 109,
   "id": "5b0f2977",
   "metadata": {},
   "outputs": [
    {
     "data": {
      "application/javascript": [
       "/* Put everything inside the global mpl namespace */\n",
       "/* global mpl */\n",
       "window.mpl = {};\n",
       "\n",
       "mpl.get_websocket_type = function () {\n",
       "    if (typeof WebSocket !== 'undefined') {\n",
       "        return WebSocket;\n",
       "    } else if (typeof MozWebSocket !== 'undefined') {\n",
       "        return MozWebSocket;\n",
       "    } else {\n",
       "        alert(\n",
       "            'Your browser does not have WebSocket support. ' +\n",
       "                'Please try Chrome, Safari or Firefox ≥ 6. ' +\n",
       "                'Firefox 4 and 5 are also supported but you ' +\n",
       "                'have to enable WebSockets in about:config.'\n",
       "        );\n",
       "    }\n",
       "};\n",
       "\n",
       "mpl.figure = function (figure_id, websocket, ondownload, parent_element) {\n",
       "    this.id = figure_id;\n",
       "\n",
       "    this.ws = websocket;\n",
       "\n",
       "    this.supports_binary = this.ws.binaryType !== undefined;\n",
       "\n",
       "    if (!this.supports_binary) {\n",
       "        var warnings = document.getElementById('mpl-warnings');\n",
       "        if (warnings) {\n",
       "            warnings.style.display = 'block';\n",
       "            warnings.textContent =\n",
       "                'This browser does not support binary websocket messages. ' +\n",
       "                'Performance may be slow.';\n",
       "        }\n",
       "    }\n",
       "\n",
       "    this.imageObj = new Image();\n",
       "\n",
       "    this.context = undefined;\n",
       "    this.message = undefined;\n",
       "    this.canvas = undefined;\n",
       "    this.rubberband_canvas = undefined;\n",
       "    this.rubberband_context = undefined;\n",
       "    this.format_dropdown = undefined;\n",
       "\n",
       "    this.image_mode = 'full';\n",
       "\n",
       "    this.root = document.createElement('div');\n",
       "    this.root.setAttribute('style', 'display: inline-block');\n",
       "    this._root_extra_style(this.root);\n",
       "\n",
       "    parent_element.appendChild(this.root);\n",
       "\n",
       "    this._init_header(this);\n",
       "    this._init_canvas(this);\n",
       "    this._init_toolbar(this);\n",
       "\n",
       "    var fig = this;\n",
       "\n",
       "    this.waiting = false;\n",
       "\n",
       "    this.ws.onopen = function () {\n",
       "        fig.send_message('supports_binary', { value: fig.supports_binary });\n",
       "        fig.send_message('send_image_mode', {});\n",
       "        if (fig.ratio !== 1) {\n",
       "            fig.send_message('set_dpi_ratio', { dpi_ratio: fig.ratio });\n",
       "        }\n",
       "        fig.send_message('refresh', {});\n",
       "    };\n",
       "\n",
       "    this.imageObj.onload = function () {\n",
       "        if (fig.image_mode === 'full') {\n",
       "            // Full images could contain transparency (where diff images\n",
       "            // almost always do), so we need to clear the canvas so that\n",
       "            // there is no ghosting.\n",
       "            fig.context.clearRect(0, 0, fig.canvas.width, fig.canvas.height);\n",
       "        }\n",
       "        fig.context.drawImage(fig.imageObj, 0, 0);\n",
       "    };\n",
       "\n",
       "    this.imageObj.onunload = function () {\n",
       "        fig.ws.close();\n",
       "    };\n",
       "\n",
       "    this.ws.onmessage = this._make_on_message_function(this);\n",
       "\n",
       "    this.ondownload = ondownload;\n",
       "};\n",
       "\n",
       "mpl.figure.prototype._init_header = function () {\n",
       "    var titlebar = document.createElement('div');\n",
       "    titlebar.classList =\n",
       "        'ui-dialog-titlebar ui-widget-header ui-corner-all ui-helper-clearfix';\n",
       "    var titletext = document.createElement('div');\n",
       "    titletext.classList = 'ui-dialog-title';\n",
       "    titletext.setAttribute(\n",
       "        'style',\n",
       "        'width: 100%; text-align: center; padding: 3px;'\n",
       "    );\n",
       "    titlebar.appendChild(titletext);\n",
       "    this.root.appendChild(titlebar);\n",
       "    this.header = titletext;\n",
       "};\n",
       "\n",
       "mpl.figure.prototype._canvas_extra_style = function (_canvas_div) {};\n",
       "\n",
       "mpl.figure.prototype._root_extra_style = function (_canvas_div) {};\n",
       "\n",
       "mpl.figure.prototype._init_canvas = function () {\n",
       "    var fig = this;\n",
       "\n",
       "    var canvas_div = (this.canvas_div = document.createElement('div'));\n",
       "    canvas_div.setAttribute(\n",
       "        'style',\n",
       "        'border: 1px solid #ddd;' +\n",
       "            'box-sizing: content-box;' +\n",
       "            'clear: both;' +\n",
       "            'min-height: 1px;' +\n",
       "            'min-width: 1px;' +\n",
       "            'outline: 0;' +\n",
       "            'overflow: hidden;' +\n",
       "            'position: relative;' +\n",
       "            'resize: both;'\n",
       "    );\n",
       "\n",
       "    function on_keyboard_event_closure(name) {\n",
       "        return function (event) {\n",
       "            return fig.key_event(event, name);\n",
       "        };\n",
       "    }\n",
       "\n",
       "    canvas_div.addEventListener(\n",
       "        'keydown',\n",
       "        on_keyboard_event_closure('key_press')\n",
       "    );\n",
       "    canvas_div.addEventListener(\n",
       "        'keyup',\n",
       "        on_keyboard_event_closure('key_release')\n",
       "    );\n",
       "\n",
       "    this._canvas_extra_style(canvas_div);\n",
       "    this.root.appendChild(canvas_div);\n",
       "\n",
       "    var canvas = (this.canvas = document.createElement('canvas'));\n",
       "    canvas.classList.add('mpl-canvas');\n",
       "    canvas.setAttribute('style', 'box-sizing: content-box;');\n",
       "\n",
       "    this.context = canvas.getContext('2d');\n",
       "\n",
       "    var backingStore =\n",
       "        this.context.backingStorePixelRatio ||\n",
       "        this.context.webkitBackingStorePixelRatio ||\n",
       "        this.context.mozBackingStorePixelRatio ||\n",
       "        this.context.msBackingStorePixelRatio ||\n",
       "        this.context.oBackingStorePixelRatio ||\n",
       "        this.context.backingStorePixelRatio ||\n",
       "        1;\n",
       "\n",
       "    this.ratio = (window.devicePixelRatio || 1) / backingStore;\n",
       "\n",
       "    var rubberband_canvas = (this.rubberband_canvas = document.createElement(\n",
       "        'canvas'\n",
       "    ));\n",
       "    rubberband_canvas.setAttribute(\n",
       "        'style',\n",
       "        'box-sizing: content-box; position: absolute; left: 0; top: 0; z-index: 1;'\n",
       "    );\n",
       "\n",
       "    // Apply a ponyfill if ResizeObserver is not implemented by browser.\n",
       "    if (this.ResizeObserver === undefined) {\n",
       "        if (window.ResizeObserver !== undefined) {\n",
       "            this.ResizeObserver = window.ResizeObserver;\n",
       "        } else {\n",
       "            var obs = _JSXTOOLS_RESIZE_OBSERVER({});\n",
       "            this.ResizeObserver = obs.ResizeObserver;\n",
       "        }\n",
       "    }\n",
       "\n",
       "    this.resizeObserverInstance = new this.ResizeObserver(function (entries) {\n",
       "        var nentries = entries.length;\n",
       "        for (var i = 0; i < nentries; i++) {\n",
       "            var entry = entries[i];\n",
       "            var width, height;\n",
       "            if (entry.contentBoxSize) {\n",
       "                if (entry.contentBoxSize instanceof Array) {\n",
       "                    // Chrome 84 implements new version of spec.\n",
       "                    width = entry.contentBoxSize[0].inlineSize;\n",
       "                    height = entry.contentBoxSize[0].blockSize;\n",
       "                } else {\n",
       "                    // Firefox implements old version of spec.\n",
       "                    width = entry.contentBoxSize.inlineSize;\n",
       "                    height = entry.contentBoxSize.blockSize;\n",
       "                }\n",
       "            } else {\n",
       "                // Chrome <84 implements even older version of spec.\n",
       "                width = entry.contentRect.width;\n",
       "                height = entry.contentRect.height;\n",
       "            }\n",
       "\n",
       "            // Keep the size of the canvas and rubber band canvas in sync with\n",
       "            // the canvas container.\n",
       "            if (entry.devicePixelContentBoxSize) {\n",
       "                // Chrome 84 implements new version of spec.\n",
       "                canvas.setAttribute(\n",
       "                    'width',\n",
       "                    entry.devicePixelContentBoxSize[0].inlineSize\n",
       "                );\n",
       "                canvas.setAttribute(\n",
       "                    'height',\n",
       "                    entry.devicePixelContentBoxSize[0].blockSize\n",
       "                );\n",
       "            } else {\n",
       "                canvas.setAttribute('width', width * fig.ratio);\n",
       "                canvas.setAttribute('height', height * fig.ratio);\n",
       "            }\n",
       "            canvas.setAttribute(\n",
       "                'style',\n",
       "                'width: ' + width + 'px; height: ' + height + 'px;'\n",
       "            );\n",
       "\n",
       "            rubberband_canvas.setAttribute('width', width);\n",
       "            rubberband_canvas.setAttribute('height', height);\n",
       "\n",
       "            // And update the size in Python. We ignore the initial 0/0 size\n",
       "            // that occurs as the element is placed into the DOM, which should\n",
       "            // otherwise not happen due to the minimum size styling.\n",
       "            if (fig.ws.readyState == 1 && width != 0 && height != 0) {\n",
       "                fig.request_resize(width, height);\n",
       "            }\n",
       "        }\n",
       "    });\n",
       "    this.resizeObserverInstance.observe(canvas_div);\n",
       "\n",
       "    function on_mouse_event_closure(name) {\n",
       "        return function (event) {\n",
       "            return fig.mouse_event(event, name);\n",
       "        };\n",
       "    }\n",
       "\n",
       "    rubberband_canvas.addEventListener(\n",
       "        'mousedown',\n",
       "        on_mouse_event_closure('button_press')\n",
       "    );\n",
       "    rubberband_canvas.addEventListener(\n",
       "        'mouseup',\n",
       "        on_mouse_event_closure('button_release')\n",
       "    );\n",
       "    // Throttle sequential mouse events to 1 every 20ms.\n",
       "    rubberband_canvas.addEventListener(\n",
       "        'mousemove',\n",
       "        on_mouse_event_closure('motion_notify')\n",
       "    );\n",
       "\n",
       "    rubberband_canvas.addEventListener(\n",
       "        'mouseenter',\n",
       "        on_mouse_event_closure('figure_enter')\n",
       "    );\n",
       "    rubberband_canvas.addEventListener(\n",
       "        'mouseleave',\n",
       "        on_mouse_event_closure('figure_leave')\n",
       "    );\n",
       "\n",
       "    canvas_div.addEventListener('wheel', function (event) {\n",
       "        if (event.deltaY < 0) {\n",
       "            event.step = 1;\n",
       "        } else {\n",
       "            event.step = -1;\n",
       "        }\n",
       "        on_mouse_event_closure('scroll')(event);\n",
       "    });\n",
       "\n",
       "    canvas_div.appendChild(canvas);\n",
       "    canvas_div.appendChild(rubberband_canvas);\n",
       "\n",
       "    this.rubberband_context = rubberband_canvas.getContext('2d');\n",
       "    this.rubberband_context.strokeStyle = '#000000';\n",
       "\n",
       "    this._resize_canvas = function (width, height, forward) {\n",
       "        if (forward) {\n",
       "            canvas_div.style.width = width + 'px';\n",
       "            canvas_div.style.height = height + 'px';\n",
       "        }\n",
       "    };\n",
       "\n",
       "    // Disable right mouse context menu.\n",
       "    this.rubberband_canvas.addEventListener('contextmenu', function (_e) {\n",
       "        event.preventDefault();\n",
       "        return false;\n",
       "    });\n",
       "\n",
       "    function set_focus() {\n",
       "        canvas.focus();\n",
       "        canvas_div.focus();\n",
       "    }\n",
       "\n",
       "    window.setTimeout(set_focus, 100);\n",
       "};\n",
       "\n",
       "mpl.figure.prototype._init_toolbar = function () {\n",
       "    var fig = this;\n",
       "\n",
       "    var toolbar = document.createElement('div');\n",
       "    toolbar.classList = 'mpl-toolbar';\n",
       "    this.root.appendChild(toolbar);\n",
       "\n",
       "    function on_click_closure(name) {\n",
       "        return function (_event) {\n",
       "            return fig.toolbar_button_onclick(name);\n",
       "        };\n",
       "    }\n",
       "\n",
       "    function on_mouseover_closure(tooltip) {\n",
       "        return function (event) {\n",
       "            if (!event.currentTarget.disabled) {\n",
       "                return fig.toolbar_button_onmouseover(tooltip);\n",
       "            }\n",
       "        };\n",
       "    }\n",
       "\n",
       "    fig.buttons = {};\n",
       "    var buttonGroup = document.createElement('div');\n",
       "    buttonGroup.classList = 'mpl-button-group';\n",
       "    for (var toolbar_ind in mpl.toolbar_items) {\n",
       "        var name = mpl.toolbar_items[toolbar_ind][0];\n",
       "        var tooltip = mpl.toolbar_items[toolbar_ind][1];\n",
       "        var image = mpl.toolbar_items[toolbar_ind][2];\n",
       "        var method_name = mpl.toolbar_items[toolbar_ind][3];\n",
       "\n",
       "        if (!name) {\n",
       "            /* Instead of a spacer, we start a new button group. */\n",
       "            if (buttonGroup.hasChildNodes()) {\n",
       "                toolbar.appendChild(buttonGroup);\n",
       "            }\n",
       "            buttonGroup = document.createElement('div');\n",
       "            buttonGroup.classList = 'mpl-button-group';\n",
       "            continue;\n",
       "        }\n",
       "\n",
       "        var button = (fig.buttons[name] = document.createElement('button'));\n",
       "        button.classList = 'mpl-widget';\n",
       "        button.setAttribute('role', 'button');\n",
       "        button.setAttribute('aria-disabled', 'false');\n",
       "        button.addEventListener('click', on_click_closure(method_name));\n",
       "        button.addEventListener('mouseover', on_mouseover_closure(tooltip));\n",
       "\n",
       "        var icon_img = document.createElement('img');\n",
       "        icon_img.src = '_images/' + image + '.png';\n",
       "        icon_img.srcset = '_images/' + image + '_large.png 2x';\n",
       "        icon_img.alt = tooltip;\n",
       "        button.appendChild(icon_img);\n",
       "\n",
       "        buttonGroup.appendChild(button);\n",
       "    }\n",
       "\n",
       "    if (buttonGroup.hasChildNodes()) {\n",
       "        toolbar.appendChild(buttonGroup);\n",
       "    }\n",
       "\n",
       "    var fmt_picker = document.createElement('select');\n",
       "    fmt_picker.classList = 'mpl-widget';\n",
       "    toolbar.appendChild(fmt_picker);\n",
       "    this.format_dropdown = fmt_picker;\n",
       "\n",
       "    for (var ind in mpl.extensions) {\n",
       "        var fmt = mpl.extensions[ind];\n",
       "        var option = document.createElement('option');\n",
       "        option.selected = fmt === mpl.default_extension;\n",
       "        option.innerHTML = fmt;\n",
       "        fmt_picker.appendChild(option);\n",
       "    }\n",
       "\n",
       "    var status_bar = document.createElement('span');\n",
       "    status_bar.classList = 'mpl-message';\n",
       "    toolbar.appendChild(status_bar);\n",
       "    this.message = status_bar;\n",
       "};\n",
       "\n",
       "mpl.figure.prototype.request_resize = function (x_pixels, y_pixels) {\n",
       "    // Request matplotlib to resize the figure. Matplotlib will then trigger a resize in the client,\n",
       "    // which will in turn request a refresh of the image.\n",
       "    this.send_message('resize', { width: x_pixels, height: y_pixels });\n",
       "};\n",
       "\n",
       "mpl.figure.prototype.send_message = function (type, properties) {\n",
       "    properties['type'] = type;\n",
       "    properties['figure_id'] = this.id;\n",
       "    this.ws.send(JSON.stringify(properties));\n",
       "};\n",
       "\n",
       "mpl.figure.prototype.send_draw_message = function () {\n",
       "    if (!this.waiting) {\n",
       "        this.waiting = true;\n",
       "        this.ws.send(JSON.stringify({ type: 'draw', figure_id: this.id }));\n",
       "    }\n",
       "};\n",
       "\n",
       "mpl.figure.prototype.handle_save = function (fig, _msg) {\n",
       "    var format_dropdown = fig.format_dropdown;\n",
       "    var format = format_dropdown.options[format_dropdown.selectedIndex].value;\n",
       "    fig.ondownload(fig, format);\n",
       "};\n",
       "\n",
       "mpl.figure.prototype.handle_resize = function (fig, msg) {\n",
       "    var size = msg['size'];\n",
       "    if (size[0] !== fig.canvas.width || size[1] !== fig.canvas.height) {\n",
       "        fig._resize_canvas(size[0], size[1], msg['forward']);\n",
       "        fig.send_message('refresh', {});\n",
       "    }\n",
       "};\n",
       "\n",
       "mpl.figure.prototype.handle_rubberband = function (fig, msg) {\n",
       "    var x0 = msg['x0'] / fig.ratio;\n",
       "    var y0 = (fig.canvas.height - msg['y0']) / fig.ratio;\n",
       "    var x1 = msg['x1'] / fig.ratio;\n",
       "    var y1 = (fig.canvas.height - msg['y1']) / fig.ratio;\n",
       "    x0 = Math.floor(x0) + 0.5;\n",
       "    y0 = Math.floor(y0) + 0.5;\n",
       "    x1 = Math.floor(x1) + 0.5;\n",
       "    y1 = Math.floor(y1) + 0.5;\n",
       "    var min_x = Math.min(x0, x1);\n",
       "    var min_y = Math.min(y0, y1);\n",
       "    var width = Math.abs(x1 - x0);\n",
       "    var height = Math.abs(y1 - y0);\n",
       "\n",
       "    fig.rubberband_context.clearRect(\n",
       "        0,\n",
       "        0,\n",
       "        fig.canvas.width / fig.ratio,\n",
       "        fig.canvas.height / fig.ratio\n",
       "    );\n",
       "\n",
       "    fig.rubberband_context.strokeRect(min_x, min_y, width, height);\n",
       "};\n",
       "\n",
       "mpl.figure.prototype.handle_figure_label = function (fig, msg) {\n",
       "    // Updates the figure title.\n",
       "    fig.header.textContent = msg['label'];\n",
       "};\n",
       "\n",
       "mpl.figure.prototype.handle_cursor = function (fig, msg) {\n",
       "    var cursor = msg['cursor'];\n",
       "    switch (cursor) {\n",
       "        case 0:\n",
       "            cursor = 'pointer';\n",
       "            break;\n",
       "        case 1:\n",
       "            cursor = 'default';\n",
       "            break;\n",
       "        case 2:\n",
       "            cursor = 'crosshair';\n",
       "            break;\n",
       "        case 3:\n",
       "            cursor = 'move';\n",
       "            break;\n",
       "    }\n",
       "    fig.rubberband_canvas.style.cursor = cursor;\n",
       "};\n",
       "\n",
       "mpl.figure.prototype.handle_message = function (fig, msg) {\n",
       "    fig.message.textContent = msg['message'];\n",
       "};\n",
       "\n",
       "mpl.figure.prototype.handle_draw = function (fig, _msg) {\n",
       "    // Request the server to send over a new figure.\n",
       "    fig.send_draw_message();\n",
       "};\n",
       "\n",
       "mpl.figure.prototype.handle_image_mode = function (fig, msg) {\n",
       "    fig.image_mode = msg['mode'];\n",
       "};\n",
       "\n",
       "mpl.figure.prototype.handle_history_buttons = function (fig, msg) {\n",
       "    for (var key in msg) {\n",
       "        if (!(key in fig.buttons)) {\n",
       "            continue;\n",
       "        }\n",
       "        fig.buttons[key].disabled = !msg[key];\n",
       "        fig.buttons[key].setAttribute('aria-disabled', !msg[key]);\n",
       "    }\n",
       "};\n",
       "\n",
       "mpl.figure.prototype.handle_navigate_mode = function (fig, msg) {\n",
       "    if (msg['mode'] === 'PAN') {\n",
       "        fig.buttons['Pan'].classList.add('active');\n",
       "        fig.buttons['Zoom'].classList.remove('active');\n",
       "    } else if (msg['mode'] === 'ZOOM') {\n",
       "        fig.buttons['Pan'].classList.remove('active');\n",
       "        fig.buttons['Zoom'].classList.add('active');\n",
       "    } else {\n",
       "        fig.buttons['Pan'].classList.remove('active');\n",
       "        fig.buttons['Zoom'].classList.remove('active');\n",
       "    }\n",
       "};\n",
       "\n",
       "mpl.figure.prototype.updated_canvas_event = function () {\n",
       "    // Called whenever the canvas gets updated.\n",
       "    this.send_message('ack', {});\n",
       "};\n",
       "\n",
       "// A function to construct a web socket function for onmessage handling.\n",
       "// Called in the figure constructor.\n",
       "mpl.figure.prototype._make_on_message_function = function (fig) {\n",
       "    return function socket_on_message(evt) {\n",
       "        if (evt.data instanceof Blob) {\n",
       "            /* FIXME: We get \"Resource interpreted as Image but\n",
       "             * transferred with MIME type text/plain:\" errors on\n",
       "             * Chrome.  But how to set the MIME type?  It doesn't seem\n",
       "             * to be part of the websocket stream */\n",
       "            evt.data.type = 'image/png';\n",
       "\n",
       "            /* Free the memory for the previous frames */\n",
       "            if (fig.imageObj.src) {\n",
       "                (window.URL || window.webkitURL).revokeObjectURL(\n",
       "                    fig.imageObj.src\n",
       "                );\n",
       "            }\n",
       "\n",
       "            fig.imageObj.src = (window.URL || window.webkitURL).createObjectURL(\n",
       "                evt.data\n",
       "            );\n",
       "            fig.updated_canvas_event();\n",
       "            fig.waiting = false;\n",
       "            return;\n",
       "        } else if (\n",
       "            typeof evt.data === 'string' &&\n",
       "            evt.data.slice(0, 21) === 'data:image/png;base64'\n",
       "        ) {\n",
       "            fig.imageObj.src = evt.data;\n",
       "            fig.updated_canvas_event();\n",
       "            fig.waiting = false;\n",
       "            return;\n",
       "        }\n",
       "\n",
       "        var msg = JSON.parse(evt.data);\n",
       "        var msg_type = msg['type'];\n",
       "\n",
       "        // Call the  \"handle_{type}\" callback, which takes\n",
       "        // the figure and JSON message as its only arguments.\n",
       "        try {\n",
       "            var callback = fig['handle_' + msg_type];\n",
       "        } catch (e) {\n",
       "            console.log(\n",
       "                \"No handler for the '\" + msg_type + \"' message type: \",\n",
       "                msg\n",
       "            );\n",
       "            return;\n",
       "        }\n",
       "\n",
       "        if (callback) {\n",
       "            try {\n",
       "                // console.log(\"Handling '\" + msg_type + \"' message: \", msg);\n",
       "                callback(fig, msg);\n",
       "            } catch (e) {\n",
       "                console.log(\n",
       "                    \"Exception inside the 'handler_\" + msg_type + \"' callback:\",\n",
       "                    e,\n",
       "                    e.stack,\n",
       "                    msg\n",
       "                );\n",
       "            }\n",
       "        }\n",
       "    };\n",
       "};\n",
       "\n",
       "// from http://stackoverflow.com/questions/1114465/getting-mouse-location-in-canvas\n",
       "mpl.findpos = function (e) {\n",
       "    //this section is from http://www.quirksmode.org/js/events_properties.html\n",
       "    var targ;\n",
       "    if (!e) {\n",
       "        e = window.event;\n",
       "    }\n",
       "    if (e.target) {\n",
       "        targ = e.target;\n",
       "    } else if (e.srcElement) {\n",
       "        targ = e.srcElement;\n",
       "    }\n",
       "    if (targ.nodeType === 3) {\n",
       "        // defeat Safari bug\n",
       "        targ = targ.parentNode;\n",
       "    }\n",
       "\n",
       "    // pageX,Y are the mouse positions relative to the document\n",
       "    var boundingRect = targ.getBoundingClientRect();\n",
       "    var x = e.pageX - (boundingRect.left + document.body.scrollLeft);\n",
       "    var y = e.pageY - (boundingRect.top + document.body.scrollTop);\n",
       "\n",
       "    return { x: x, y: y };\n",
       "};\n",
       "\n",
       "/*\n",
       " * return a copy of an object with only non-object keys\n",
       " * we need this to avoid circular references\n",
       " * http://stackoverflow.com/a/24161582/3208463\n",
       " */\n",
       "function simpleKeys(original) {\n",
       "    return Object.keys(original).reduce(function (obj, key) {\n",
       "        if (typeof original[key] !== 'object') {\n",
       "            obj[key] = original[key];\n",
       "        }\n",
       "        return obj;\n",
       "    }, {});\n",
       "}\n",
       "\n",
       "mpl.figure.prototype.mouse_event = function (event, name) {\n",
       "    var canvas_pos = mpl.findpos(event);\n",
       "\n",
       "    if (name === 'button_press') {\n",
       "        this.canvas.focus();\n",
       "        this.canvas_div.focus();\n",
       "    }\n",
       "\n",
       "    var x = canvas_pos.x * this.ratio;\n",
       "    var y = canvas_pos.y * this.ratio;\n",
       "\n",
       "    this.send_message(name, {\n",
       "        x: x,\n",
       "        y: y,\n",
       "        button: event.button,\n",
       "        step: event.step,\n",
       "        guiEvent: simpleKeys(event),\n",
       "    });\n",
       "\n",
       "    /* This prevents the web browser from automatically changing to\n",
       "     * the text insertion cursor when the button is pressed.  We want\n",
       "     * to control all of the cursor setting manually through the\n",
       "     * 'cursor' event from matplotlib */\n",
       "    event.preventDefault();\n",
       "    return false;\n",
       "};\n",
       "\n",
       "mpl.figure.prototype._key_event_extra = function (_event, _name) {\n",
       "    // Handle any extra behaviour associated with a key event\n",
       "};\n",
       "\n",
       "mpl.figure.prototype.key_event = function (event, name) {\n",
       "    // Prevent repeat events\n",
       "    if (name === 'key_press') {\n",
       "        if (event.which === this._key) {\n",
       "            return;\n",
       "        } else {\n",
       "            this._key = event.which;\n",
       "        }\n",
       "    }\n",
       "    if (name === 'key_release') {\n",
       "        this._key = null;\n",
       "    }\n",
       "\n",
       "    var value = '';\n",
       "    if (event.ctrlKey && event.which !== 17) {\n",
       "        value += 'ctrl+';\n",
       "    }\n",
       "    if (event.altKey && event.which !== 18) {\n",
       "        value += 'alt+';\n",
       "    }\n",
       "    if (event.shiftKey && event.which !== 16) {\n",
       "        value += 'shift+';\n",
       "    }\n",
       "\n",
       "    value += 'k';\n",
       "    value += event.which.toString();\n",
       "\n",
       "    this._key_event_extra(event, name);\n",
       "\n",
       "    this.send_message(name, { key: value, guiEvent: simpleKeys(event) });\n",
       "    return false;\n",
       "};\n",
       "\n",
       "mpl.figure.prototype.toolbar_button_onclick = function (name) {\n",
       "    if (name === 'download') {\n",
       "        this.handle_save(this, null);\n",
       "    } else {\n",
       "        this.send_message('toolbar_button', { name: name });\n",
       "    }\n",
       "};\n",
       "\n",
       "mpl.figure.prototype.toolbar_button_onmouseover = function (tooltip) {\n",
       "    this.message.textContent = tooltip;\n",
       "};\n",
       "\n",
       "///////////////// REMAINING CONTENT GENERATED BY embed_js.py /////////////////\n",
       "// prettier-ignore\n",
       "var _JSXTOOLS_RESIZE_OBSERVER=function(A){var t,i=new WeakMap,n=new WeakMap,a=new WeakMap,r=new WeakMap,o=new Set;function s(e){if(!(this instanceof s))throw new TypeError(\"Constructor requires 'new' operator\");i.set(this,e)}function h(){throw new TypeError(\"Function is not a constructor\")}function c(e,t,i,n){e=0 in arguments?Number(arguments[0]):0,t=1 in arguments?Number(arguments[1]):0,i=2 in arguments?Number(arguments[2]):0,n=3 in arguments?Number(arguments[3]):0,this.right=(this.x=this.left=e)+(this.width=i),this.bottom=(this.y=this.top=t)+(this.height=n),Object.freeze(this)}function d(){t=requestAnimationFrame(d);var s=new WeakMap,p=new Set;o.forEach((function(t){r.get(t).forEach((function(i){var r=t instanceof window.SVGElement,o=a.get(t),d=r?0:parseFloat(o.paddingTop),f=r?0:parseFloat(o.paddingRight),l=r?0:parseFloat(o.paddingBottom),u=r?0:parseFloat(o.paddingLeft),g=r?0:parseFloat(o.borderTopWidth),m=r?0:parseFloat(o.borderRightWidth),w=r?0:parseFloat(o.borderBottomWidth),b=u+f,F=d+l,v=(r?0:parseFloat(o.borderLeftWidth))+m,W=g+w,y=r?0:t.offsetHeight-W-t.clientHeight,E=r?0:t.offsetWidth-v-t.clientWidth,R=b+v,z=F+W,M=r?t.width:parseFloat(o.width)-R-E,O=r?t.height:parseFloat(o.height)-z-y;if(n.has(t)){var k=n.get(t);if(k[0]===M&&k[1]===O)return}n.set(t,[M,O]);var S=Object.create(h.prototype);S.target=t,S.contentRect=new c(u,d,M,O),s.has(i)||(s.set(i,[]),p.add(i)),s.get(i).push(S)}))})),p.forEach((function(e){i.get(e).call(e,s.get(e),e)}))}return s.prototype.observe=function(i){if(i instanceof window.Element){r.has(i)||(r.set(i,new Set),o.add(i),a.set(i,window.getComputedStyle(i)));var n=r.get(i);n.has(this)||n.add(this),cancelAnimationFrame(t),t=requestAnimationFrame(d)}},s.prototype.unobserve=function(i){if(i instanceof window.Element&&r.has(i)){var n=r.get(i);n.has(this)&&(n.delete(this),n.size||(r.delete(i),o.delete(i))),n.size||r.delete(i),o.size||cancelAnimationFrame(t)}},A.DOMRectReadOnly=c,A.ResizeObserver=s,A.ResizeObserverEntry=h,A}; // eslint-disable-line\n",
       "mpl.toolbar_items = [[\"Home\", \"Reset original view\", \"fa fa-home icon-home\", \"home\"], [\"Back\", \"Back to previous view\", \"fa fa-arrow-left icon-arrow-left\", \"back\"], [\"Forward\", \"Forward to next view\", \"fa fa-arrow-right icon-arrow-right\", \"forward\"], [\"\", \"\", \"\", \"\"], [\"Pan\", \"Left button pans, Right button zooms\\nx/y fixes axis, CTRL fixes aspect\", \"fa fa-arrows icon-move\", \"pan\"], [\"Zoom\", \"Zoom to rectangle\\nx/y fixes axis, CTRL fixes aspect\", \"fa fa-square-o icon-check-empty\", \"zoom\"], [\"\", \"\", \"\", \"\"], [\"Download\", \"Download plot\", \"fa fa-floppy-o icon-save\", \"download\"]];\n",
       "\n",
       "mpl.extensions = [\"eps\", \"jpeg\", \"pdf\", \"png\", \"ps\", \"raw\", \"svg\", \"tif\"];\n",
       "\n",
       "mpl.default_extension = \"png\";/* global mpl */\n",
       "\n",
       "var comm_websocket_adapter = function (comm) {\n",
       "    // Create a \"websocket\"-like object which calls the given IPython comm\n",
       "    // object with the appropriate methods. Currently this is a non binary\n",
       "    // socket, so there is still some room for performance tuning.\n",
       "    var ws = {};\n",
       "\n",
       "    ws.close = function () {\n",
       "        comm.close();\n",
       "    };\n",
       "    ws.send = function (m) {\n",
       "        //console.log('sending', m);\n",
       "        comm.send(m);\n",
       "    };\n",
       "    // Register the callback with on_msg.\n",
       "    comm.on_msg(function (msg) {\n",
       "        //console.log('receiving', msg['content']['data'], msg);\n",
       "        // Pass the mpl event to the overridden (by mpl) onmessage function.\n",
       "        ws.onmessage(msg['content']['data']);\n",
       "    });\n",
       "    return ws;\n",
       "};\n",
       "\n",
       "mpl.mpl_figure_comm = function (comm, msg) {\n",
       "    // This is the function which gets called when the mpl process\n",
       "    // starts-up an IPython Comm through the \"matplotlib\" channel.\n",
       "\n",
       "    var id = msg.content.data.id;\n",
       "    // Get hold of the div created by the display call when the Comm\n",
       "    // socket was opened in Python.\n",
       "    var element = document.getElementById(id);\n",
       "    var ws_proxy = comm_websocket_adapter(comm);\n",
       "\n",
       "    function ondownload(figure, _format) {\n",
       "        window.open(figure.canvas.toDataURL());\n",
       "    }\n",
       "\n",
       "    var fig = new mpl.figure(id, ws_proxy, ondownload, element);\n",
       "\n",
       "    // Call onopen now - mpl needs it, as it is assuming we've passed it a real\n",
       "    // web socket which is closed, not our websocket->open comm proxy.\n",
       "    ws_proxy.onopen();\n",
       "\n",
       "    fig.parent_element = element;\n",
       "    fig.cell_info = mpl.find_output_cell(\"<div id='\" + id + \"'></div>\");\n",
       "    if (!fig.cell_info) {\n",
       "        console.error('Failed to find cell for figure', id, fig);\n",
       "        return;\n",
       "    }\n",
       "    fig.cell_info[0].output_area.element.on(\n",
       "        'cleared',\n",
       "        { fig: fig },\n",
       "        fig._remove_fig_handler\n",
       "    );\n",
       "};\n",
       "\n",
       "mpl.figure.prototype.handle_close = function (fig, msg) {\n",
       "    var width = fig.canvas.width / fig.ratio;\n",
       "    fig.cell_info[0].output_area.element.off(\n",
       "        'cleared',\n",
       "        fig._remove_fig_handler\n",
       "    );\n",
       "    fig.resizeObserverInstance.unobserve(fig.canvas_div);\n",
       "\n",
       "    // Update the output cell to use the data from the current canvas.\n",
       "    fig.push_to_output();\n",
       "    var dataURL = fig.canvas.toDataURL();\n",
       "    // Re-enable the keyboard manager in IPython - without this line, in FF,\n",
       "    // the notebook keyboard shortcuts fail.\n",
       "    IPython.keyboard_manager.enable();\n",
       "    fig.parent_element.innerHTML =\n",
       "        '<img src=\"' + dataURL + '\" width=\"' + width + '\">';\n",
       "    fig.close_ws(fig, msg);\n",
       "};\n",
       "\n",
       "mpl.figure.prototype.close_ws = function (fig, msg) {\n",
       "    fig.send_message('closing', msg);\n",
       "    // fig.ws.close()\n",
       "};\n",
       "\n",
       "mpl.figure.prototype.push_to_output = function (_remove_interactive) {\n",
       "    // Turn the data on the canvas into data in the output cell.\n",
       "    var width = this.canvas.width / this.ratio;\n",
       "    var dataURL = this.canvas.toDataURL();\n",
       "    this.cell_info[1]['text/html'] =\n",
       "        '<img src=\"' + dataURL + '\" width=\"' + width + '\">';\n",
       "};\n",
       "\n",
       "mpl.figure.prototype.updated_canvas_event = function () {\n",
       "    // Tell IPython that the notebook contents must change.\n",
       "    IPython.notebook.set_dirty(true);\n",
       "    this.send_message('ack', {});\n",
       "    var fig = this;\n",
       "    // Wait a second, then push the new image to the DOM so\n",
       "    // that it is saved nicely (might be nice to debounce this).\n",
       "    setTimeout(function () {\n",
       "        fig.push_to_output();\n",
       "    }, 1000);\n",
       "};\n",
       "\n",
       "mpl.figure.prototype._init_toolbar = function () {\n",
       "    var fig = this;\n",
       "\n",
       "    var toolbar = document.createElement('div');\n",
       "    toolbar.classList = 'btn-toolbar';\n",
       "    this.root.appendChild(toolbar);\n",
       "\n",
       "    function on_click_closure(name) {\n",
       "        return function (_event) {\n",
       "            return fig.toolbar_button_onclick(name);\n",
       "        };\n",
       "    }\n",
       "\n",
       "    function on_mouseover_closure(tooltip) {\n",
       "        return function (event) {\n",
       "            if (!event.currentTarget.disabled) {\n",
       "                return fig.toolbar_button_onmouseover(tooltip);\n",
       "            }\n",
       "        };\n",
       "    }\n",
       "\n",
       "    fig.buttons = {};\n",
       "    var buttonGroup = document.createElement('div');\n",
       "    buttonGroup.classList = 'btn-group';\n",
       "    var button;\n",
       "    for (var toolbar_ind in mpl.toolbar_items) {\n",
       "        var name = mpl.toolbar_items[toolbar_ind][0];\n",
       "        var tooltip = mpl.toolbar_items[toolbar_ind][1];\n",
       "        var image = mpl.toolbar_items[toolbar_ind][2];\n",
       "        var method_name = mpl.toolbar_items[toolbar_ind][3];\n",
       "\n",
       "        if (!name) {\n",
       "            /* Instead of a spacer, we start a new button group. */\n",
       "            if (buttonGroup.hasChildNodes()) {\n",
       "                toolbar.appendChild(buttonGroup);\n",
       "            }\n",
       "            buttonGroup = document.createElement('div');\n",
       "            buttonGroup.classList = 'btn-group';\n",
       "            continue;\n",
       "        }\n",
       "\n",
       "        button = fig.buttons[name] = document.createElement('button');\n",
       "        button.classList = 'btn btn-default';\n",
       "        button.href = '#';\n",
       "        button.title = name;\n",
       "        button.innerHTML = '<i class=\"fa ' + image + ' fa-lg\"></i>';\n",
       "        button.addEventListener('click', on_click_closure(method_name));\n",
       "        button.addEventListener('mouseover', on_mouseover_closure(tooltip));\n",
       "        buttonGroup.appendChild(button);\n",
       "    }\n",
       "\n",
       "    if (buttonGroup.hasChildNodes()) {\n",
       "        toolbar.appendChild(buttonGroup);\n",
       "    }\n",
       "\n",
       "    // Add the status bar.\n",
       "    var status_bar = document.createElement('span');\n",
       "    status_bar.classList = 'mpl-message pull-right';\n",
       "    toolbar.appendChild(status_bar);\n",
       "    this.message = status_bar;\n",
       "\n",
       "    // Add the close button to the window.\n",
       "    var buttongrp = document.createElement('div');\n",
       "    buttongrp.classList = 'btn-group inline pull-right';\n",
       "    button = document.createElement('button');\n",
       "    button.classList = 'btn btn-mini btn-primary';\n",
       "    button.href = '#';\n",
       "    button.title = 'Stop Interaction';\n",
       "    button.innerHTML = '<i class=\"fa fa-power-off icon-remove icon-large\"></i>';\n",
       "    button.addEventListener('click', function (_evt) {\n",
       "        fig.handle_close(fig, {});\n",
       "    });\n",
       "    button.addEventListener(\n",
       "        'mouseover',\n",
       "        on_mouseover_closure('Stop Interaction')\n",
       "    );\n",
       "    buttongrp.appendChild(button);\n",
       "    var titlebar = this.root.querySelector('.ui-dialog-titlebar');\n",
       "    titlebar.insertBefore(buttongrp, titlebar.firstChild);\n",
       "};\n",
       "\n",
       "mpl.figure.prototype._remove_fig_handler = function (event) {\n",
       "    var fig = event.data.fig;\n",
       "    if (event.target !== this) {\n",
       "        // Ignore bubbled events from children.\n",
       "        return;\n",
       "    }\n",
       "    fig.close_ws(fig, {});\n",
       "};\n",
       "\n",
       "mpl.figure.prototype._root_extra_style = function (el) {\n",
       "    el.style.boxSizing = 'content-box'; // override notebook setting of border-box.\n",
       "};\n",
       "\n",
       "mpl.figure.prototype._canvas_extra_style = function (el) {\n",
       "    // this is important to make the div 'focusable\n",
       "    el.setAttribute('tabindex', 0);\n",
       "    // reach out to IPython and tell the keyboard manager to turn it's self\n",
       "    // off when our div gets focus\n",
       "\n",
       "    // location in version 3\n",
       "    if (IPython.notebook.keyboard_manager) {\n",
       "        IPython.notebook.keyboard_manager.register_events(el);\n",
       "    } else {\n",
       "        // location in version 2\n",
       "        IPython.keyboard_manager.register_events(el);\n",
       "    }\n",
       "};\n",
       "\n",
       "mpl.figure.prototype._key_event_extra = function (event, _name) {\n",
       "    var manager = IPython.notebook.keyboard_manager;\n",
       "    if (!manager) {\n",
       "        manager = IPython.keyboard_manager;\n",
       "    }\n",
       "\n",
       "    // Check for shift+enter\n",
       "    if (event.shiftKey && event.which === 13) {\n",
       "        this.canvas_div.blur();\n",
       "        // select the cell after this one\n",
       "        var index = IPython.notebook.find_cell_index(this.cell_info[0]);\n",
       "        IPython.notebook.select(index + 1);\n",
       "    }\n",
       "};\n",
       "\n",
       "mpl.figure.prototype.handle_save = function (fig, _msg) {\n",
       "    fig.ondownload(fig, null);\n",
       "};\n",
       "\n",
       "mpl.find_output_cell = function (html_output) {\n",
       "    // Return the cell and output element which can be found *uniquely* in the notebook.\n",
       "    // Note - this is a bit hacky, but it is done because the \"notebook_saving.Notebook\"\n",
       "    // IPython event is triggered only after the cells have been serialised, which for\n",
       "    // our purposes (turning an active figure into a static one), is too late.\n",
       "    var cells = IPython.notebook.get_cells();\n",
       "    var ncells = cells.length;\n",
       "    for (var i = 0; i < ncells; i++) {\n",
       "        var cell = cells[i];\n",
       "        if (cell.cell_type === 'code') {\n",
       "            for (var j = 0; j < cell.output_area.outputs.length; j++) {\n",
       "                var data = cell.output_area.outputs[j];\n",
       "                if (data.data) {\n",
       "                    // IPython >= 3 moved mimebundle to data attribute of output\n",
       "                    data = data.data;\n",
       "                }\n",
       "                if (data['text/html'] === html_output) {\n",
       "                    return [cell, data, j];\n",
       "                }\n",
       "            }\n",
       "        }\n",
       "    }\n",
       "};\n",
       "\n",
       "// Register the function which deals with the matplotlib target/channel.\n",
       "// The kernel may be null if the page has been refreshed.\n",
       "if (IPython.notebook.kernel !== null) {\n",
       "    IPython.notebook.kernel.comm_manager.register_target(\n",
       "        'matplotlib',\n",
       "        mpl.mpl_figure_comm\n",
       "    );\n",
       "}\n"
      ],
      "text/plain": [
       "<IPython.core.display.Javascript object>"
      ]
     },
     "metadata": {},
     "output_type": "display_data"
    },
    {
     "data": {
      "text/html": [
       "<img src=\"data:image/png;base64,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\" width=\"949.9999858438971\">"
      ],
      "text/plain": [
       "<IPython.core.display.HTML object>"
      ]
     },
     "metadata": {},
     "output_type": "display_data"
    }
   ],
   "source": [
    "energy_tot = tot.fit_hist(out1,\n",
    "             bins=150,\n",
    "             guess=[125,2000,300],\n",
    "             range_show=[80,5000],\n",
    "             range_fit=[2200,2800])\n",
    "\n",
    "fig, axis = plt.subplots(1,1,figsize=(9.5,5))\n",
    "fig.suptitle(\"RUN: %i\" % (run_number))\n",
    "energy_tot.show_data(axis,title=\"Energy Spectrum\",xlabel=\"ToT\",ylabel=\"counts/bin\",pos=[0.5,0.95,\"left\"])\n",
    "#fig.savefig(path_image_out+\"Energy_Spectrum.png\")"
   ]
  },
  {
   "cell_type": "markdown",
   "id": "3aa34ae8",
   "metadata": {},
   "source": [
    "# Selection of zones to compare to MC"
   ]
  },
  {
   "cell_type": "code",
   "execution_count": 111,
   "id": "881f8a2e",
   "metadata": {},
   "outputs": [],
   "source": [
    "low0,high0 = 0,300\n",
    "low1,high1 = 300,1700\n",
    "low2,high2 = 1700,3000\n",
    "low3,high3 = 3000,4250\n",
    "\n",
    "E = tot.data_process(run  = run_number,\n",
    "                     asic = 0,\n",
    "                     path = \"/analysis/\" + str(run_number) + \"/hdf5/proc/linear_interp/files/\",\n",
    "                     path_table = \"/home/vherrero/CALIBRATION_FILES/\",\n",
    "                     file_table = conversion_table,\n",
    "                     path_out_images = path_image_out)\n",
    "#tab_class = tot.ToT2pe_table()\n",
    "#table = tab_class.compute_table(625E3,200E-3)\n",
    "ToT_modes = E.extract_zones(df_out)"
   ]
  },
  {
   "cell_type": "code",
   "execution_count": 113,
   "id": "7536404f",
   "metadata": {},
   "outputs": [
    {
     "name": "stdout",
     "output_type": "stream",
     "text": [
      "[39.18616035 46.72782702 56.35282702 78.35282702]\n"
     ]
    }
   ],
   "source": [
    "PE_goal = np.array([20.03, 44.68, 70.12, 134.93])\n",
    "PE_modes  = np.array([tot.ToT2pe(i,table) for i in ToT_modes])"
   ]
  },
  {
   "cell_type": "markdown",
   "id": "0865e3d6",
   "metadata": {},
   "source": [
    "# EXPONENTIAL FIT SOLUTION"
   ]
  },
  {
   "cell_type": "code",
   "execution_count": 116,
   "id": "067036de",
   "metadata": {
    "scrolled": false
   },
   "outputs": [
    {
     "name": "stdout",
     "output_type": "stream",
     "text": [
      "   Iteration     Total nfev        Cost      Cost reduction    Step norm     Optimality   \n",
      "       0              1         2.3656e+76                                    2.41e+80    \n",
      "       1              2         3.2801e+75      2.04e+76       1.09e-01       3.26e+79    \n",
      "       2              3         4.5495e+74      2.83e+75       1.12e-01       4.41e+78    \n",
      "       3              4         6.3121e+73      3.92e+74       1.14e-01       5.97e+77    \n",
      "       4              5         8.7601e+72      5.44e+73       1.17e-01       8.08e+76    \n",
      "       5              6         1.2161e+72      7.54e+72       1.20e-01       1.09e+76    \n",
      "       6              7         1.6889e+71      1.05e+72       1.23e-01       1.48e+75    \n",
      "       7              8         2.3462e+70      1.45e+71       1.26e-01       2.00e+74    \n",
      "       8              9         3.2604e+69      2.02e+70       1.30e-01       2.71e+73    \n",
      "       9             10         4.5325e+68      2.81e+69       1.33e-01       3.67e+72    \n",
      "      10             11         6.3031e+67      3.90e+68       1.37e-01       4.96e+71    \n",
      "      11             12         8.7686e+66      5.43e+67       1.40e-01       6.72e+70    \n",
      "      12             13         1.2203e+66      7.55e+66       1.44e-01       9.09e+69    \n",
      "      13             14         1.6990e+65      1.05e+66       1.48e-01       1.23e+69    \n",
      "      14             15         2.3663e+64      1.46e+65       1.52e-01       1.67e+68    \n",
      "      15             16         3.2972e+63      2.04e+64       1.57e-01       2.25e+67    \n",
      "      16             17         4.5961e+62      2.84e+63       1.61e-01       3.05e+66    \n",
      "      17             18         6.4096e+61      3.96e+62       1.66e-01       4.13e+65    \n",
      "      18             19         8.9426e+60      5.52e+61       1.71e-01       5.59e+64    \n",
      "      19             20         1.2482e+60      7.69e+60       1.76e-01       7.56e+63    \n",
      "      20             21         1.7432e+59      1.07e+60       1.82e-01       1.02e+63    \n",
      "      21             22         2.4356e+58      1.50e+59       1.88e-01       1.39e+62    \n",
      "      22             23         3.4047e+57      2.10e+58       1.94e-01       1.88e+61    \n",
      "      23             24         4.7619e+56      2.93e+57       2.00e-01       2.54e+60    \n",
      "      24             25         6.6637e+55      4.10e+56       2.06e-01       3.44e+59    \n",
      "      25             26         9.3304e+54      5.73e+55       2.13e-01       4.65e+58    \n",
      "      26             27         1.3072e+54      8.02e+54       2.21e-01       6.29e+57    \n",
      "      27             28         1.8324e+53      1.12e+54       2.28e-01       8.52e+56    \n",
      "      28             29         2.5703e+52      1.58e+53       2.36e-01       1.15e+56    \n",
      "      29             30         3.6077e+51      2.21e+52       2.45e-01       1.56e+55    \n",
      "      30             31         5.0670e+50      3.10e+51       2.54e-01       2.11e+54    \n",
      "      31             32         7.1216e+49      4.35e+50       2.63e-01       2.86e+53    \n",
      "      32             33         1.0016e+49      6.12e+49       2.73e-01       3.87e+52    \n",
      "      33             34         1.4098e+48      8.61e+48       2.84e-01       5.24e+51    \n",
      "      34             35         1.9859e+47      1.21e+48       2.95e-01       7.09e+50    \n",
      "      35             36         2.7996e+46      1.71e+47       3.07e-01       9.59e+49    \n",
      "      36             37         3.9499e+45      2.40e+46       3.19e-01       1.30e+49    \n",
      "      37             38         5.5778e+44      3.39e+45       3.33e-01       1.76e+48    \n",
      "      38             39         7.8837e+43      4.79e+44       3.47e-01       2.38e+47    \n",
      "      39             40         1.1153e+43      6.77e+43       3.62e-01       3.22e+46    \n",
      "      40             41         1.5794e+42      9.57e+42       3.78e-01       4.36e+45    \n",
      "      41             42         2.2390e+41      1.36e+42       3.95e-01       5.90e+44    \n",
      "      42             43         3.1773e+40      1.92e+41       4.14e-01       7.98e+43    \n",
      "      43             44         4.5139e+39      2.73e+40       4.33e-01       1.08e+43    \n",
      "      44             45         6.4204e+38      3.87e+39       4.54e-01       1.46e+42    \n",
      "      45             46         9.1434e+37      5.51e+38       4.77e-01       1.98e+41    \n",
      "      46             47         1.3038e+37      7.84e+37       5.01e-01       2.68e+40    \n",
      "      47             48         1.8617e+36      1.12e+37       5.28e-01       3.63e+39    \n",
      "      48             49         2.6621e+35      1.60e+36       5.56e-01       4.91e+38    \n",
      "      49             50         3.8124e+34      2.28e+35       5.87e-01       6.65e+37    \n",
      "      50             51         5.4684e+33      3.27e+34       6.20e-01       9.00e+36    \n",
      "      51             52         7.8570e+32      4.68e+33       6.56e-01       1.22e+36    \n",
      "      52             53         1.1309e+32      6.73e+32       6.95e-01       1.65e+35    \n",
      "      53             54         1.6309e+31      9.68e+31       7.38e-01       2.23e+34    \n",
      "      54             55         2.3566e+30      1.40e+31       7.85e-01       3.02e+33    \n",
      "      55             56         3.4124e+29      2.02e+30       8.37e-01       4.09e+32    \n",
      "      56             57         4.9527e+28      2.92e+29       8.93e-01       5.54e+31    \n",
      "      57             58         7.2056e+27      4.23e+28       9.56e-01       7.50e+30    \n",
      "      58             59         1.0511e+27      6.15e+27       1.03e+00       1.01e+30    \n",
      "      59             60         1.5374e+26      8.97e+26       1.10e+00       1.37e+29    \n",
      "      60             61         2.2556e+25      1.31e+26       1.19e+00       1.86e+28    \n",
      "      61             62         3.3201e+24      1.92e+25       1.28e+00       2.52e+27    \n",
      "      62             63         4.9039e+23      2.83e+24       1.39e+00       3.41e+26    \n",
      "      63             64         7.2708e+22      4.18e+23       1.51e+00       4.62e+25    \n",
      "      64             65         1.0825e+22      6.19e+22       1.65e+00       6.25e+24    \n",
      "      65             66         1.6189e+21      9.21e+21       1.81e+00       8.47e+23    \n",
      "      66             67         2.4331e+20      1.38e+21       1.99e+00       1.15e+23    \n",
      "      67             68         3.6769e+19      2.07e+20       2.20e+00       1.55e+22    \n",
      "      68             69         5.5903e+18      3.12e+19       2.45e+00       2.10e+21    \n",
      "      69             70         8.5574e+17      4.73e+18       2.74e+00       2.85e+20    \n",
      "      70             71         1.3200e+17      7.24e+17       3.08e+00       3.86e+19    \n",
      "      71             72         2.0539e+16      1.11e+17       3.49e+00       5.23e+18    \n",
      "      72             73         3.2280e+15      1.73e+16       3.98e+00       7.08e+17    \n",
      "      73             74         5.1329e+14      2.71e+15       4.59e+00       9.61e+16    \n",
      "      74             75         8.2758e+13      4.31e+14       5.35e+00       1.30e+16    \n",
      "      75             76         1.3567e+13      6.92e+13       6.32e+00       1.77e+15    \n",
      "      76             77         2.2698e+12      1.13e+13       7.56e+00       2.41e+14    \n",
      "      77             78         3.8936e+11      1.88e+12       9.19e+00       3.28e+13    \n",
      "      78             79         6.8887e+10      3.20e+11       1.13e+01       4.47e+12    \n",
      "      79             80         1.2657e+10      5.62e+10       1.42e+01       6.11e+11    \n",
      "      80             81         2.4326e+09      1.02e+10       1.81e+01       8.36e+10    \n",
      "      81             82         4.9203e+08      1.94e+09       2.33e+01       1.14e+10    \n",
      "      82             83         1.0506e+08      3.87e+08       3.04e+01       1.56e+09    \n",
      "      83             84         2.3622e+07      8.14e+07       3.97e+01       2.09e+08    \n",
      "      84             85         5.5140e+06      1.81e+07       5.09e+01       2.75e+07    \n",
      "      85             86         1.2891e+06      4.22e+06       6.05e+01       3.55e+06    \n",
      "      86             87         2.8223e+05      1.01e+06       6.14e+01       7.76e+05    \n",
      "      87             88         5.2214e+04      2.30e+05       4.96e+01       1.94e+05    \n",
      "      88             89         7.1879e+03      4.50e+04       3.08e+01       4.47e+04    \n",
      "      89             90         1.1670e+03      6.02e+03       1.20e+01       7.84e+03    \n",
      "      90             91         7.2485e+02      4.42e+02       1.94e+01       1.97e+03    \n",
      "      91             92         6.0955e+02      1.15e+02       1.46e+02       1.77e+04    \n",
      "      92             93         1.7084e+01      5.92e+02       7.38e+00       1.20e+03    \n",
      "      93             94         7.0246e+00      1.01e+01       5.05e+00       8.14e+01    \n",
      "      94             95         6.4923e+00      5.32e-01       2.55e+00       2.58e+00    \n",
      "      95             96         6.4923e+00      1.57e-05       7.34e-04       5.54e-05    \n",
      "      96             97         6.4923e+00      4.55e-13       2.66e-06       8.34e-05    \n",
      "Both `ftol` and `xtol` termination conditions are satisfied.\n",
      "Function evaluations 97, initial cost 2.3656e+76, final cost 6.4923e+00, first-order optimality 8.34e-05.\n"
     ]
    }
   ],
   "source": [
    "tab_class = tot.ToT2pe_table()\n",
    "\n",
    "def func_lsqr(param, ToT_inputs, PE_goal):\n",
    "    BW     = param[0]\n",
    "    T2_eff = param[1]\n",
    "    \n",
    "    #table = tab_class.compute_table(BW,T2_eff)\n",
    "    #PE_modes  = np.array([tot.ToT2pe(i,table) for i in ToT_inputs])   \n",
    "    PE_modes = tot.exp_pure(ToT_inputs*5,T2_eff,BW)\n",
    "    \n",
    "    res = (PE_goal - PE_modes)*np.array([1,3,3,1])\n",
    "    \n",
    "    #print('iteration')\n",
    "\n",
    "    return res\n",
    "\n",
    "\n",
    "#coeff = least_squares(  func_lsqr, x0=[625E3,200E-3], args = (ToT_modes,PE_goal),\n",
    "#                            bounds=[[500E3,10E-3],[1E6,500E-3]],\n",
    "#                            verbose=2\n",
    "                            #ftol=1e-10,\n",
    "                            #xtol=1e-10,\n",
    "                            #gtol=None\n",
    "#               )\n",
    "coeff = least_squares(  func_lsqr, x0=[8,255], args = (ToT_modes,PE_goal),\n",
    "                            bounds=[[0,0],[500,500]],\n",
    "                            verbose=2\n",
    "                            #ftol=1e-10,\n",
    "                            #xtol=1e-10,\n",
    "                            #gtol=None\n",
    "               )\n"
   ]
  },
  {
   "cell_type": "code",
   "execution_count": 117,
   "id": "bef16d15",
   "metadata": {},
   "outputs": [
    {
     "name": "stdout",
     "output_type": "stream",
     "text": [
      "[ 23.11388262  44.13354615  70.40352619 134.67844395] [ 20.03  44.68  70.12 134.93]\n"
     ]
    }
   ],
   "source": [
    "#table = tab_class.compute_table(coeff['x'][0],coeff['x'][1])\n",
    "#PE_modes  = np.array([tot.ToT2pe(i,table) for i in ToT_modes])\n",
    "PE_modes = tot.exp_pure(ToT_modes*5,coeff['x'][1],coeff['x'][0])\n",
    "\n",
    "print(PE_modes, PE_goal)"
   ]
  },
  {
   "cell_type": "code",
   "execution_count": 118,
   "id": "c05d4673",
   "metadata": {},
   "outputs": [
    {
     "name": "stdout",
     "output_type": "stream",
     "text": [
      "[268.23659815  11.42032683]\n"
     ]
    }
   ],
   "source": [
    "print(coeff['x'])"
   ]
  },
  {
   "cell_type": "code",
   "execution_count": null,
   "id": "5ed11fe8",
   "metadata": {},
   "outputs": [
    {
     "name": "stdout",
     "output_type": "stream",
     "text": [
      "   Iteration     Total nfev        Cost      Cost reduction    Step norm     Optimality   \n",
      "       0              1         2.2230e-01                                    1.15e-01    \n",
      "       1              2         2.0718e-01      1.51e-02       3.17e+04       1.56e-02    \n"
     ]
    }
   ],
   "source": [
    "tab_class = tot.ToT2pe_table(channel_model=tot.channel_shaped_spe)\n",
    "\n",
    "def table_lsqr(param, ToT_inputs, PE_goal):\n",
    "    BW     = param[0]\n",
    "    T2_eff = param[1]\n",
    "    #os     = param[2]\n",
    "    \n",
    "    table = tab_class.compute_table(BW=BW,T2_eff=T2_eff)\n",
    "    PE_modes  = np.array([tot.ToT2pe(i,table) for i in ToT_inputs])   \n",
    "        \n",
    "    res = ((PE_goal - PE_modes)/PE_goal)*np.array([0.5,0.5,1,1])\n",
    "    \n",
    "    return res\n",
    "\n",
    "\n",
    "coeff = least_squares(  table_lsqr, x0=[625E3,200E-3], args = (ToT_modes,PE_goal),\n",
    "                            bounds=[[500E3,100E-3],[800E3,300E-3]],\n",
    "                            verbose=2\n",
    "                            #ftol=1e-10,\n",
    "                            #xtol=1e-10,\n",
    "                            #gtol=None\n",
    "               )\n"
   ]
  },
  {
   "cell_type": "code",
   "execution_count": null,
   "id": "da23909c",
   "metadata": {},
   "outputs": [],
   "source": [
    "table = tab_class.compute_table(BW=coeff['x'][0],T2_eff=coeff['x'][1])\n",
    "PE_modes  = np.array([tot.ToT2pe(i,table) for i in ToT_modes])\n",
    "\n",
    "print(PE_modes)\n",
    "print(PE_goal)\n",
    "print(coeff['x'])"
   ]
  },
  {
   "cell_type": "markdown",
   "id": "7a756a1d",
   "metadata": {},
   "source": [
    "### Store Data  \n",
    "with pd.HDFStore(file_preprocessed,'w',complib=\"zlib\",complevel=4) as storage:\n",
    "    storage.put('red', df_red,format='table',data_columns=True)\n",
    "    storage.put('grey',df_grey,format='table',data_columns=True)\n",
    "    storage.put('blue',df_blue,format='table',data_columns=True)\n",
    "    storage.put('max_red' , max_red,format='table',data_columns=True)\n",
    "    storage.put('max_grey', max_grey,format='table',data_columns=True)\n",
    "    storage.put('max_blue', max_blue,format='table',data_columns=True)"
   ]
  },
  {
   "cell_type": "markdown",
   "id": "00b43e37",
   "metadata": {},
   "source": [
    "### Read Data\n",
    "with pd.HDFStore(file_preprocessed,'r',complib=\"zlib\",complevel=4) as storage:\n",
    "    keys = storage.keys()\n",
    "    print(keys)\n",
    "    df_red = pd.read_hdf(file_preprocessed,'red')\n",
    "    df_grey = pd.read_hdf(file_preprocessed,'grey')\n",
    "    df_blue = pd.read_hdf(file_preprocessed,'blue')\n",
    "    max_red  = pd.read_hdf(file_preprocessed,'max_red')\n",
    "    max_grey  = pd.read_hdf(file_preprocessed,'max_grey')\n",
    "    max_blue  = pd.read_hdf(file_preprocessed,'max_blue')\n",
    "    "
   ]
  }
 ],
 "metadata": {
  "kernelspec": {
   "display_name": "Python 3",
   "language": "python",
   "name": "python3"
  },
  "language_info": {
   "codemirror_mode": {
    "name": "ipython",
    "version": 3
   },
   "file_extension": ".py",
   "mimetype": "text/x-python",
   "name": "python",
   "nbconvert_exporter": "python",
   "pygments_lexer": "ipython3",
   "version": "3.8.5"
  }
 },
 "nbformat": 4,
 "nbformat_minor": 5
}
